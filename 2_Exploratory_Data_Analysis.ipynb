{
 "cells": [
  {
   "cell_type": "markdown",
   "id": "45830074-4eab-4829-b685-043f728f87df",
   "metadata": {},
   "source": [
    "## Python Modules"
   ]
  },
  {
   "cell_type": "code",
   "execution_count": 1,
   "id": "e4aff792-d83b-4a5b-982e-68682d11896c",
   "metadata": {
    "tags": []
   },
   "outputs": [],
   "source": [
    "import os\n",
    "import pandas as pd\n",
    "import numpy as np\n",
    "import ast\n",
    "\n",
    "from unidecode import unidecode\n",
    "from collections import Counter\n",
    "\n",
    "import plotly.graph_objs as go\n",
    "import plotly.express as px\n",
    "\n",
    "import matplotlib.pyplot as plt\n",
    "import seaborn as sns"
   ]
  },
  {
   "cell_type": "markdown",
   "id": "c7417be8-7527-4f3b-a7f7-f12c5ef8f37d",
   "metadata": {},
   "source": [
    "## Transform dataset"
   ]
  },
  {
   "cell_type": "code",
   "execution_count": 8,
   "id": "26f8136b-f41d-488a-ba2a-dfbead2a31e0",
   "metadata": {
    "tags": []
   },
   "outputs": [
    {
     "name": "stdout",
     "output_type": "stream",
     "text": [
      "    Fecha_Publicacion                                     data_tokenized\n",
      "0 2024-01-20 12:32:00  [anuncio, invertirar, 516, obra, infraestructu...\n",
      "1 2024-01-05 05:59:00  [conversacion, narcotraficante, leandro, norer...\n",
      "2 2023-12-11 15:26:00  [agencia, regulacion, control, fito, zoosanita...\n",
      "3 2023-08-26 16:59:00  [incautar, 501, tonelada, droga, ultimo, 27, m...\n",
      "4 2023-05-09 16:41:00  [despu, cinco, dictar, sentencia, caso, odebre...\n"
     ]
    }
   ],
   "source": [
    "file_fw = os.path.join('data', 'processed', 'dataset_fw.csv')\n",
    "\n",
    "def parse_array_string(array_string):\n",
    "    try:\n",
    "        return ast.literal_eval(array_string)\n",
    "    except ValueError:\n",
    "        return []\n",
    "\n",
    "dataset_fw = pd.read_csv(file_fw, converters={'data_tokenized': parse_array_string})\n",
    "dataset_fw['Fecha_Publicacion'] = pd.to_datetime(dataset_fw['Fecha_Publicacion'])\n",
    "\n",
    "print(dataset_fw.head())"
   ]
  },
  {
   "cell_type": "code",
   "execution_count": 9,
   "id": "5afa4f42",
   "metadata": {},
   "outputs": [],
   "source": [
    "words_day = dataset_fw.groupby([dataset_fw['Fecha_Publicacion'].dt.year, dataset_fw['Fecha_Publicacion'].dt.month])['data_tokenized'].sum()"
   ]
  },
  {
   "cell_type": "markdown",
   "id": "0ae2faa4-0e77-4423-a0df-85430f65cc04",
   "metadata": {},
   "source": [
    "## Word frequency"
   ]
  },
  {
   "cell_type": "markdown",
   "id": "bd4a35c4-5893-471a-9e4a-9f21f69d304e",
   "metadata": {},
   "source": [
    "### Diario"
   ]
  },
  {
   "cell_type": "code",
   "execution_count": 10,
   "id": "05d49fc5-9eea-4a08-a520-3ccf3027696f",
   "metadata": {},
   "outputs": [],
   "source": [
    "dataset_fw_day = dataset_fw.copy()\n",
    "dataset_fw_day.set_index('Fecha_Publicacion', inplace=True)\n",
    "\n",
    "## Division por Day\n",
    "# grouped_data_day = dataset_fw_day.resample('D')['data_tokenized'].sum()\n",
    "grouped_data_day = dataset_fw_day.resample('D')['data_tokenized'].agg(lambda x: sum(x, []) if all(isinstance(i, list) for i in x) else [])\n"
   ]
  },
  {
   "cell_type": "markdown",
   "id": "84edd83d-7f75-4b4c-8bd9-e8008fd2e65a",
   "metadata": {},
   "source": [
    "### Semanal"
   ]
  },
  {
   "cell_type": "code",
   "execution_count": 11,
   "id": "514e028f-a055-4e87-b9d6-677c40fa8825",
   "metadata": {
    "tags": []
   },
   "outputs": [],
   "source": [
    "dataset_fw_week = dataset_fw.copy()\n",
    "dataset_fw_week.set_index('Fecha_Publicacion', inplace=True)\n",
    "\n",
    "## Division por Week\n",
    "grouped_data_week = dataset_fw_week.resample('W')['data_tokenized'].sum()"
   ]
  },
  {
   "cell_type": "markdown",
   "id": "e0b24641-c1c8-4015-a904-7085ec30229e",
   "metadata": {},
   "source": [
    "### Mensual"
   ]
  },
  {
   "cell_type": "code",
   "execution_count": 12,
   "id": "dcaf945e-f190-4150-b65f-1edc3ad27171",
   "metadata": {},
   "outputs": [
    {
     "name": "stderr",
     "output_type": "stream",
     "text": [
      "C:\\Users\\Alexis\\AppData\\Local\\Temp\\ipykernel_16780\\2105302968.py:6: FutureWarning: 'M' is deprecated and will be removed in a future version, please use 'ME' instead.\n",
      "  grouped_data_month = dataset_fw_month.resample('M')['data_tokenized'].sum()\n"
     ]
    }
   ],
   "source": [
    "dataset_fw_month = dataset_fw.copy()\n",
    "dataset_fw_month.set_index('Fecha_Publicacion', inplace=True)\n",
    "\n",
    "## Division por Month\n",
    "# ME o M dependiendo de la version\n",
    "grouped_data_month = dataset_fw_month.resample('M')['data_tokenized'].sum() "
   ]
  },
  {
   "cell_type": "markdown",
   "id": "ab52c35b-ad80-4526-af58-89a3232a8cf7",
   "metadata": {},
   "source": [
    "### Trimestral"
   ]
  },
  {
   "cell_type": "code",
   "execution_count": 29,
   "id": "ca8e3020-e78c-4fcc-85e1-e62a4dae636d",
   "metadata": {},
   "outputs": [
    {
     "name": "stderr",
     "output_type": "stream",
     "text": [
      "C:\\Users\\Alexis\\AppData\\Local\\Temp\\ipykernel_1196\\30653298.py:6: FutureWarning:\n",
      "\n",
      "'M' is deprecated and will be removed in a future version, please use 'ME' instead.\n",
      "\n"
     ]
    }
   ],
   "source": [
    "dataset_fw_3m = dataset_fw.copy()\n",
    "dataset_fw_3m.set_index('Fecha_Publicacion', inplace=True)\n",
    "\n",
    "## Division por quarterly\n",
    "# QE o 3M dependiendo de la version\n",
    "grouped_data_3m = dataset_fw_3m.resample('3M')['data_tokenized'].sum()"
   ]
  },
  {
   "cell_type": "markdown",
   "id": "0203c122-42b2-4ed5-9d22-7d5fdc8026f9",
   "metadata": {},
   "source": [
    "## Frequency"
   ]
  },
  {
   "cell_type": "code",
   "execution_count": null,
   "id": "a2ab03d5-694d-4659-8e66-7288588ec2f5",
   "metadata": {
    "tags": []
   },
   "outputs": [],
   "source": [
    "## Barras Horizontales\n",
    "for (year, month), data_tokenized in words_day.items():\n",
    "    print(f'Year: {year}, Month: {month}')\n",
    "    \n",
    "    word_counts = Counter(data_tokenized)\n",
    "    sorted_word_counts = dict(sorted(word_counts.items(), key=lambda item: item[1], reverse=True))\n",
    "    idx_start  = 0\n",
    "    idx_finish = 30\n",
    "    top_words  = dict(list(sorted_word_counts.items())[idx_start:idx_finish])\n",
    "    colors = [count for word, count in sorted_word_counts.items()]\n",
    "    \n",
    "    fig = go.Figure(go.Bar(\n",
    "        y = list(top_words.keys()),\n",
    "        x = list(top_words.values()),\n",
    "        orientation='h',  # Horizontal\n",
    "        marker=dict(color=list(top_words.values()), colorscale='greens')\n",
    "    ))\n",
    "\n",
    "    fig.update_layout(\n",
    "        title = f'Top {idx_finish-idx_start} Word Frequency - Year: {year}, Month: {month}',\n",
    "        xaxis_title = 'Frequency',\n",
    "        yaxis_title = 'Words',\n",
    "        yaxis  = dict(autorange=\"reversed\"), \n",
    "        height = max(600, len(top_words) * 25) \n",
    "    )\n",
    "\n",
    "    fig.show()"
   ]
  },
  {
   "cell_type": "code",
   "execution_count": null,
   "id": "b41e7cba-2f3e-4a6f-ad91-70dc8385009d",
   "metadata": {},
   "outputs": [],
   "source": [
    "## Barras verticales\n",
    "idx_start  = 0\n",
    "idx_finish = 50\n",
    "\n",
    "for period, data_tokenized in grouped_data_day.items():\n",
    "    year  = period.year\n",
    "    month = period.month\n",
    "    day   = period.day\n",
    "    \n",
    "    print(f'Year: {year}, Month: {month}, Day: {day}')\n",
    "    \n",
    "    word_counts = Counter(data_tokenized)\n",
    "    sorted_word_counts = dict(sorted(word_counts.items(), key=lambda item: item[1], reverse=True))\n",
    "    top_words = dict(list(sorted_word_counts.items())[idx_start:idx_finish])\n",
    "    \n",
    "    fig = go.Figure(data=[go.Bar(\n",
    "        x=list(top_words.keys()),\n",
    "        y=list(top_words.values()),\n",
    "        marker=dict(\n",
    "            color=list(top_words.values()),\n",
    "            coloraxis='coloraxis' \n",
    "        ),\n",
    "    )])\n",
    "    \n",
    "    fig.update_layout(\n",
    "        title=f'Top {idx_finish-idx_start} Word Frequency - Year: {year}, Month: {month}, Day: {day}',\n",
    "        xaxis=dict(\n",
    "            title='Words',\n",
    "            tickangle=-45 \n",
    "        ),\n",
    "        yaxis=dict(title='Frequency'),\n",
    "        coloraxis=dict(\n",
    "            colorbar=dict(\n",
    "                title='Frecuencia'\n",
    "            ),\n",
    "            colorscale='Plasma' \n",
    "        ),\n",
    "        template='plotly_white',\n",
    "        #margin=dict(l=50, r=50, t=100, b=150)  # Ajustar márgenes\n",
    "    )\n",
    "    \n",
    "    fig.show()"
   ]
  },
  {
   "cell_type": "code",
   "execution_count": null,
   "id": "9d470db9-f711-4a21-9831-1d19c1dca936",
   "metadata": {},
   "outputs": [],
   "source": [
    "## Barras verticales\n",
    "idx_start  = 0\n",
    "idx_finish = 50\n",
    "\n",
    "for period, data_tokenized in grouped_data_week.items():\n",
    "    year = period.year\n",
    "    month = period.month\n",
    "    week  = period.isocalendar()[1]\n",
    "    #week = period.week\n",
    "    \n",
    "    print(f'Year: {year}, Month: {month}, Week: {week}')\n",
    "    \n",
    "    word_counts = Counter(data_tokenized)\n",
    "    sorted_word_counts = dict(sorted(word_counts.items(), key=lambda item: item[1], reverse=True))\n",
    "    top_words = dict(list(sorted_word_counts.items())[idx_start:idx_finish])\n",
    "    \n",
    "    fig = go.Figure(data=[go.Bar(\n",
    "        x=list(top_words.keys()),\n",
    "        y=list(top_words.values()),\n",
    "        marker=dict(\n",
    "            color=list(top_words.values()),\n",
    "            coloraxis='coloraxis' \n",
    "        ),\n",
    "    )])\n",
    "    \n",
    "    fig.update_layout(\n",
    "        title=f'Top {idx_finish-idx_start} Word Frequency - Year: {year}, Month: {month}, Week: {week}',\n",
    "        xaxis=dict(\n",
    "            title='Words',\n",
    "            tickangle=-45 \n",
    "        ),\n",
    "        yaxis=dict(title='Frequency'),\n",
    "        coloraxis=dict(\n",
    "            colorbar=dict(\n",
    "                title='Frecuencia'\n",
    "            ),\n",
    "            colorscale='Plasma' \n",
    "        ),\n",
    "        template='plotly_white',\n",
    "        #margin=dict(l=50, r=50, t=100, b=150)  # Ajustar márgenes\n",
    "    )\n",
    "    \n",
    "    fig.show()"
   ]
  },
  {
   "cell_type": "code",
   "execution_count": null,
   "id": "23701b9f-3d7e-4003-9497-6bd8ca32eca3",
   "metadata": {},
   "outputs": [],
   "source": [
    "## Barras verticales\n",
    "idx_start  = 0\n",
    "idx_finish = 50\n",
    "\n",
    "for period, data_tokenized in grouped_data_month.items():\n",
    "    year = period.year\n",
    "    month = period.month\n",
    "\n",
    "    print(f'Year: {year}, Month: {month}')\n",
    "    \n",
    "    word_counts = Counter(data_tokenized)\n",
    "    sorted_word_counts = dict(sorted(word_counts.items(), key=lambda item: item[1], reverse=True))\n",
    "    top_words = dict(list(sorted_word_counts.items())[idx_start:idx_finish])\n",
    "    \n",
    "    fig = go.Figure(data=[go.Bar(\n",
    "        x=list(top_words.keys()),\n",
    "        y=list(top_words.values()),\n",
    "        marker=dict(\n",
    "            color=list(top_words.values()),\n",
    "            coloraxis='coloraxis' \n",
    "        ),\n",
    "    )])\n",
    "    \n",
    "    fig.update_layout(\n",
    "        title=f'Top {idx_finish-idx_start} Word Frequency - Year: {year}, Month: {month}',\n",
    "        xaxis=dict(\n",
    "            title='Words',\n",
    "            tickangle=-45 \n",
    "        ),\n",
    "        yaxis=dict(title='Frequency'),\n",
    "        coloraxis=dict(\n",
    "            colorbar=dict(\n",
    "                title='Frecuencia'\n",
    "            ),\n",
    "            colorscale='Plasma' \n",
    "        ),\n",
    "        template='plotly_white',\n",
    "        #margin=dict(l=50, r=50, t=100, b=150)  # Ajustar márgenes\n",
    "    )\n",
    "    \n",
    "    fig.show()"
   ]
  },
  {
   "cell_type": "code",
   "execution_count": null,
   "id": "134abdfe-f2ee-44e4-bf11-701b4ca80618",
   "metadata": {},
   "outputs": [],
   "source": [
    "## Barras verticales\n",
    "idx_start  = 0\n",
    "idx_finish = 50\n",
    "\n",
    "for period, data_tokenized in grouped_data_3m.items():\n",
    "    year = period.year\n",
    "    quarter = period.quarter\n",
    "    \n",
    "    print(f'Year: {year}, Quarter: {quarter}')\n",
    "\n",
    "    word_counts = Counter(data_tokenized)\n",
    "    sorted_word_counts = dict(sorted(word_counts.items(), key=lambda item: item[1], reverse=True))\n",
    "    top_words = dict(list(sorted_word_counts.items())[idx_start:idx_finish])\n",
    "    \n",
    "    fig = go.Figure(data=[go.Bar(\n",
    "        x=list(top_words.keys()),\n",
    "        y=list(top_words.values()),\n",
    "        marker=dict(\n",
    "            color=list(top_words.values()),\n",
    "            coloraxis='coloraxis' \n",
    "        ),\n",
    "    )])\n",
    "    \n",
    "    fig.update_layout(\n",
    "        title=f'Top {idx_finish-idx_start} Word Frequency - Year: {year}, Quarter: {quarter}',\n",
    "        xaxis=dict(\n",
    "            title='Words',\n",
    "            tickangle=-45 \n",
    "        ),\n",
    "        yaxis=dict(title='Frequency'),\n",
    "        coloraxis=dict(\n",
    "            colorbar=dict(\n",
    "                title='Frecuencia'\n",
    "            ),\n",
    "            colorscale='Plasma' \n",
    "        ),\n",
    "        template='plotly_white',\n",
    "        #margin=dict(l=50, r=50, t=100, b=150)  # Ajustar márgenes\n",
    "    )\n",
    "    \n",
    "    fig.show()"
   ]
  },
  {
   "cell_type": "markdown",
   "id": "0abf426c-32a4-4ab6-a3c7-ad9c334fee16",
   "metadata": {},
   "source": [
    "## Frequency of word"
   ]
  },
  {
   "cell_type": "code",
   "execution_count": null,
   "id": "cced7b60-8961-4949-bd36-978433926277",
   "metadata": {},
   "outputs": [],
   "source": [
    "query_word = 'luz'\n",
    "frecuencias_por_dia = []\n",
    "\n",
    "for data_tokenized in grouped_data_day:\n",
    "    if isinstance(data_tokenized, list):  # Verificar que sea una lista\n",
    "        word_counts = Counter(data_tokenized)\n",
    "        frecuencias_por_dia.append(word_counts[query_word])\n",
    "    else:\n",
    "        frecuencias_por_dia.append(0)\n",
    "\n",
    "# Normalizar los colores en base a la frecuencia max\n",
    "max_frecuencia = max(frecuencias_por_dia)\n",
    "colors = [frecuencia / max_frecuencia for frecuencia in frecuencias_por_dia]\n",
    "\n",
    "fig = go.Figure()\n",
    "fig.add_trace(go.Bar(\n",
    "    x=grouped_data_day.index,\n",
    "    y=frecuencias_por_dia,\n",
    "    marker=dict(\n",
    "        color=frecuencias_por_dia,\n",
    "        colorscale='Viridis', \n",
    "        colorbar=dict(title='Frecuencia')\n",
    "    ),\n",
    "))\n",
    "\n",
    "fig.update_layout(\n",
    "    title=f'Frecuencia de \"{query_word}\" por día',\n",
    "    xaxis_title='Día',\n",
    "    yaxis_title='Frecuencia',\n",
    "    xaxis=dict(tickangle=45),\n",
    ")\n",
    "\n",
    "fig.show()"
   ]
  },
  {
   "cell_type": "code",
   "execution_count": 8,
   "id": "554f3996-1b60-4a81-ad09-24786a1fed83",
   "metadata": {},
   "outputs": [
    {
     "data": {
      "application/vnd.plotly.v1+json": {
       "config": {
        "plotlyServerURL": "https://plot.ly"
       },
       "data": [
        {
         "marker": {
          "color": [
           2,
           1,
           0,
           1,
           0,
           2,
           1,
           0,
           0,
           0,
           4,
           4,
           0,
           1,
           1,
           2,
           3,
           1,
           2,
           4,
           0,
           1,
           0,
           1,
           1,
           0,
           0,
           1,
           0,
           6,
           1,
           0,
           0,
           0,
           1,
           2,
           2,
           1,
           1,
           0,
           3,
           3,
           0,
           0,
           3,
           1,
           1,
           6,
           2,
           4,
           3,
           1,
           0,
           1,
           1,
           1,
           4,
           4,
           0,
           2,
           1,
           6,
           1,
           6,
           3,
           3,
           2,
           0,
           1,
           1,
           2,
           2,
           4,
           3,
           2,
           2,
           0,
           5,
           0,
           3,
           1,
           0,
           6,
           6,
           0,
           5,
           0,
           3,
           4,
           1,
           3,
           3,
           2,
           2,
           4,
           4,
           5,
           8,
           4,
           4,
           11,
           2,
           14,
           109,
           38,
           72,
           32,
           28,
           20,
           51,
           41,
           40,
           14,
           11,
           14,
           3,
           9,
           0
          ],
          "colorbar": {
           "title": {
            "text": "Frecuencia"
           }
          },
          "colorscale": [
           [
            0,
            "#440154"
           ],
           [
            0.1111111111111111,
            "#482878"
           ],
           [
            0.2222222222222222,
            "#3e4989"
           ],
           [
            0.3333333333333333,
            "#31688e"
           ],
           [
            0.4444444444444444,
            "#26828e"
           ],
           [
            0.5555555555555556,
            "#1f9e89"
           ],
           [
            0.6666666666666666,
            "#35b779"
           ],
           [
            0.7777777777777778,
            "#6ece58"
           ],
           [
            0.8888888888888888,
            "#b5de2b"
           ],
           [
            1,
            "#fde725"
           ]
          ]
         },
         "type": "bar",
         "x": [
          "2021-11-07",
          "2021-11-14",
          "2021-11-21",
          "2021-11-28",
          "2021-12-05",
          "2021-12-12",
          "2021-12-19",
          "2021-12-26",
          "2022-01-02",
          "2022-01-09",
          "2022-01-16",
          "2022-01-23",
          "2022-01-30",
          "2022-02-06",
          "2022-02-13",
          "2022-02-20",
          "2022-02-27",
          "2022-03-06",
          "2022-03-13",
          "2022-03-20",
          "2022-03-27",
          "2022-04-03",
          "2022-04-10",
          "2022-04-17",
          "2022-04-24",
          "2022-05-01",
          "2022-05-08",
          "2022-05-15",
          "2022-05-22",
          "2022-05-29",
          "2022-06-05",
          "2022-06-12",
          "2022-06-19",
          "2022-06-26",
          "2022-07-03",
          "2022-07-10",
          "2022-07-17",
          "2022-07-24",
          "2022-07-31",
          "2022-08-07",
          "2022-08-14",
          "2022-08-21",
          "2022-08-28",
          "2022-09-04",
          "2022-09-11",
          "2022-09-18",
          "2022-09-25",
          "2022-10-02",
          "2022-10-09",
          "2022-10-16",
          "2022-10-23",
          "2022-10-30",
          "2022-11-06",
          "2022-11-13",
          "2022-11-20",
          "2022-11-27",
          "2022-12-04",
          "2022-12-11",
          "2022-12-18",
          "2022-12-25",
          "2023-01-01",
          "2023-01-08",
          "2023-01-15",
          "2023-01-22",
          "2023-01-29",
          "2023-02-05",
          "2023-02-12",
          "2023-02-19",
          "2023-02-26",
          "2023-03-05",
          "2023-03-12",
          "2023-03-19",
          "2023-03-26",
          "2023-04-02",
          "2023-04-09",
          "2023-04-16",
          "2023-04-23",
          "2023-04-30",
          "2023-05-07",
          "2023-05-14",
          "2023-05-21",
          "2023-05-28",
          "2023-06-04",
          "2023-06-11",
          "2023-06-18",
          "2023-06-25",
          "2023-07-02",
          "2023-07-09",
          "2023-07-16",
          "2023-07-23",
          "2023-07-30",
          "2023-08-06",
          "2023-08-13",
          "2023-08-20",
          "2023-08-27",
          "2023-09-03",
          "2023-09-10",
          "2023-09-17",
          "2023-09-24",
          "2023-10-01",
          "2023-10-08",
          "2023-10-15",
          "2023-10-22",
          "2023-10-29",
          "2023-11-05",
          "2023-11-12",
          "2023-11-19",
          "2023-11-26",
          "2023-12-03",
          "2023-12-10",
          "2023-12-17",
          "2023-12-24",
          "2023-12-31",
          "2024-01-07",
          "2024-01-14",
          "2024-01-21",
          "2024-01-28",
          "2024-02-04"
         ],
         "y": [
          2,
          1,
          0,
          1,
          0,
          2,
          1,
          0,
          0,
          0,
          4,
          4,
          0,
          1,
          1,
          2,
          3,
          1,
          2,
          4,
          0,
          1,
          0,
          1,
          1,
          0,
          0,
          1,
          0,
          6,
          1,
          0,
          0,
          0,
          1,
          2,
          2,
          1,
          1,
          0,
          3,
          3,
          0,
          0,
          3,
          1,
          1,
          6,
          2,
          4,
          3,
          1,
          0,
          1,
          1,
          1,
          4,
          4,
          0,
          2,
          1,
          6,
          1,
          6,
          3,
          3,
          2,
          0,
          1,
          1,
          2,
          2,
          4,
          3,
          2,
          2,
          0,
          5,
          0,
          3,
          1,
          0,
          6,
          6,
          0,
          5,
          0,
          3,
          4,
          1,
          3,
          3,
          2,
          2,
          4,
          4,
          5,
          8,
          4,
          4,
          11,
          2,
          14,
          109,
          38,
          72,
          32,
          28,
          20,
          51,
          41,
          40,
          14,
          11,
          14,
          3,
          9,
          0
         ]
        }
       ],
       "layout": {
        "template": {
         "data": {
          "bar": [
           {
            "error_x": {
             "color": "#2a3f5f"
            },
            "error_y": {
             "color": "#2a3f5f"
            },
            "marker": {
             "line": {
              "color": "#E5ECF6",
              "width": 0.5
             },
             "pattern": {
              "fillmode": "overlay",
              "size": 10,
              "solidity": 0.2
             }
            },
            "type": "bar"
           }
          ],
          "barpolar": [
           {
            "marker": {
             "line": {
              "color": "#E5ECF6",
              "width": 0.5
             },
             "pattern": {
              "fillmode": "overlay",
              "size": 10,
              "solidity": 0.2
             }
            },
            "type": "barpolar"
           }
          ],
          "carpet": [
           {
            "aaxis": {
             "endlinecolor": "#2a3f5f",
             "gridcolor": "white",
             "linecolor": "white",
             "minorgridcolor": "white",
             "startlinecolor": "#2a3f5f"
            },
            "baxis": {
             "endlinecolor": "#2a3f5f",
             "gridcolor": "white",
             "linecolor": "white",
             "minorgridcolor": "white",
             "startlinecolor": "#2a3f5f"
            },
            "type": "carpet"
           }
          ],
          "choropleth": [
           {
            "colorbar": {
             "outlinewidth": 0,
             "ticks": ""
            },
            "type": "choropleth"
           }
          ],
          "contour": [
           {
            "colorbar": {
             "outlinewidth": 0,
             "ticks": ""
            },
            "colorscale": [
             [
              0,
              "#0d0887"
             ],
             [
              0.1111111111111111,
              "#46039f"
             ],
             [
              0.2222222222222222,
              "#7201a8"
             ],
             [
              0.3333333333333333,
              "#9c179e"
             ],
             [
              0.4444444444444444,
              "#bd3786"
             ],
             [
              0.5555555555555556,
              "#d8576b"
             ],
             [
              0.6666666666666666,
              "#ed7953"
             ],
             [
              0.7777777777777778,
              "#fb9f3a"
             ],
             [
              0.8888888888888888,
              "#fdca26"
             ],
             [
              1,
              "#f0f921"
             ]
            ],
            "type": "contour"
           }
          ],
          "contourcarpet": [
           {
            "colorbar": {
             "outlinewidth": 0,
             "ticks": ""
            },
            "type": "contourcarpet"
           }
          ],
          "heatmap": [
           {
            "colorbar": {
             "outlinewidth": 0,
             "ticks": ""
            },
            "colorscale": [
             [
              0,
              "#0d0887"
             ],
             [
              0.1111111111111111,
              "#46039f"
             ],
             [
              0.2222222222222222,
              "#7201a8"
             ],
             [
              0.3333333333333333,
              "#9c179e"
             ],
             [
              0.4444444444444444,
              "#bd3786"
             ],
             [
              0.5555555555555556,
              "#d8576b"
             ],
             [
              0.6666666666666666,
              "#ed7953"
             ],
             [
              0.7777777777777778,
              "#fb9f3a"
             ],
             [
              0.8888888888888888,
              "#fdca26"
             ],
             [
              1,
              "#f0f921"
             ]
            ],
            "type": "heatmap"
           }
          ],
          "histogram": [
           {
            "marker": {
             "pattern": {
              "fillmode": "overlay",
              "size": 10,
              "solidity": 0.2
             }
            },
            "type": "histogram"
           }
          ],
          "histogram2d": [
           {
            "colorbar": {
             "outlinewidth": 0,
             "ticks": ""
            },
            "colorscale": [
             [
              0,
              "#0d0887"
             ],
             [
              0.1111111111111111,
              "#46039f"
             ],
             [
              0.2222222222222222,
              "#7201a8"
             ],
             [
              0.3333333333333333,
              "#9c179e"
             ],
             [
              0.4444444444444444,
              "#bd3786"
             ],
             [
              0.5555555555555556,
              "#d8576b"
             ],
             [
              0.6666666666666666,
              "#ed7953"
             ],
             [
              0.7777777777777778,
              "#fb9f3a"
             ],
             [
              0.8888888888888888,
              "#fdca26"
             ],
             [
              1,
              "#f0f921"
             ]
            ],
            "type": "histogram2d"
           }
          ],
          "histogram2dcontour": [
           {
            "colorbar": {
             "outlinewidth": 0,
             "ticks": ""
            },
            "colorscale": [
             [
              0,
              "#0d0887"
             ],
             [
              0.1111111111111111,
              "#46039f"
             ],
             [
              0.2222222222222222,
              "#7201a8"
             ],
             [
              0.3333333333333333,
              "#9c179e"
             ],
             [
              0.4444444444444444,
              "#bd3786"
             ],
             [
              0.5555555555555556,
              "#d8576b"
             ],
             [
              0.6666666666666666,
              "#ed7953"
             ],
             [
              0.7777777777777778,
              "#fb9f3a"
             ],
             [
              0.8888888888888888,
              "#fdca26"
             ],
             [
              1,
              "#f0f921"
             ]
            ],
            "type": "histogram2dcontour"
           }
          ],
          "mesh3d": [
           {
            "colorbar": {
             "outlinewidth": 0,
             "ticks": ""
            },
            "type": "mesh3d"
           }
          ],
          "parcoords": [
           {
            "line": {
             "colorbar": {
              "outlinewidth": 0,
              "ticks": ""
             }
            },
            "type": "parcoords"
           }
          ],
          "pie": [
           {
            "automargin": true,
            "type": "pie"
           }
          ],
          "scatter": [
           {
            "fillpattern": {
             "fillmode": "overlay",
             "size": 10,
             "solidity": 0.2
            },
            "type": "scatter"
           }
          ],
          "scatter3d": [
           {
            "line": {
             "colorbar": {
              "outlinewidth": 0,
              "ticks": ""
             }
            },
            "marker": {
             "colorbar": {
              "outlinewidth": 0,
              "ticks": ""
             }
            },
            "type": "scatter3d"
           }
          ],
          "scattercarpet": [
           {
            "marker": {
             "colorbar": {
              "outlinewidth": 0,
              "ticks": ""
             }
            },
            "type": "scattercarpet"
           }
          ],
          "scattergeo": [
           {
            "marker": {
             "colorbar": {
              "outlinewidth": 0,
              "ticks": ""
             }
            },
            "type": "scattergeo"
           }
          ],
          "scattergl": [
           {
            "marker": {
             "colorbar": {
              "outlinewidth": 0,
              "ticks": ""
             }
            },
            "type": "scattergl"
           }
          ],
          "scattermap": [
           {
            "marker": {
             "colorbar": {
              "outlinewidth": 0,
              "ticks": ""
             }
            },
            "type": "scattermap"
           }
          ],
          "scattermapbox": [
           {
            "marker": {
             "colorbar": {
              "outlinewidth": 0,
              "ticks": ""
             }
            },
            "type": "scattermapbox"
           }
          ],
          "scatterpolar": [
           {
            "marker": {
             "colorbar": {
              "outlinewidth": 0,
              "ticks": ""
             }
            },
            "type": "scatterpolar"
           }
          ],
          "scatterpolargl": [
           {
            "marker": {
             "colorbar": {
              "outlinewidth": 0,
              "ticks": ""
             }
            },
            "type": "scatterpolargl"
           }
          ],
          "scatterternary": [
           {
            "marker": {
             "colorbar": {
              "outlinewidth": 0,
              "ticks": ""
             }
            },
            "type": "scatterternary"
           }
          ],
          "surface": [
           {
            "colorbar": {
             "outlinewidth": 0,
             "ticks": ""
            },
            "colorscale": [
             [
              0,
              "#0d0887"
             ],
             [
              0.1111111111111111,
              "#46039f"
             ],
             [
              0.2222222222222222,
              "#7201a8"
             ],
             [
              0.3333333333333333,
              "#9c179e"
             ],
             [
              0.4444444444444444,
              "#bd3786"
             ],
             [
              0.5555555555555556,
              "#d8576b"
             ],
             [
              0.6666666666666666,
              "#ed7953"
             ],
             [
              0.7777777777777778,
              "#fb9f3a"
             ],
             [
              0.8888888888888888,
              "#fdca26"
             ],
             [
              1,
              "#f0f921"
             ]
            ],
            "type": "surface"
           }
          ],
          "table": [
           {
            "cells": {
             "fill": {
              "color": "#EBF0F8"
             },
             "line": {
              "color": "white"
             }
            },
            "header": {
             "fill": {
              "color": "#C8D4E3"
             },
             "line": {
              "color": "white"
             }
            },
            "type": "table"
           }
          ]
         },
         "layout": {
          "annotationdefaults": {
           "arrowcolor": "#2a3f5f",
           "arrowhead": 0,
           "arrowwidth": 1
          },
          "autotypenumbers": "strict",
          "coloraxis": {
           "colorbar": {
            "outlinewidth": 0,
            "ticks": ""
           }
          },
          "colorscale": {
           "diverging": [
            [
             0,
             "#8e0152"
            ],
            [
             0.1,
             "#c51b7d"
            ],
            [
             0.2,
             "#de77ae"
            ],
            [
             0.3,
             "#f1b6da"
            ],
            [
             0.4,
             "#fde0ef"
            ],
            [
             0.5,
             "#f7f7f7"
            ],
            [
             0.6,
             "#e6f5d0"
            ],
            [
             0.7,
             "#b8e186"
            ],
            [
             0.8,
             "#7fbc41"
            ],
            [
             0.9,
             "#4d9221"
            ],
            [
             1,
             "#276419"
            ]
           ],
           "sequential": [
            [
             0,
             "#0d0887"
            ],
            [
             0.1111111111111111,
             "#46039f"
            ],
            [
             0.2222222222222222,
             "#7201a8"
            ],
            [
             0.3333333333333333,
             "#9c179e"
            ],
            [
             0.4444444444444444,
             "#bd3786"
            ],
            [
             0.5555555555555556,
             "#d8576b"
            ],
            [
             0.6666666666666666,
             "#ed7953"
            ],
            [
             0.7777777777777778,
             "#fb9f3a"
            ],
            [
             0.8888888888888888,
             "#fdca26"
            ],
            [
             1,
             "#f0f921"
            ]
           ],
           "sequentialminus": [
            [
             0,
             "#0d0887"
            ],
            [
             0.1111111111111111,
             "#46039f"
            ],
            [
             0.2222222222222222,
             "#7201a8"
            ],
            [
             0.3333333333333333,
             "#9c179e"
            ],
            [
             0.4444444444444444,
             "#bd3786"
            ],
            [
             0.5555555555555556,
             "#d8576b"
            ],
            [
             0.6666666666666666,
             "#ed7953"
            ],
            [
             0.7777777777777778,
             "#fb9f3a"
            ],
            [
             0.8888888888888888,
             "#fdca26"
            ],
            [
             1,
             "#f0f921"
            ]
           ]
          },
          "colorway": [
           "#636efa",
           "#EF553B",
           "#00cc96",
           "#ab63fa",
           "#FFA15A",
           "#19d3f3",
           "#FF6692",
           "#B6E880",
           "#FF97FF",
           "#FECB52"
          ],
          "font": {
           "color": "#2a3f5f"
          },
          "geo": {
           "bgcolor": "white",
           "lakecolor": "white",
           "landcolor": "#E5ECF6",
           "showlakes": true,
           "showland": true,
           "subunitcolor": "white"
          },
          "hoverlabel": {
           "align": "left"
          },
          "hovermode": "closest",
          "mapbox": {
           "style": "light"
          },
          "paper_bgcolor": "white",
          "plot_bgcolor": "#E5ECF6",
          "polar": {
           "angularaxis": {
            "gridcolor": "white",
            "linecolor": "white",
            "ticks": ""
           },
           "bgcolor": "#E5ECF6",
           "radialaxis": {
            "gridcolor": "white",
            "linecolor": "white",
            "ticks": ""
           }
          },
          "scene": {
           "xaxis": {
            "backgroundcolor": "#E5ECF6",
            "gridcolor": "white",
            "gridwidth": 2,
            "linecolor": "white",
            "showbackground": true,
            "ticks": "",
            "zerolinecolor": "white"
           },
           "yaxis": {
            "backgroundcolor": "#E5ECF6",
            "gridcolor": "white",
            "gridwidth": 2,
            "linecolor": "white",
            "showbackground": true,
            "ticks": "",
            "zerolinecolor": "white"
           },
           "zaxis": {
            "backgroundcolor": "#E5ECF6",
            "gridcolor": "white",
            "gridwidth": 2,
            "linecolor": "white",
            "showbackground": true,
            "ticks": "",
            "zerolinecolor": "white"
           }
          },
          "shapedefaults": {
           "line": {
            "color": "#2a3f5f"
           }
          },
          "ternary": {
           "aaxis": {
            "gridcolor": "white",
            "linecolor": "white",
            "ticks": ""
           },
           "baxis": {
            "gridcolor": "white",
            "linecolor": "white",
            "ticks": ""
           },
           "bgcolor": "#E5ECF6",
           "caxis": {
            "gridcolor": "white",
            "linecolor": "white",
            "ticks": ""
           }
          },
          "title": {
           "x": 0.05
          },
          "xaxis": {
           "automargin": true,
           "gridcolor": "white",
           "linecolor": "white",
           "ticks": "",
           "title": {
            "standoff": 15
           },
           "zerolinecolor": "white",
           "zerolinewidth": 2
          },
          "yaxis": {
           "automargin": true,
           "gridcolor": "white",
           "linecolor": "white",
           "ticks": "",
           "title": {
            "standoff": 15
           },
           "zerolinecolor": "white",
           "zerolinewidth": 2
          }
         }
        },
        "title": {
         "text": "Frecuencia de \"luz\" por semana"
        },
        "xaxis": {
         "tickangle": 45,
         "title": {
          "text": "Semana"
         }
        },
        "yaxis": {
         "title": {
          "text": "Frecuencia"
         }
        }
       }
      }
     },
     "metadata": {},
     "output_type": "display_data"
    }
   ],
   "source": [
    "query_word = 'luz'\n",
    "frecuencias_por_semana = []\n",
    "\n",
    "for period, data_tokenized in grouped_data_week.items():\n",
    "    word_counts = Counter(data_tokenized)\n",
    "    if query_word in word_counts:\n",
    "        frecuencias_por_semana.append(word_counts[query_word])\n",
    "    else:\n",
    "        frecuencias_por_semana.append(0)\n",
    "\n",
    "fig = go.Figure()\n",
    "fig.add_trace(go.Bar(\n",
    "    x=[period.strftime('%Y-%m-%d') for period in grouped_data_week.keys()],\n",
    "    y=frecuencias_por_semana,\n",
    "    marker=dict(\n",
    "        color=frecuencias_por_semana,\n",
    "        colorscale='Viridis',\n",
    "        colorbar=dict(title='Frecuencia')\n",
    "    ),\n",
    "))\n",
    "\n",
    "fig.update_layout(\n",
    "    title=f'Frecuencia de \"{query_word}\" por semana',\n",
    "    xaxis_title='Semana',\n",
    "    yaxis_title='Frecuencia',\n",
    "    xaxis=dict(tickangle=45),\n",
    ")\n",
    "\n",
    "fig.show()"
   ]
  },
  {
   "cell_type": "code",
   "execution_count": null,
   "id": "f0338eea-b4f2-42a9-b9e9-c03f031941a2",
   "metadata": {},
   "outputs": [],
   "source": [
    "query_word = 'luz'\n",
    "frecuencias_por_mes = []\n",
    "\n",
    "if len(grouped_data_month) > 0:\n",
    "    for period, data_tokenized in grouped_data_month.items():\n",
    "        word_counts = Counter(data_tokenized)\n",
    "        if query_word in word_counts:\n",
    "            frecuencias_por_mes.append(word_counts[query_word])\n",
    "        else:\n",
    "            frecuencias_por_mes.append(0)\n",
    "\n",
    "    # Crear el gráfico de barras verticales con colores diferentes para cada mes\n",
    "    fig = go.Figure()\n",
    "    fig.add_trace(go.Bar(\n",
    "        x=[period.strftime('%Y-%m') for period in grouped_data_month.keys()],\n",
    "        y=frecuencias_por_mes,\n",
    "        marker=dict(\n",
    "            color=frecuencias_por_mes,\n",
    "            colorscale='Viridis',\n",
    "            colorbar=dict(title='Frecuencia')\n",
    "        ),\n",
    "    ))\n",
    "\n",
    "    # Actualizar el diseño del gráfico\n",
    "    fig.update_layout(\n",
    "        title=f'Frecuencia de \"{query_word}\" por mes',\n",
    "        xaxis_title='Mes',\n",
    "        yaxis_title='Frecuencia',\n",
    "        xaxis=dict(tickangle=45),\n",
    "    )\n",
    "\n",
    "    fig.show()\n",
    "else:\n",
    "    print(\"No hay suficientes datos\")"
   ]
  },
  {
   "cell_type": "code",
   "execution_count": null,
   "id": "b3de7a8d-04a7-4817-b436-d1057d60d46a",
   "metadata": {},
   "outputs": [],
   "source": [
    "query_word = 'luz'\n",
    "frecuencias_por_trimestre = []\n",
    "\n",
    "for period, data_tokenized in grouped_data_3m.items():\n",
    "    word_counts = Counter(data_tokenized)\n",
    "    if query_word in word_counts:\n",
    "        frecuencias_por_trimestre.append(word_counts[query_word])\n",
    "    else:\n",
    "        frecuencias_por_trimestre.append(0)\n",
    "\n",
    "fig = go.Figure()\n",
    "fig.add_trace(go.Bar(\n",
    "    x=[period.strftime('%Y-%m-%d') for period in grouped_data_3m.keys()],\n",
    "    y=frecuencias_por_trimestre,\n",
    "    marker=dict(\n",
    "        color=frecuencias_por_trimestre,\n",
    "        colorscale='Viridis',  # Cambiar el esquema de color si se desea\n",
    "        colorbar=dict(title='Frecuencia')\n",
    "    ),\n",
    "))\n",
    "\n",
    "fig.update_layout(\n",
    "    title=f'Frecuencia de \"{query_word}\" por trimestre',\n",
    "    xaxis_title='Trimestre',\n",
    "    yaxis_title='Frecuencia',\n",
    "    xaxis=dict(tickangle=45),\n",
    ")\n",
    "\n",
    "fig.show()"
   ]
  },
  {
   "cell_type": "code",
   "execution_count": null,
   "id": "0f0a1d33-0b35-4531-a81c-dc95aebd139b",
   "metadata": {
    "tags": []
   },
   "outputs": [],
   "source": [
    "\n",
    "for period, data_tokenized in grouped_data_3m.items():\n",
    "    print(f'Periodo: {period}')\n",
    "\n",
    "    word_counts = Counter()\n",
    "    for tokens in data_tokenized:\n",
    "        if isinstance(tokens, str):\n",
    "            words = tokens.split() \n",
    "            word_counts.update(words) \n",
    "        elif isinstance(tokens, list): \n",
    "            word_counts.update(tokens)  \n",
    "\n",
    "    sorted_word_counts = dict(sorted(word_counts.items(), key=lambda item: item[1], reverse=True))\n",
    "    idx_start = 0\n",
    "    idx_finish = 10\n",
    "    top_words = dict(list(sorted_word_counts.items())[idx_start:idx_finish])\n",
    "    print(top_words)"
   ]
  },
  {
   "cell_type": "code",
   "execution_count": null,
   "id": "3b445cb7-d939-4b45-83f5-6b03e5dd9d03",
   "metadata": {},
   "outputs": [],
   "source": [
    "\n",
    "for period, data_tokenized in grouped_data_week.items():\n",
    "    print(f'Periodo: {period}')\n",
    "\n",
    "    word_counts = Counter()\n",
    "    for tokens in data_tokenized:\n",
    "        if isinstance(tokens, str):\n",
    "            words = tokens.split()\n",
    "            word_counts.update(words)\n",
    "        elif isinstance(tokens, list):\n",
    "            word_counts.update(tokens) \n",
    "\n",
    "    sorted_word_counts = dict(sorted(word_counts.items(), key=lambda item: item[1], reverse=True))\n",
    "    idx_start = 5\n",
    "    idx_finish = 10\n",
    "    top_words = dict(list(sorted_word_counts.items())[idx_start:idx_finish])\n",
    "    print(top_words)"
   ]
  },
  {
   "cell_type": "code",
   "execution_count": null,
   "id": "117cc033-7a60-4523-a7fa-86ac090ece88",
   "metadata": {},
   "outputs": [],
   "source": [
    "\n",
    "for period, data_tokenized in grouped_data_month.items():\n",
    "    print(f'Periodo: {period}')\n",
    "\n",
    "    word_counts = Counter()\n",
    "    for tokens in data_tokenized:\n",
    "        if isinstance(tokens, str): \n",
    "            words = tokens.split()  \n",
    "            word_counts.update(words)  # Actualizar el contador con las palabras\n",
    "        elif isinstance(tokens, list):  # Si los tokens son una lista\n",
    "            word_counts.update(tokens) \n",
    "\n",
    "    sorted_word_counts = dict(sorted(word_counts.items(), key=lambda item: item[1], reverse=True))\n",
    "    idx_start = 6\n",
    "    idx_finish = 15\n",
    "    top_words = dict(list(sorted_word_counts.items())[idx_start:idx_finish])\n",
    "    print(top_words)"
   ]
  },
  {
   "cell_type": "markdown",
   "id": "66aa57e6-cc90-4683-a1c8-f53694f27e36",
   "metadata": {},
   "source": [
    "## Long Tail"
   ]
  },
  {
   "cell_type": "code",
   "execution_count": null,
   "id": "bede36a3-db34-46d9-b2ef-79dccf67b880",
   "metadata": {},
   "outputs": [],
   "source": [
    "# pip install powerlaw"
   ]
  },
  {
   "cell_type": "code",
   "execution_count": 9,
   "id": "ca18b70f-f6b5-428a-b75a-e703dd784fa1",
   "metadata": {},
   "outputs": [
    {
     "name": "stdout",
     "output_type": "stream",
     "text": [
      "Calculating best minimal value for power law fit\n",
      "Diariorogress: 99%\n",
      "Total: 74958\n",
      "Num_head: 27806 (37.10%)\n",
      "Num_tail: 47152 (62.90%)\n",
      "Head[20]: [('guayaquil', 11659), ('policia', 10063), ('seguridad', 9770), ('presidente', 9590), ('empresa', 9187), ('caso', 8332), ('primero', 8156), ('quito', 8065), ('internacional', 7941), ('tres', 7262), ('feriado', 7212), ('tras', 7198), ('parte', 6830), ('sector', 6712), ('llegar', 6238), ('dejar', 6084), ('proceso', 6040), ('ecuatoriano', 5828), ('mayo', 5706), ('ir', 5631)]\n",
      "\n"
     ]
    },
    {
     "data": {
      "image/png": "[encoded data removed]",
      "text/plain": [
       "<Figure size 1000x600 with 1 Axes>"
      ]
     },
     "metadata": {},
     "output_type": "display_data"
    },
    {
     "name": "stdout",
     "output_type": "stream",
     "text": [
      "Calculating best minimal value for power law fit\n",
      "Semanalogress: 99%\n",
      "Total: 74958\n",
      "Num_head: 27806 (37.10%)\n",
      "Num_tail: 47152 (62.90%)\n",
      "Head[20]: [('guayaquil', 11659), ('policia', 10063), ('seguridad', 9770), ('presidente', 9590), ('empresa', 9187), ('caso', 8332), ('primero', 8156), ('quito', 8065), ('internacional', 7941), ('tres', 7262), ('feriado', 7212), ('tras', 7198), ('parte', 6830), ('sector', 6712), ('llegar', 6238), ('dejar', 6084), ('proceso', 6040), ('ecuatoriano', 5828), ('mayo', 5706), ('ir', 5631)]\n",
      "\n"
     ]
    },
    {
     "data": {
      "image/png": "[encoded data removed]",
      "text/plain": [
       "<Figure size 1000x600 with 1 Axes>"
      ]
     },
     "metadata": {},
     "output_type": "display_data"
    },
    {
     "name": "stdout",
     "output_type": "stream",
     "text": [
      "Calculating best minimal value for power law fit\n",
      "Mensualogress: 99%\n",
      "Total: 74958\n",
      "Num_head: 27806 (37.10%)\n",
      "Num_tail: 47152 (62.90%)\n",
      "Head[20]: [('guayaquil', 11659), ('policia', 10063), ('seguridad', 9770), ('presidente', 9590), ('empresa', 9187), ('caso', 8332), ('primero', 8156), ('quito', 8065), ('internacional', 7941), ('tres', 7262), ('feriado', 7212), ('tras', 7198), ('parte', 6830), ('sector', 6712), ('llegar', 6238), ('dejar', 6084), ('proceso', 6040), ('ecuatoriano', 5828), ('mayo', 5706), ('ir', 5631)]\n",
      "\n"
     ]
    },
    {
     "data": {
      "image/png": "[encoded data removed]",
      "text/plain": [
       "<Figure size 1000x600 with 1 Axes>"
      ]
     },
     "metadata": {},
     "output_type": "display_data"
    },
    {
     "name": "stdout",
     "output_type": "stream",
     "text": [
      "Calculating best minimal value for power law fit\n",
      "Trimestraless: 99%\n",
      "Total: 74958\n",
      "Num_head: 27806 (37.10%)\n",
      "Num_tail: 47152 (62.90%)\n",
      "Head[20]: [('guayaquil', 11659), ('policia', 10063), ('seguridad', 9770), ('presidente', 9590), ('empresa', 9187), ('caso', 8332), ('primero', 8156), ('quito', 8065), ('internacional', 7941), ('tres', 7262), ('feriado', 7212), ('tras', 7198), ('parte', 6830), ('sector', 6712), ('llegar', 6238), ('dejar', 6084), ('proceso', 6040), ('ecuatoriano', 5828), ('mayo', 5706), ('ir', 5631)]\n",
      "\n"
     ]
    },
    {
     "data": {
      "image/png": "[encoded data removed]",
      "text/plain": [
       "<Figure size 1000x600 with 1 Axes>"
      ]
     },
     "metadata": {},
     "output_type": "display_data"
    }
   ],
   "source": [
    "import powerlaw\n",
    "\n",
    "def analyze_long_tail(data, title):\n",
    "    counter = Counter(data)\n",
    "    sorted_words = sorted(counter.items(), key=lambda item: item[1], reverse=True)\n",
    "    frequencies  = np.array([freq for word, freq in sorted_words])\n",
    "    \n",
    "    fit = powerlaw.Fit(frequencies)\n",
    "    x_min = fit.power_law.xmin   # Punto de corte calculado\n",
    "    alpha = fit.power_law.alpha  # Exponente de ley de potencias\n",
    "\n",
    "    head_words = [(word, freq) for word, freq in sorted_words if freq >= x_min]\n",
    "    tail_words = [(word, freq) for word, freq in sorted_words if freq < x_min]\n",
    "\n",
    "    head_count = len(head_words)\n",
    "    tail_count = len(tail_words)\n",
    "    \n",
    "    num_words = 20 # num_words to print\n",
    "    print(f\"{title}\")\n",
    "    print(f\"Total: {len(sorted_words)}\")\n",
    "    print(f\"Num_head: {head_count} ({head_count / len(sorted_words):.2%})\")\n",
    "    print(f\"Num_tail: {tail_count} ({tail_count / len(sorted_words):.2%})\")\n",
    "    print(f\"Head[{num_words}]: {head_words[:num_words]}\") \n",
    "    print()\n",
    "    \n",
    "    plt.figure(figsize=(10, 6))\n",
    "    plt.plot(frequencies, marker='o')\n",
    "    plt.axhline(y=x_min, color='r', linestyle='--', label=f'x_min: {x_min}')\n",
    "    plt.yscale('log')\n",
    "    plt.title(f'{title} - Distribución de Frecuencia de Palabras')\n",
    "    plt.xlabel('Palabras (ordenadas por frecuencia)')\n",
    "    plt.ylabel('Frecuencia (escala logarítmica)')\n",
    "    plt.grid(True)\n",
    "    plt.legend()\n",
    "    plt.show()\n",
    "    \n",
    "    #print(f'Ajuste de ley de potencias con alfa: {alpha}, x_min: {x_min}')\n",
    "    return head_words, tail_words\n",
    "\n",
    "data_d = [word for day_data in grouped_data_day if isinstance(day_data, list) for word in day_data]\n",
    "data_w = [word for week_data in grouped_data_week for word in week_data]\n",
    "data_m = [word for month_data in grouped_data_month for word in month_data]\n",
    "data_q = [word for quarter_data in grouped_data_3m for word in quarter_data]\n",
    "\n",
    "\n",
    "head_words_d, tail_words_d = analyze_long_tail(data_d, 'Diario')\n",
    "head_words_w, tail_words_w = analyze_long_tail(data_w, 'Semanal')\n",
    "head_words_m, tail_words_m = analyze_long_tail(data_m, 'Mensual')\n",
    "head_words_q, tail_words_q = analyze_long_tail(data_q, 'Trimestral')"
   ]
  },
  {
   "cell_type": "markdown",
   "id": "e9eac702-258c-4278-af2a-7ddf7549db13",
   "metadata": {},
   "source": [
    "# Jaccard"
   ]
  },
  {
   "cell_type": "code",
   "execution_count": 30,
   "id": "ab1a6bdf-c90b-4349-9f36-f9f009727913",
   "metadata": {
    "tags": []
   },
   "outputs": [],
   "source": [
    "def jaccard_similarity(set1, set2):\n",
    "    intersection = set1.intersection(set2)\n",
    "    union = set1.union(set2)\n",
    "    similarity = len(intersection) / len(union)\n",
    "    distance = 1 - similarity\n",
    "    return similarity"
   ]
  },
  {
   "cell_type": "code",
   "execution_count": 31,
   "id": "5894fa2f-14ae-487e-b49c-726e7d4a050d",
   "metadata": {},
   "outputs": [
    {
     "name": "stdout",
     "output_type": "stream",
     "text": [
      "2021-11-01 - 2021-11-02: 0.0\n",
      "2021-11-02 - 2021-11-03: 0.05263157894736842\n",
      "2021-11-03 - 2021-11-04: 0.0\n",
      "2021-11-04 - 2021-11-05: 0.0\n",
      "2021-11-05 - 2021-11-06: 0.0\n",
      "2021-11-06 - 2021-11-07: 0.0\n",
      "2021-11-07 - 2021-11-08: 0.05263157894736842\n",
      "2021-11-08 - 2021-11-09: 0.0\n",
      "2021-11-09 - 2021-11-10: 0.05263157894736842\n",
      "2021-11-10 - 2021-11-11: 0.0\n"
     ]
    }
   ],
   "source": [
    "# dia a dia\n",
    "jaccard_indices_day = []\n",
    "dias = []\n",
    "\n",
    "prev_day_words = None\n",
    "prev_period = None\n",
    "\n",
    "for period, data_tokenized in grouped_data_day.items():\n",
    "    if not isinstance(data_tokenized, list):\n",
    "        continue \n",
    "    \n",
    "    word_counts = Counter(data_tokenized)\n",
    "    sorted_word_counts = dict(sorted(word_counts.items(), key=lambda item: item[1], reverse=True))\n",
    "    idx_start = 10\n",
    "    idx_finish = 20\n",
    "    current_day_words = set(list(sorted_word_counts.keys())[idx_start:idx_finish])\n",
    "    \n",
    "    if prev_day_words is not None:\n",
    "        jaccard_index = jaccard_similarity(prev_day_words, current_day_words)\n",
    "        jaccard_indices_day.append(jaccard_index)\n",
    "        dias.append(f'{prev_period.strftime(\"%Y-%m-%d\")} - {period.strftime(\"%Y-%m-%d\")}')\n",
    "    \n",
    "    prev_day_words = current_day_words\n",
    "    prev_period = period\n",
    "\n",
    "num_res = 10\n",
    "for dia, jaccard_index in zip(dias[:num_res], jaccard_indices_day[:num_res]):\n",
    "    print(f'{dia}: {jaccard_index}')"
   ]
  },
  {
   "cell_type": "code",
   "execution_count": 32,
   "id": "441f8177-7b7d-4efe-9027-2e46798dbe1f",
   "metadata": {
    "tags": []
   },
   "outputs": [
    {
     "data": {
      "application/vnd.plotly.v1+json": {
       "config": {
        "plotlyServerURL": "https://plot.ly"
       },
       "data": [
        {
         "line": {
          "width": 2
         },
         "marker": {
          "size": 10
         },
         "mode": "lines+markers",
         "name": "Índice de Jaccard",
         "type": "scatter",
         "x": [
          "2021-44 - 2021-45",
          "2021-45 - 2021-46",
          "2021-46 - 2021-47",
          "2021-47 - 2021-48",
          "2021-48 - 2021-49",
          "2021-49 - 2021-50",
          "2021-50 - 2021-51",
          "2021-51 - 2022-00",
          "2022-00 - 2022-01",
          "2022-01 - 2022-02",
          "2022-02 - 2022-03",
          "2022-03 - 2022-04",
          "2022-04 - 2022-05",
          "2022-05 - 2022-06",
          "2022-06 - 2022-07",
          "2022-07 - 2022-08",
          "2022-08 - 2022-09",
          "2022-09 - 2022-10",
          "2022-10 - 2022-11",
          "2022-11 - 2022-12",
          "2022-12 - 2022-13",
          "2022-13 - 2022-14",
          "2022-14 - 2022-15",
          "2022-15 - 2022-16",
          "2022-16 - 2022-17",
          "2022-17 - 2022-18",
          "2022-18 - 2022-19",
          "2022-19 - 2022-20",
          "2022-20 - 2022-21",
          "2022-21 - 2022-22",
          "2022-22 - 2022-23",
          "2022-23 - 2022-24",
          "2022-24 - 2022-25",
          "2022-25 - 2022-26",
          "2022-26 - 2022-27",
          "2022-27 - 2022-28",
          "2022-28 - 2022-29",
          "2022-29 - 2022-30",
          "2022-30 - 2022-31",
          "2022-31 - 2022-32",
          "2022-32 - 2022-33",
          "2022-33 - 2022-34",
          "2022-34 - 2022-35",
          "2022-35 - 2022-36",
          "2022-36 - 2022-37",
          "2022-37 - 2022-38",
          "2022-38 - 2022-39",
          "2022-39 - 2022-40",
          "2022-40 - 2022-41",
          "2022-41 - 2022-42",
          "2022-42 - 2022-43",
          "2022-43 - 2022-44",
          "2022-44 - 2022-45",
          "2022-45 - 2022-46",
          "2022-46 - 2022-47",
          "2022-47 - 2022-48",
          "2022-48 - 2022-49",
          "2022-49 - 2022-50",
          "2022-50 - 2022-51",
          "2022-51 - 2023-00",
          "2023-00 - 2023-01",
          "2023-01 - 2023-02",
          "2023-02 - 2023-03",
          "2023-03 - 2023-04",
          "2023-04 - 2023-05",
          "2023-05 - 2023-06",
          "2023-06 - 2023-07",
          "2023-07 - 2023-08",
          "2023-08 - 2023-09",
          "2023-09 - 2023-10",
          "2023-10 - 2023-11",
          "2023-11 - 2023-12",
          "2023-12 - 2023-13",
          "2023-13 - 2023-14",
          "2023-14 - 2023-15",
          "2023-15 - 2023-16",
          "2023-16 - 2023-17",
          "2023-17 - 2023-18",
          "2023-18 - 2023-19",
          "2023-19 - 2023-20",
          "2023-20 - 2023-21",
          "2023-21 - 2023-22",
          "2023-22 - 2023-23",
          "2023-23 - 2023-24",
          "2023-24 - 2023-25",
          "2023-25 - 2023-26",
          "2023-26 - 2023-27",
          "2023-27 - 2023-28",
          "2023-28 - 2023-29",
          "2023-29 - 2023-30",
          "2023-30 - 2023-31",
          "2023-31 - 2023-32",
          "2023-32 - 2023-33",
          "2023-33 - 2023-34",
          "2023-34 - 2023-35",
          "2023-35 - 2023-36",
          "2023-36 - 2023-37",
          "2023-37 - 2023-38",
          "2023-38 - 2023-39",
          "2023-39 - 2023-40",
          "2023-40 - 2023-41",
          "2023-41 - 2023-42",
          "2023-42 - 2023-43",
          "2023-43 - 2023-44",
          "2023-44 - 2023-45",
          "2023-45 - 2023-46",
          "2023-46 - 2023-47",
          "2023-47 - 2023-48",
          "2023-48 - 2023-49",
          "2023-49 - 2023-50",
          "2023-50 - 2023-51",
          "2023-51 - 2023-52",
          "2023-52 - 2024-01",
          "2024-01 - 2024-02",
          "2024-02 - 2024-03",
          "2024-03 - 2024-04",
          "2024-04 - 2024-05"
         ],
         "y": [
          0.05263157894736842,
          0.05263157894736842,
          0.17647058823529413,
          0.1111111111111111,
          0.05263157894736842,
          0.1111111111111111,
          0.1111111111111111,
          0.1111111111111111,
          0.1111111111111111,
          0.25,
          0.17647058823529413,
          0.1111111111111111,
          0,
          0.05263157894736842,
          0,
          0.17647058823529413,
          0.1111111111111111,
          0.05263157894736842,
          0,
          0.1111111111111111,
          0.05263157894736842,
          0.05263157894736842,
          0.05263157894736842,
          0.1111111111111111,
          0.1111111111111111,
          0.1111111111111111,
          0.17647058823529413,
          0.05263157894736842,
          0.17647058823529413,
          0.17647058823529413,
          0.17647058823529413,
          0.05263157894736842,
          0.05263157894736842,
          0.3333333333333333,
          0.05263157894736842,
          0.25,
          0.05263157894736842,
          0.1111111111111111,
          0,
          0.05263157894736842,
          0.25,
          0.1111111111111111,
          0.1111111111111111,
          0.1111111111111111,
          0.17647058823529413,
          0,
          0,
          0.25,
          0.05263157894736842,
          0.05263157894736842,
          0.3333333333333333,
          0.25,
          0.1111111111111111,
          0,
          0.1111111111111111,
          0.05263157894736842,
          0.1111111111111111,
          0.1111111111111111,
          0.05263157894736842,
          0.1111111111111111,
          0.1111111111111111,
          0.05263157894736842,
          0.05263157894736842,
          0.05263157894736842,
          0,
          0.05263157894736842,
          0.05263157894736842,
          0.05263157894736842,
          0.05263157894736842,
          0.1111111111111111,
          0.17647058823529413,
          0,
          0.05263157894736842,
          0.17647058823529413,
          0.17647058823529413,
          0.17647058823529413,
          0.17647058823529413,
          0.25,
          0.1111111111111111,
          0.1111111111111111,
          0.05263157894736842,
          0.17647058823529413,
          0.17647058823529413,
          0.17647058823529413,
          0.17647058823529413,
          0.17647058823529413,
          0.3333333333333333,
          0.1111111111111111,
          0.1111111111111111,
          0.3333333333333333,
          0.17647058823529413,
          0.1111111111111111,
          0.1111111111111111,
          0.05263157894736842,
          0,
          0.3333333333333333,
          0.17647058823529413,
          0.25,
          0.05263157894736842,
          0.1111111111111111,
          0.17647058823529413,
          0.1111111111111111,
          0,
          0.25,
          0.1111111111111111,
          0.1111111111111111,
          0.17647058823529413,
          0.3333333333333333,
          0.42857142857142855,
          0.25,
          0.25,
          0.17647058823529413,
          0.42857142857142855,
          0.1111111111111111,
          0.42857142857142855,
          0.25,
          0.05263157894736842
         ]
        }
       ],
       "layout": {
        "showlegend": true,
        "template": {
         "data": {
          "bar": [
           {
            "error_x": {
             "color": "#2a3f5f"
            },
            "error_y": {
             "color": "#2a3f5f"
            },
            "marker": {
             "line": {
              "color": "#E5ECF6",
              "width": 0.5
             },
             "pattern": {
              "fillmode": "overlay",
              "size": 10,
              "solidity": 0.2
             }
            },
            "type": "bar"
           }
          ],
          "barpolar": [
           {
            "marker": {
             "line": {
              "color": "#E5ECF6",
              "width": 0.5
             },
             "pattern": {
              "fillmode": "overlay",
              "size": 10,
              "solidity": 0.2
             }
            },
            "type": "barpolar"
           }
          ],
          "carpet": [
           {
            "aaxis": {
             "endlinecolor": "#2a3f5f",
             "gridcolor": "white",
             "linecolor": "white",
             "minorgridcolor": "white",
             "startlinecolor": "#2a3f5f"
            },
            "baxis": {
             "endlinecolor": "#2a3f5f",
             "gridcolor": "white",
             "linecolor": "white",
             "minorgridcolor": "white",
             "startlinecolor": "#2a3f5f"
            },
            "type": "carpet"
           }
          ],
          "choropleth": [
           {
            "colorbar": {
             "outlinewidth": 0,
             "ticks": ""
            },
            "type": "choropleth"
           }
          ],
          "contour": [
           {
            "colorbar": {
             "outlinewidth": 0,
             "ticks": ""
            },
            "colorscale": [
             [
              0,
              "#0d0887"
             ],
             [
              0.1111111111111111,
              "#46039f"
             ],
             [
              0.2222222222222222,
              "#7201a8"
             ],
             [
              0.3333333333333333,
              "#9c179e"
             ],
             [
              0.4444444444444444,
              "#bd3786"
             ],
             [
              0.5555555555555556,
              "#d8576b"
             ],
             [
              0.6666666666666666,
              "#ed7953"
             ],
             [
              0.7777777777777778,
              "#fb9f3a"
             ],
             [
              0.8888888888888888,
              "#fdca26"
             ],
             [
              1,
              "#f0f921"
             ]
            ],
            "type": "contour"
           }
          ],
          "contourcarpet": [
           {
            "colorbar": {
             "outlinewidth": 0,
             "ticks": ""
            },
            "type": "contourcarpet"
           }
          ],
          "heatmap": [
           {
            "colorbar": {
             "outlinewidth": 0,
             "ticks": ""
            },
            "colorscale": [
             [
              0,
              "#0d0887"
             ],
             [
              0.1111111111111111,
              "#46039f"
             ],
             [
              0.2222222222222222,
              "#7201a8"
             ],
             [
              0.3333333333333333,
              "#9c179e"
             ],
             [
              0.4444444444444444,
              "#bd3786"
             ],
             [
              0.5555555555555556,
              "#d8576b"
             ],
             [
              0.6666666666666666,
              "#ed7953"
             ],
             [
              0.7777777777777778,
              "#fb9f3a"
             ],
             [
              0.8888888888888888,
              "#fdca26"
             ],
             [
              1,
              "#f0f921"
             ]
            ],
            "type": "heatmap"
           }
          ],
          "histogram": [
           {
            "marker": {
             "pattern": {
              "fillmode": "overlay",
              "size": 10,
              "solidity": 0.2
             }
            },
            "type": "histogram"
           }
          ],
          "histogram2d": [
           {
            "colorbar": {
             "outlinewidth": 0,
             "ticks": ""
            },
            "colorscale": [
             [
              0,
              "#0d0887"
             ],
             [
              0.1111111111111111,
              "#46039f"
             ],
             [
              0.2222222222222222,
              "#7201a8"
             ],
             [
              0.3333333333333333,
              "#9c179e"
             ],
             [
              0.4444444444444444,
              "#bd3786"
             ],
             [
              0.5555555555555556,
              "#d8576b"
             ],
             [
              0.6666666666666666,
              "#ed7953"
             ],
             [
              0.7777777777777778,
              "#fb9f3a"
             ],
             [
              0.8888888888888888,
              "#fdca26"
             ],
             [
              1,
              "#f0f921"
             ]
            ],
            "type": "histogram2d"
           }
          ],
          "histogram2dcontour": [
           {
            "colorbar": {
             "outlinewidth": 0,
             "ticks": ""
            },
            "colorscale": [
             [
              0,
              "#0d0887"
             ],
             [
              0.1111111111111111,
              "#46039f"
             ],
             [
              0.2222222222222222,
              "#7201a8"
             ],
             [
              0.3333333333333333,
              "#9c179e"
             ],
             [
              0.4444444444444444,
              "#bd3786"
             ],
             [
              0.5555555555555556,
              "#d8576b"
             ],
             [
              0.6666666666666666,
              "#ed7953"
             ],
             [
              0.7777777777777778,
              "#fb9f3a"
             ],
             [
              0.8888888888888888,
              "#fdca26"
             ],
             [
              1,
              "#f0f921"
             ]
            ],
            "type": "histogram2dcontour"
           }
          ],
          "mesh3d": [
           {
            "colorbar": {
             "outlinewidth": 0,
             "ticks": ""
            },
            "type": "mesh3d"
           }
          ],
          "parcoords": [
           {
            "line": {
             "colorbar": {
              "outlinewidth": 0,
              "ticks": ""
             }
            },
            "type": "parcoords"
           }
          ],
          "pie": [
           {
            "automargin": true,
            "type": "pie"
           }
          ],
          "scatter": [
           {
            "fillpattern": {
             "fillmode": "overlay",
             "size": 10,
             "solidity": 0.2
            },
            "type": "scatter"
           }
          ],
          "scatter3d": [
           {
            "line": {
             "colorbar": {
              "outlinewidth": 0,
              "ticks": ""
             }
            },
            "marker": {
             "colorbar": {
              "outlinewidth": 0,
              "ticks": ""
             }
            },
            "type": "scatter3d"
           }
          ],
          "scattercarpet": [
           {
            "marker": {
             "colorbar": {
              "outlinewidth": 0,
              "ticks": ""
             }
            },
            "type": "scattercarpet"
           }
          ],
          "scattergeo": [
           {
            "marker": {
             "colorbar": {
              "outlinewidth": 0,
              "ticks": ""
             }
            },
            "type": "scattergeo"
           }
          ],
          "scattergl": [
           {
            "marker": {
             "colorbar": {
              "outlinewidth": 0,
              "ticks": ""
             }
            },
            "type": "scattergl"
           }
          ],
          "scattermap": [
           {
            "marker": {
             "colorbar": {
              "outlinewidth": 0,
              "ticks": ""
             }
            },
            "type": "scattermap"
           }
          ],
          "scattermapbox": [
           {
            "marker": {
             "colorbar": {
              "outlinewidth": 0,
              "ticks": ""
             }
            },
            "type": "scattermapbox"
           }
          ],
          "scatterpolar": [
           {
            "marker": {
             "colorbar": {
              "outlinewidth": 0,
              "ticks": ""
             }
            },
            "type": "scatterpolar"
           }
          ],
          "scatterpolargl": [
           {
            "marker": {
             "colorbar": {
              "outlinewidth": 0,
              "ticks": ""
             }
            },
            "type": "scatterpolargl"
           }
          ],
          "scatterternary": [
           {
            "marker": {
             "colorbar": {
              "outlinewidth": 0,
              "ticks": ""
             }
            },
            "type": "scatterternary"
           }
          ],
          "surface": [
           {
            "colorbar": {
             "outlinewidth": 0,
             "ticks": ""
            },
            "colorscale": [
             [
              0,
              "#0d0887"
             ],
             [
              0.1111111111111111,
              "#46039f"
             ],
             [
              0.2222222222222222,
              "#7201a8"
             ],
             [
              0.3333333333333333,
              "#9c179e"
             ],
             [
              0.4444444444444444,
              "#bd3786"
             ],
             [
              0.5555555555555556,
              "#d8576b"
             ],
             [
              0.6666666666666666,
              "#ed7953"
             ],
             [
              0.7777777777777778,
              "#fb9f3a"
             ],
             [
              0.8888888888888888,
              "#fdca26"
             ],
             [
              1,
              "#f0f921"
             ]
            ],
            "type": "surface"
           }
          ],
          "table": [
           {
            "cells": {
             "fill": {
              "color": "#EBF0F8"
             },
             "line": {
              "color": "white"
             }
            },
            "header": {
             "fill": {
              "color": "#C8D4E3"
             },
             "line": {
              "color": "white"
             }
            },
            "type": "table"
           }
          ]
         },
         "layout": {
          "annotationdefaults": {
           "arrowcolor": "#2a3f5f",
           "arrowhead": 0,
           "arrowwidth": 1
          },
          "autotypenumbers": "strict",
          "coloraxis": {
           "colorbar": {
            "outlinewidth": 0,
            "ticks": ""
           }
          },
          "colorscale": {
           "diverging": [
            [
             0,
             "#8e0152"
            ],
            [
             0.1,
             "#c51b7d"
            ],
            [
             0.2,
             "#de77ae"
            ],
            [
             0.3,
             "#f1b6da"
            ],
            [
             0.4,
             "#fde0ef"
            ],
            [
             0.5,
             "#f7f7f7"
            ],
            [
             0.6,
             "#e6f5d0"
            ],
            [
             0.7,
             "#b8e186"
            ],
            [
             0.8,
             "#7fbc41"
            ],
            [
             0.9,
             "#4d9221"
            ],
            [
             1,
             "#276419"
            ]
           ],
           "sequential": [
            [
             0,
             "#0d0887"
            ],
            [
             0.1111111111111111,
             "#46039f"
            ],
            [
             0.2222222222222222,
             "#7201a8"
            ],
            [
             0.3333333333333333,
             "#9c179e"
            ],
            [
             0.4444444444444444,
             "#bd3786"
            ],
            [
             0.5555555555555556,
             "#d8576b"
            ],
            [
             0.6666666666666666,
             "#ed7953"
            ],
            [
             0.7777777777777778,
             "#fb9f3a"
            ],
            [
             0.8888888888888888,
             "#fdca26"
            ],
            [
             1,
             "#f0f921"
            ]
           ],
           "sequentialminus": [
            [
             0,
             "#0d0887"
            ],
            [
             0.1111111111111111,
             "#46039f"
            ],
            [
             0.2222222222222222,
             "#7201a8"
            ],
            [
             0.3333333333333333,
             "#9c179e"
            ],
            [
             0.4444444444444444,
             "#bd3786"
            ],
            [
             0.5555555555555556,
             "#d8576b"
            ],
            [
             0.6666666666666666,
             "#ed7953"
            ],
            [
             0.7777777777777778,
             "#fb9f3a"
            ],
            [
             0.8888888888888888,
             "#fdca26"
            ],
            [
             1,
             "#f0f921"
            ]
           ]
          },
          "colorway": [
           "#636efa",
           "#EF553B",
           "#00cc96",
           "#ab63fa",
           "#FFA15A",
           "#19d3f3",
           "#FF6692",
           "#B6E880",
           "#FF97FF",
           "#FECB52"
          ],
          "font": {
           "color": "#2a3f5f"
          },
          "geo": {
           "bgcolor": "white",
           "lakecolor": "white",
           "landcolor": "#E5ECF6",
           "showlakes": true,
           "showland": true,
           "subunitcolor": "white"
          },
          "hoverlabel": {
           "align": "left"
          },
          "hovermode": "closest",
          "mapbox": {
           "style": "light"
          },
          "paper_bgcolor": "white",
          "plot_bgcolor": "#E5ECF6",
          "polar": {
           "angularaxis": {
            "gridcolor": "white",
            "linecolor": "white",
            "ticks": ""
           },
           "bgcolor": "#E5ECF6",
           "radialaxis": {
            "gridcolor": "white",
            "linecolor": "white",
            "ticks": ""
           }
          },
          "scene": {
           "xaxis": {
            "backgroundcolor": "#E5ECF6",
            "gridcolor": "white",
            "gridwidth": 2,
            "linecolor": "white",
            "showbackground": true,
            "ticks": "",
            "zerolinecolor": "white"
           },
           "yaxis": {
            "backgroundcolor": "#E5ECF6",
            "gridcolor": "white",
            "gridwidth": 2,
            "linecolor": "white",
            "showbackground": true,
            "ticks": "",
            "zerolinecolor": "white"
           },
           "zaxis": {
            "backgroundcolor": "#E5ECF6",
            "gridcolor": "white",
            "gridwidth": 2,
            "linecolor": "white",
            "showbackground": true,
            "ticks": "",
            "zerolinecolor": "white"
           }
          },
          "shapedefaults": {
           "line": {
            "color": "#2a3f5f"
           }
          },
          "ternary": {
           "aaxis": {
            "gridcolor": "white",
            "linecolor": "white",
            "ticks": ""
           },
           "baxis": {
            "gridcolor": "white",
            "linecolor": "white",
            "ticks": ""
           },
           "bgcolor": "#E5ECF6",
           "caxis": {
            "gridcolor": "white",
            "linecolor": "white",
            "ticks": ""
           }
          },
          "title": {
           "x": 0.05
          },
          "xaxis": {
           "automargin": true,
           "gridcolor": "white",
           "linecolor": "white",
           "ticks": "",
           "title": {
            "standoff": 15
           },
           "zerolinecolor": "white",
           "zerolinewidth": 2
          },
          "yaxis": {
           "automargin": true,
           "gridcolor": "white",
           "linecolor": "white",
           "ticks": "",
           "title": {
            "standoff": 15
           },
           "zerolinecolor": "white",
           "zerolinewidth": 2
          }
         }
        },
        "title": {
         "text": "Índice de Jaccard Semana a Semana"
        },
        "xaxis": {
         "tickangle": -45,
         "tickformat": "%Y-%W",
         "tickmode": "array",
         "tickvals": [
          "2021-44 - 2021-45",
          "2021-45 - 2021-46",
          "2021-46 - 2021-47",
          "2021-47 - 2021-48",
          "2021-48 - 2021-49",
          "2021-49 - 2021-50",
          "2021-50 - 2021-51",
          "2021-51 - 2022-00",
          "2022-00 - 2022-01",
          "2022-01 - 2022-02",
          "2022-02 - 2022-03",
          "2022-03 - 2022-04",
          "2022-04 - 2022-05",
          "2022-05 - 2022-06",
          "2022-06 - 2022-07",
          "2022-07 - 2022-08",
          "2022-08 - 2022-09",
          "2022-09 - 2022-10",
          "2022-10 - 2022-11",
          "2022-11 - 2022-12",
          "2022-12 - 2022-13",
          "2022-13 - 2022-14",
          "2022-14 - 2022-15",
          "2022-15 - 2022-16",
          "2022-16 - 2022-17",
          "2022-17 - 2022-18",
          "2022-18 - 2022-19",
          "2022-19 - 2022-20",
          "2022-20 - 2022-21",
          "2022-21 - 2022-22",
          "2022-22 - 2022-23",
          "2022-23 - 2022-24",
          "2022-24 - 2022-25",
          "2022-25 - 2022-26",
          "2022-26 - 2022-27",
          "2022-27 - 2022-28",
          "2022-28 - 2022-29",
          "2022-29 - 2022-30",
          "2022-30 - 2022-31",
          "2022-31 - 2022-32",
          "2022-32 - 2022-33",
          "2022-33 - 2022-34",
          "2022-34 - 2022-35",
          "2022-35 - 2022-36",
          "2022-36 - 2022-37",
          "2022-37 - 2022-38",
          "2022-38 - 2022-39",
          "2022-39 - 2022-40",
          "2022-40 - 2022-41",
          "2022-41 - 2022-42",
          "2022-42 - 2022-43",
          "2022-43 - 2022-44",
          "2022-44 - 2022-45",
          "2022-45 - 2022-46",
          "2022-46 - 2022-47",
          "2022-47 - 2022-48",
          "2022-48 - 2022-49",
          "2022-49 - 2022-50",
          "2022-50 - 2022-51",
          "2022-51 - 2023-00",
          "2023-00 - 2023-01",
          "2023-01 - 2023-02",
          "2023-02 - 2023-03",
          "2023-03 - 2023-04",
          "2023-04 - 2023-05",
          "2023-05 - 2023-06",
          "2023-06 - 2023-07",
          "2023-07 - 2023-08",
          "2023-08 - 2023-09",
          "2023-09 - 2023-10",
          "2023-10 - 2023-11",
          "2023-11 - 2023-12",
          "2023-12 - 2023-13",
          "2023-13 - 2023-14",
          "2023-14 - 2023-15",
          "2023-15 - 2023-16",
          "2023-16 - 2023-17",
          "2023-17 - 2023-18",
          "2023-18 - 2023-19",
          "2023-19 - 2023-20",
          "2023-20 - 2023-21",
          "2023-21 - 2023-22",
          "2023-22 - 2023-23",
          "2023-23 - 2023-24",
          "2023-24 - 2023-25",
          "2023-25 - 2023-26",
          "2023-26 - 2023-27",
          "2023-27 - 2023-28",
          "2023-28 - 2023-29",
          "2023-29 - 2023-30",
          "2023-30 - 2023-31",
          "2023-31 - 2023-32",
          "2023-32 - 2023-33",
          "2023-33 - 2023-34",
          "2023-34 - 2023-35",
          "2023-35 - 2023-36",
          "2023-36 - 2023-37",
          "2023-37 - 2023-38",
          "2023-38 - 2023-39",
          "2023-39 - 2023-40",
          "2023-40 - 2023-41",
          "2023-41 - 2023-42",
          "2023-42 - 2023-43",
          "2023-43 - 2023-44",
          "2023-44 - 2023-45",
          "2023-45 - 2023-46",
          "2023-46 - 2023-47",
          "2023-47 - 2023-48",
          "2023-48 - 2023-49",
          "2023-49 - 2023-50",
          "2023-50 - 2023-51",
          "2023-51 - 2023-52",
          "2023-52 - 2024-01",
          "2024-01 - 2024-02",
          "2024-02 - 2024-03",
          "2024-03 - 2024-04",
          "2024-04 - 2024-05"
         ],
         "title": {
          "text": "Fechas"
         }
        },
        "yaxis": {
         "range": [
          0,
          1
         ],
         "title": {
          "text": "Índice de Jaccard"
         }
        }
       }
      }
     },
     "metadata": {},
     "output_type": "display_data"
    }
   ],
   "source": [
    "# semana a semana\n",
    "jaccard_indices_week = []\n",
    "semanas = []\n",
    "\n",
    "prev_week_words = None\n",
    "prev_period = None\n",
    "\n",
    "for period, data_tokenized in grouped_data_week.items():\n",
    "    word_counts_current = Counter()\n",
    "    for tokens in data_tokenized:\n",
    "        if isinstance(tokens, str):  # Si los tokens son una cadena de texto\n",
    "            words = tokens.split()  # Dividir la cadena en palabras\n",
    "            word_counts_current.update(words)  # Actualizar el contador con las palabras\n",
    "        elif isinstance(tokens, list):  # Si los tokens son una lista\n",
    "            word_counts_current.update(tokens)  # Actualizar el contador directamente\n",
    "\n",
    "    sorted_word_counts = dict(sorted(word_counts_current.items(), key=lambda item: item[1], reverse=True))\n",
    "    idx_start = 10\n",
    "    idx_finish = 20\n",
    "    current_week_words = set(list(sorted_word_counts.keys())[idx_start:idx_finish])\n",
    "\n",
    "    if prev_week_words is not None:\n",
    "        jaccard_index = jaccard_similarity(prev_week_words, current_week_words)\n",
    "        jaccard_indices_week.append(jaccard_index)\n",
    "        semanas.append(f'{prev_period.strftime(\"%Y-%W\")} - {period.strftime(\"%Y-%W\")}')\n",
    "\n",
    "    prev_week_words = current_week_words\n",
    "    prev_period = period\n",
    "\n",
    "# Graficar el índice de Jaccard semana a semana con Plotly\n",
    "fig = go.Figure()\n",
    "\n",
    "fig.add_trace(go.Scatter(\n",
    "    x=semanas,\n",
    "    y=jaccard_indices_week,\n",
    "    mode='lines+markers',\n",
    "    marker=dict(size=10),\n",
    "    line=dict(width=2),\n",
    "    name='Índice de Jaccard'\n",
    "))\n",
    "\n",
    "fig.update_layout(\n",
    "    title='Índice de Jaccard Semana a Semana',\n",
    "    xaxis_title='Fechas',\n",
    "    yaxis_title='Índice de Jaccard',\n",
    "    xaxis_tickangle=-45,\n",
    "    xaxis_tickformat='%Y-%W',\n",
    "    xaxis=dict(tickmode='array', tickvals=semanas),\n",
    "    yaxis=dict(range=[0, 1]),\n",
    "    showlegend=True\n",
    ")\n",
    "\n",
    "fig.show()"
   ]
  },
  {
   "cell_type": "code",
   "execution_count": 33,
   "id": "ae5fd68e-57e7-41b7-ba44-2b82f8f6dcc3",
   "metadata": {},
   "outputs": [
    {
     "data": {
      "application/vnd.plotly.v1+json": {
       "config": {
        "plotlyServerURL": "https://plot.ly"
       },
       "data": [
        {
         "line": {
          "width": 2
         },
         "marker": {
          "size": 10
         },
         "mode": "lines+markers",
         "name": "Índice de Jaccard",
         "type": "scatter",
         "x": [
          "2021-11 - 2021-12",
          "2021-12 - 2022-01",
          "2022-01 - 2022-02",
          "2022-02 - 2022-03",
          "2022-03 - 2022-04",
          "2022-04 - 2022-05",
          "2022-05 - 2022-06",
          "2022-06 - 2022-07",
          "2022-07 - 2022-08",
          "2022-08 - 2022-09",
          "2022-09 - 2022-10",
          "2022-10 - 2022-11",
          "2022-11 - 2022-12",
          "2022-12 - 2023-01",
          "2023-01 - 2023-02",
          "2023-02 - 2023-03",
          "2023-03 - 2023-04",
          "2023-04 - 2023-05",
          "2023-05 - 2023-06",
          "2023-06 - 2023-07",
          "2023-07 - 2023-08",
          "2023-08 - 2023-09",
          "2023-09 - 2023-10",
          "2023-10 - 2023-11",
          "2023-11 - 2023-12",
          "2023-12 - 2024-01"
         ],
         "y": [
          0.25,
          0.25,
          0.17647058823529413,
          0.3333333333333333,
          0.17647058823529413,
          0.17647058823529413,
          0.1111111111111111,
          0.05263157894736842,
          0.1111111111111111,
          0.1111111111111111,
          0.1111111111111111,
          0.17647058823529413,
          0.3333333333333333,
          0.17647058823529413,
          0.3333333333333333,
          0.17647058823529413,
          0.25,
          0.17647058823529413,
          0.17647058823529413,
          0.5384615384615384,
          0.42857142857142855,
          0.3333333333333333,
          0.17647058823529413,
          0.17647058823529413,
          0.5384615384615384,
          0.25
         ]
        }
       ],
       "layout": {
        "showlegend": true,
        "template": {
         "data": {
          "bar": [
           {
            "error_x": {
             "color": "#2a3f5f"
            },
            "error_y": {
             "color": "#2a3f5f"
            },
            "marker": {
             "line": {
              "color": "#E5ECF6",
              "width": 0.5
             },
             "pattern": {
              "fillmode": "overlay",
              "size": 10,
              "solidity": 0.2
             }
            },
            "type": "bar"
           }
          ],
          "barpolar": [
           {
            "marker": {
             "line": {
              "color": "#E5ECF6",
              "width": 0.5
             },
             "pattern": {
              "fillmode": "overlay",
              "size": 10,
              "solidity": 0.2
             }
            },
            "type": "barpolar"
           }
          ],
          "carpet": [
           {
            "aaxis": {
             "endlinecolor": "#2a3f5f",
             "gridcolor": "white",
             "linecolor": "white",
             "minorgridcolor": "white",
             "startlinecolor": "#2a3f5f"
            },
            "baxis": {
             "endlinecolor": "#2a3f5f",
             "gridcolor": "white",
             "linecolor": "white",
             "minorgridcolor": "white",
             "startlinecolor": "#2a3f5f"
            },
            "type": "carpet"
           }
          ],
          "choropleth": [
           {
            "colorbar": {
             "outlinewidth": 0,
             "ticks": ""
            },
            "type": "choropleth"
           }
          ],
          "contour": [
           {
            "colorbar": {
             "outlinewidth": 0,
             "ticks": ""
            },
            "colorscale": [
             [
              0,
              "#0d0887"
             ],
             [
              0.1111111111111111,
              "#46039f"
             ],
             [
              0.2222222222222222,
              "#7201a8"
             ],
             [
              0.3333333333333333,
              "#9c179e"
             ],
             [
              0.4444444444444444,
              "#bd3786"
             ],
             [
              0.5555555555555556,
              "#d8576b"
             ],
             [
              0.6666666666666666,
              "#ed7953"
             ],
             [
              0.7777777777777778,
              "#fb9f3a"
             ],
             [
              0.8888888888888888,
              "#fdca26"
             ],
             [
              1,
              "#f0f921"
             ]
            ],
            "type": "contour"
           }
          ],
          "contourcarpet": [
           {
            "colorbar": {
             "outlinewidth": 0,
             "ticks": ""
            },
            "type": "contourcarpet"
           }
          ],
          "heatmap": [
           {
            "colorbar": {
             "outlinewidth": 0,
             "ticks": ""
            },
            "colorscale": [
             [
              0,
              "#0d0887"
             ],
             [
              0.1111111111111111,
              "#46039f"
             ],
             [
              0.2222222222222222,
              "#7201a8"
             ],
             [
              0.3333333333333333,
              "#9c179e"
             ],
             [
              0.4444444444444444,
              "#bd3786"
             ],
             [
              0.5555555555555556,
              "#d8576b"
             ],
             [
              0.6666666666666666,
              "#ed7953"
             ],
             [
              0.7777777777777778,
              "#fb9f3a"
             ],
             [
              0.8888888888888888,
              "#fdca26"
             ],
             [
              1,
              "#f0f921"
             ]
            ],
            "type": "heatmap"
           }
          ],
          "histogram": [
           {
            "marker": {
             "pattern": {
              "fillmode": "overlay",
              "size": 10,
              "solidity": 0.2
             }
            },
            "type": "histogram"
           }
          ],
          "histogram2d": [
           {
            "colorbar": {
             "outlinewidth": 0,
             "ticks": ""
            },
            "colorscale": [
             [
              0,
              "#0d0887"
             ],
             [
              0.1111111111111111,
              "#46039f"
             ],
             [
              0.2222222222222222,
              "#7201a8"
             ],
             [
              0.3333333333333333,
              "#9c179e"
             ],
             [
              0.4444444444444444,
              "#bd3786"
             ],
             [
              0.5555555555555556,
              "#d8576b"
             ],
             [
              0.6666666666666666,
              "#ed7953"
             ],
             [
              0.7777777777777778,
              "#fb9f3a"
             ],
             [
              0.8888888888888888,
              "#fdca26"
             ],
             [
              1,
              "#f0f921"
             ]
            ],
            "type": "histogram2d"
           }
          ],
          "histogram2dcontour": [
           {
            "colorbar": {
             "outlinewidth": 0,
             "ticks": ""
            },
            "colorscale": [
             [
              0,
              "#0d0887"
             ],
             [
              0.1111111111111111,
              "#46039f"
             ],
             [
              0.2222222222222222,
              "#7201a8"
             ],
             [
              0.3333333333333333,
              "#9c179e"
             ],
             [
              0.4444444444444444,
              "#bd3786"
             ],
             [
              0.5555555555555556,
              "#d8576b"
             ],
             [
              0.6666666666666666,
              "#ed7953"
             ],
             [
              0.7777777777777778,
              "#fb9f3a"
             ],
             [
              0.8888888888888888,
              "#fdca26"
             ],
             [
              1,
              "#f0f921"
             ]
            ],
            "type": "histogram2dcontour"
           }
          ],
          "mesh3d": [
           {
            "colorbar": {
             "outlinewidth": 0,
             "ticks": ""
            },
            "type": "mesh3d"
           }
          ],
          "parcoords": [
           {
            "line": {
             "colorbar": {
              "outlinewidth": 0,
              "ticks": ""
             }
            },
            "type": "parcoords"
           }
          ],
          "pie": [
           {
            "automargin": true,
            "type": "pie"
           }
          ],
          "scatter": [
           {
            "fillpattern": {
             "fillmode": "overlay",
             "size": 10,
             "solidity": 0.2
            },
            "type": "scatter"
           }
          ],
          "scatter3d": [
           {
            "line": {
             "colorbar": {
              "outlinewidth": 0,
              "ticks": ""
             }
            },
            "marker": {
             "colorbar": {
              "outlinewidth": 0,
              "ticks": ""
             }
            },
            "type": "scatter3d"
           }
          ],
          "scattercarpet": [
           {
            "marker": {
             "colorbar": {
              "outlinewidth": 0,
              "ticks": ""
             }
            },
            "type": "scattercarpet"
           }
          ],
          "scattergeo": [
           {
            "marker": {
             "colorbar": {
              "outlinewidth": 0,
              "ticks": ""
             }
            },
            "type": "scattergeo"
           }
          ],
          "scattergl": [
           {
            "marker": {
             "colorbar": {
              "outlinewidth": 0,
              "ticks": ""
             }
            },
            "type": "scattergl"
           }
          ],
          "scattermap": [
           {
            "marker": {
             "colorbar": {
              "outlinewidth": 0,
              "ticks": ""
             }
            },
            "type": "scattermap"
           }
          ],
          "scattermapbox": [
           {
            "marker": {
             "colorbar": {
              "outlinewidth": 0,
              "ticks": ""
             }
            },
            "type": "scattermapbox"
           }
          ],
          "scatterpolar": [
           {
            "marker": {
             "colorbar": {
              "outlinewidth": 0,
              "ticks": ""
             }
            },
            "type": "scatterpolar"
           }
          ],
          "scatterpolargl": [
           {
            "marker": {
             "colorbar": {
              "outlinewidth": 0,
              "ticks": ""
             }
            },
            "type": "scatterpolargl"
           }
          ],
          "scatterternary": [
           {
            "marker": {
             "colorbar": {
              "outlinewidth": 0,
              "ticks": ""
             }
            },
            "type": "scatterternary"
           }
          ],
          "surface": [
           {
            "colorbar": {
             "outlinewidth": 0,
             "ticks": ""
            },
            "colorscale": [
             [
              0,
              "#0d0887"
             ],
             [
              0.1111111111111111,
              "#46039f"
             ],
             [
              0.2222222222222222,
              "#7201a8"
             ],
             [
              0.3333333333333333,
              "#9c179e"
             ],
             [
              0.4444444444444444,
              "#bd3786"
             ],
             [
              0.5555555555555556,
              "#d8576b"
             ],
             [
              0.6666666666666666,
              "#ed7953"
             ],
             [
              0.7777777777777778,
              "#fb9f3a"
             ],
             [
              0.8888888888888888,
              "#fdca26"
             ],
             [
              1,
              "#f0f921"
             ]
            ],
            "type": "surface"
           }
          ],
          "table": [
           {
            "cells": {
             "fill": {
              "color": "#EBF0F8"
             },
             "line": {
              "color": "white"
             }
            },
            "header": {
             "fill": {
              "color": "#C8D4E3"
             },
             "line": {
              "color": "white"
             }
            },
            "type": "table"
           }
          ]
         },
         "layout": {
          "annotationdefaults": {
           "arrowcolor": "#2a3f5f",
           "arrowhead": 0,
           "arrowwidth": 1
          },
          "autotypenumbers": "strict",
          "coloraxis": {
           "colorbar": {
            "outlinewidth": 0,
            "ticks": ""
           }
          },
          "colorscale": {
           "diverging": [
            [
             0,
             "#8e0152"
            ],
            [
             0.1,
             "#c51b7d"
            ],
            [
             0.2,
             "#de77ae"
            ],
            [
             0.3,
             "#f1b6da"
            ],
            [
             0.4,
             "#fde0ef"
            ],
            [
             0.5,
             "#f7f7f7"
            ],
            [
             0.6,
             "#e6f5d0"
            ],
            [
             0.7,
             "#b8e186"
            ],
            [
             0.8,
             "#7fbc41"
            ],
            [
             0.9,
             "#4d9221"
            ],
            [
             1,
             "#276419"
            ]
           ],
           "sequential": [
            [
             0,
             "#0d0887"
            ],
            [
             0.1111111111111111,
             "#46039f"
            ],
            [
             0.2222222222222222,
             "#7201a8"
            ],
            [
             0.3333333333333333,
             "#9c179e"
            ],
            [
             0.4444444444444444,
             "#bd3786"
            ],
            [
             0.5555555555555556,
             "#d8576b"
            ],
            [
             0.6666666666666666,
             "#ed7953"
            ],
            [
             0.7777777777777778,
             "#fb9f3a"
            ],
            [
             0.8888888888888888,
             "#fdca26"
            ],
            [
             1,
             "#f0f921"
            ]
           ],
           "sequentialminus": [
            [
             0,
             "#0d0887"
            ],
            [
             0.1111111111111111,
             "#46039f"
            ],
            [
             0.2222222222222222,
             "#7201a8"
            ],
            [
             0.3333333333333333,
             "#9c179e"
            ],
            [
             0.4444444444444444,
             "#bd3786"
            ],
            [
             0.5555555555555556,
             "#d8576b"
            ],
            [
             0.6666666666666666,
             "#ed7953"
            ],
            [
             0.7777777777777778,
             "#fb9f3a"
            ],
            [
             0.8888888888888888,
             "#fdca26"
            ],
            [
             1,
             "#f0f921"
            ]
           ]
          },
          "colorway": [
           "#636efa",
           "#EF553B",
           "#00cc96",
           "#ab63fa",
           "#FFA15A",
           "#19d3f3",
           "#FF6692",
           "#B6E880",
           "#FF97FF",
           "#FECB52"
          ],
          "font": {
           "color": "#2a3f5f"
          },
          "geo": {
           "bgcolor": "white",
           "lakecolor": "white",
           "landcolor": "#E5ECF6",
           "showlakes": true,
           "showland": true,
           "subunitcolor": "white"
          },
          "hoverlabel": {
           "align": "left"
          },
          "hovermode": "closest",
          "mapbox": {
           "style": "light"
          },
          "paper_bgcolor": "white",
          "plot_bgcolor": "#E5ECF6",
          "polar": {
           "angularaxis": {
            "gridcolor": "white",
            "linecolor": "white",
            "ticks": ""
           },
           "bgcolor": "#E5ECF6",
           "radialaxis": {
            "gridcolor": "white",
            "linecolor": "white",
            "ticks": ""
           }
          },
          "scene": {
           "xaxis": {
            "backgroundcolor": "#E5ECF6",
            "gridcolor": "white",
            "gridwidth": 2,
            "linecolor": "white",
            "showbackground": true,
            "ticks": "",
            "zerolinecolor": "white"
           },
           "yaxis": {
            "backgroundcolor": "#E5ECF6",
            "gridcolor": "white",
            "gridwidth": 2,
            "linecolor": "white",
            "showbackground": true,
            "ticks": "",
            "zerolinecolor": "white"
           },
           "zaxis": {
            "backgroundcolor": "#E5ECF6",
            "gridcolor": "white",
            "gridwidth": 2,
            "linecolor": "white",
            "showbackground": true,
            "ticks": "",
            "zerolinecolor": "white"
           }
          },
          "shapedefaults": {
           "line": {
            "color": "#2a3f5f"
           }
          },
          "ternary": {
           "aaxis": {
            "gridcolor": "white",
            "linecolor": "white",
            "ticks": ""
           },
           "baxis": {
            "gridcolor": "white",
            "linecolor": "white",
            "ticks": ""
           },
           "bgcolor": "#E5ECF6",
           "caxis": {
            "gridcolor": "white",
            "linecolor": "white",
            "ticks": ""
           }
          },
          "title": {
           "x": 0.05
          },
          "xaxis": {
           "automargin": true,
           "gridcolor": "white",
           "linecolor": "white",
           "ticks": "",
           "title": {
            "standoff": 15
           },
           "zerolinecolor": "white",
           "zerolinewidth": 2
          },
          "yaxis": {
           "automargin": true,
           "gridcolor": "white",
           "linecolor": "white",
           "ticks": "",
           "title": {
            "standoff": 15
           },
           "zerolinecolor": "white",
           "zerolinewidth": 2
          }
         }
        },
        "title": {
         "text": "Índice de Jaccard Mes a Mes"
        },
        "xaxis": {
         "tickangle": -45,
         "tickformat": "%Y-%m",
         "tickmode": "array",
         "tickvals": [
          "2021-11 - 2021-12",
          "2021-12 - 2022-01",
          "2022-01 - 2022-02",
          "2022-02 - 2022-03",
          "2022-03 - 2022-04",
          "2022-04 - 2022-05",
          "2022-05 - 2022-06",
          "2022-06 - 2022-07",
          "2022-07 - 2022-08",
          "2022-08 - 2022-09",
          "2022-09 - 2022-10",
          "2022-10 - 2022-11",
          "2022-11 - 2022-12",
          "2022-12 - 2023-01",
          "2023-01 - 2023-02",
          "2023-02 - 2023-03",
          "2023-03 - 2023-04",
          "2023-04 - 2023-05",
          "2023-05 - 2023-06",
          "2023-06 - 2023-07",
          "2023-07 - 2023-08",
          "2023-08 - 2023-09",
          "2023-09 - 2023-10",
          "2023-10 - 2023-11",
          "2023-11 - 2023-12",
          "2023-12 - 2024-01"
         ],
         "title": {
          "text": "Fechas"
         }
        },
        "yaxis": {
         "range": [
          0,
          1
         ],
         "title": {
          "text": "Índice de Jaccard"
         }
        }
       }
      }
     },
     "metadata": {},
     "output_type": "display_data"
    }
   ],
   "source": [
    "# Calcular el índice de Jaccard mes a mes\n",
    "jaccard_indices_month = []\n",
    "meses = []\n",
    "\n",
    "prev_month_words = None\n",
    "prev_period = None\n",
    "\n",
    "for period, data_tokenized in grouped_data_month.items():\n",
    "    word_counts_current = Counter()\n",
    "    for tokens in data_tokenized:\n",
    "        if isinstance(tokens, str):  # Si los tokens son una cadena de texto\n",
    "            words = tokens.split()  # Dividir la cadena en palabras\n",
    "            word_counts_current.update(words)  # Actualizar el contador con las palabras\n",
    "        elif isinstance(tokens, list):  # Si los tokens son una lista\n",
    "            word_counts_current.update(tokens)  # Actualizar el contador directamente\n",
    "\n",
    "    sorted_word_counts = dict(sorted(word_counts_current.items(), key=lambda item: item[1], reverse=True))\n",
    "    idx_start  = 10\n",
    "    idx_finish = 20\n",
    "    current_month_words = set(list(sorted_word_counts.keys())[idx_start:idx_finish])\n",
    "\n",
    "    if prev_month_words is not None:\n",
    "        jaccard_index = jaccard_similarity(prev_month_words, current_month_words)\n",
    "        jaccard_indices_month.append(jaccard_index)\n",
    "        meses.append(f'{prev_period.strftime(\"%Y-%m\")} - {period.strftime(\"%Y-%m\")}')\n",
    "\n",
    "    prev_month_words = current_month_words\n",
    "    prev_period = period\n",
    "\n",
    "# Graficar el índice de Jaccard mes a mes con Plotly\n",
    "fig = go.Figure()\n",
    "\n",
    "fig.add_trace(go.Scatter(\n",
    "    x=meses,\n",
    "    y=jaccard_indices_month,\n",
    "    mode='lines+markers',\n",
    "    marker=dict(size=10),\n",
    "    line=dict(width=2),\n",
    "    name='Índice de Jaccard'\n",
    "))\n",
    "\n",
    "fig.update_layout(\n",
    "    title='Índice de Jaccard Mes a Mes',\n",
    "    xaxis_title='Fechas',\n",
    "    yaxis_title='Índice de Jaccard',\n",
    "    xaxis_tickangle=-45,\n",
    "    xaxis_tickformat='%Y-%m',\n",
    "    xaxis=dict(tickmode='array', tickvals=meses),\n",
    "    yaxis=dict(range=[0, 1]),\n",
    "    showlegend=True\n",
    ")\n",
    "\n",
    "fig.show()"
   ]
  },
  {
   "cell_type": "code",
   "execution_count": null,
   "id": "5bc2d701-b4bf-4e15-a3e8-e84b29bdc98e",
   "metadata": {},
   "outputs": [
    {
     "data": {
      "application/vnd.plotly.v1+json": {
       "config": {
        "plotlyServerURL": "https://plot.ly"
       },
       "data": [
        {
         "line": {
          "width": 2
         },
         "marker": {
          "size": 10
         },
         "mode": "lines+markers",
         "name": "Índice de Jaccard",
         "type": "scatter",
         "x": [
          "2021-Q4 - 2022-Q1",
          "2022-Q1 - 2022-Q2",
          "2022-Q2 - 2022-Q3",
          "2022-Q3 - 2022-Q4",
          "2022-Q4 - 2023-Q1",
          "2023-Q1 - 2023-Q2",
          "2023-Q2 - 2023-Q3",
          "2023-Q3 - 2023-Q4",
          "2023-Q4 - 2024-Q1"
         ],
         "y": [
          0.3333333333333333,
          0.42857142857142855,
          0.17647058823529413,
          0.1111111111111111,
          0.25,
          0.17647058823529413,
          0.05263157894736842,
          0.17647058823529413,
          0.1111111111111111
         ]
        }
       ],
       "layout": {
        "showlegend": true,
        "template": {
         "data": {
          "bar": [
           {
            "error_x": {
             "color": "#2a3f5f"
            },
            "error_y": {
             "color": "#2a3f5f"
            },
            "marker": {
             "line": {
              "color": "#E5ECF6",
              "width": 0.5
             },
             "pattern": {
              "fillmode": "overlay",
              "size": 10,
              "solidity": 0.2
             }
            },
            "type": "bar"
           }
          ],
          "barpolar": [
           {
            "marker": {
             "line": {
              "color": "#E5ECF6",
              "width": 0.5
             },
             "pattern": {
              "fillmode": "overlay",
              "size": 10,
              "solidity": 0.2
             }
            },
            "type": "barpolar"
           }
          ],
          "carpet": [
           {
            "aaxis": {
             "endlinecolor": "#2a3f5f",
             "gridcolor": "white",
             "linecolor": "white",
             "minorgridcolor": "white",
             "startlinecolor": "#2a3f5f"
            },
            "baxis": {
             "endlinecolor": "#2a3f5f",
             "gridcolor": "white",
             "linecolor": "white",
             "minorgridcolor": "white",
             "startlinecolor": "#2a3f5f"
            },
            "type": "carpet"
           }
          ],
          "choropleth": [
           {
            "colorbar": {
             "outlinewidth": 0,
             "ticks": ""
            },
            "type": "choropleth"
           }
          ],
          "contour": [
           {
            "colorbar": {
             "outlinewidth": 0,
             "ticks": ""
            },
            "colorscale": [
             [
              0,
              "#0d0887"
             ],
             [
              0.1111111111111111,
              "#46039f"
             ],
             [
              0.2222222222222222,
              "#7201a8"
             ],
             [
              0.3333333333333333,
              "#9c179e"
             ],
             [
              0.4444444444444444,
              "#bd3786"
             ],
             [
              0.5555555555555556,
              "#d8576b"
             ],
             [
              0.6666666666666666,
              "#ed7953"
             ],
             [
              0.7777777777777778,
              "#fb9f3a"
             ],
             [
              0.8888888888888888,
              "#fdca26"
             ],
             [
              1,
              "#f0f921"
             ]
            ],
            "type": "contour"
           }
          ],
          "contourcarpet": [
           {
            "colorbar": {
             "outlinewidth": 0,
             "ticks": ""
            },
            "type": "contourcarpet"
           }
          ],
          "heatmap": [
           {
            "colorbar": {
             "outlinewidth": 0,
             "ticks": ""
            },
            "colorscale": [
             [
              0,
              "#0d0887"
             ],
             [
              0.1111111111111111,
              "#46039f"
             ],
             [
              0.2222222222222222,
              "#7201a8"
             ],
             [
              0.3333333333333333,
              "#9c179e"
             ],
             [
              0.4444444444444444,
              "#bd3786"
             ],
             [
              0.5555555555555556,
              "#d8576b"
             ],
             [
              0.6666666666666666,
              "#ed7953"
             ],
             [
              0.7777777777777778,
              "#fb9f3a"
             ],
             [
              0.8888888888888888,
              "#fdca26"
             ],
             [
              1,
              "#f0f921"
             ]
            ],
            "type": "heatmap"
           }
          ],
          "histogram": [
           {
            "marker": {
             "pattern": {
              "fillmode": "overlay",
              "size": 10,
              "solidity": 0.2
             }
            },
            "type": "histogram"
           }
          ],
          "histogram2d": [
           {
            "colorbar": {
             "outlinewidth": 0,
             "ticks": ""
            },
            "colorscale": [
             [
              0,
              "#0d0887"
             ],
             [
              0.1111111111111111,
              "#46039f"
             ],
             [
              0.2222222222222222,
              "#7201a8"
             ],
             [
              0.3333333333333333,
              "#9c179e"
             ],
             [
              0.4444444444444444,
              "#bd3786"
             ],
             [
              0.5555555555555556,
              "#d8576b"
             ],
             [
              0.6666666666666666,
              "#ed7953"
             ],
             [
              0.7777777777777778,
              "#fb9f3a"
             ],
             [
              0.8888888888888888,
              "#fdca26"
             ],
             [
              1,
              "#f0f921"
             ]
            ],
            "type": "histogram2d"
           }
          ],
          "histogram2dcontour": [
           {
            "colorbar": {
             "outlinewidth": 0,
             "ticks": ""
            },
            "colorscale": [
             [
              0,
              "#0d0887"
             ],
             [
              0.1111111111111111,
              "#46039f"
             ],
             [
              0.2222222222222222,
              "#7201a8"
             ],
             [
              0.3333333333333333,
              "#9c179e"
             ],
             [
              0.4444444444444444,
              "#bd3786"
             ],
             [
              0.5555555555555556,
              "#d8576b"
             ],
             [
              0.6666666666666666,
              "#ed7953"
             ],
             [
              0.7777777777777778,
              "#fb9f3a"
             ],
             [
              0.8888888888888888,
              "#fdca26"
             ],
             [
              1,
              "#f0f921"
             ]
            ],
            "type": "histogram2dcontour"
           }
          ],
          "mesh3d": [
           {
            "colorbar": {
             "outlinewidth": 0,
             "ticks": ""
            },
            "type": "mesh3d"
           }
          ],
          "parcoords": [
           {
            "line": {
             "colorbar": {
              "outlinewidth": 0,
              "ticks": ""
             }
            },
            "type": "parcoords"
           }
          ],
          "pie": [
           {
            "automargin": true,
            "type": "pie"
           }
          ],
          "scatter": [
           {
            "fillpattern": {
             "fillmode": "overlay",
             "size": 10,
             "solidity": 0.2
            },
            "type": "scatter"
           }
          ],
          "scatter3d": [
           {
            "line": {
             "colorbar": {
              "outlinewidth": 0,
              "ticks": ""
             }
            },
            "marker": {
             "colorbar": {
              "outlinewidth": 0,
              "ticks": ""
             }
            },
            "type": "scatter3d"
           }
          ],
          "scattercarpet": [
           {
            "marker": {
             "colorbar": {
              "outlinewidth": 0,
              "ticks": ""
             }
            },
            "type": "scattercarpet"
           }
          ],
          "scattergeo": [
           {
            "marker": {
             "colorbar": {
              "outlinewidth": 0,
              "ticks": ""
             }
            },
            "type": "scattergeo"
           }
          ],
          "scattergl": [
           {
            "marker": {
             "colorbar": {
              "outlinewidth": 0,
              "ticks": ""
             }
            },
            "type": "scattergl"
           }
          ],
          "scattermap": [
           {
            "marker": {
             "colorbar": {
              "outlinewidth": 0,
              "ticks": ""
             }
            },
            "type": "scattermap"
           }
          ],
          "scattermapbox": [
           {
            "marker": {
             "colorbar": {
              "outlinewidth": 0,
              "ticks": ""
             }
            },
            "type": "scattermapbox"
           }
          ],
          "scatterpolar": [
           {
            "marker": {
             "colorbar": {
              "outlinewidth": 0,
              "ticks": ""
             }
            },
            "type": "scatterpolar"
           }
          ],
          "scatterpolargl": [
           {
            "marker": {
             "colorbar": {
              "outlinewidth": 0,
              "ticks": ""
             }
            },
            "type": "scatterpolargl"
           }
          ],
          "scatterternary": [
           {
            "marker": {
             "colorbar": {
              "outlinewidth": 0,
              "ticks": ""
             }
            },
            "type": "scatterternary"
           }
          ],
          "surface": [
           {
            "colorbar": {
             "outlinewidth": 0,
             "ticks": ""
            },
            "colorscale": [
             [
              0,
              "#0d0887"
             ],
             [
              0.1111111111111111,
              "#46039f"
             ],
             [
              0.2222222222222222,
              "#7201a8"
             ],
             [
              0.3333333333333333,
              "#9c179e"
             ],
             [
              0.4444444444444444,
              "#bd3786"
             ],
             [
              0.5555555555555556,
              "#d8576b"
             ],
             [
              0.6666666666666666,
              "#ed7953"
             ],
             [
              0.7777777777777778,
              "#fb9f3a"
             ],
             [
              0.8888888888888888,
              "#fdca26"
             ],
             [
              1,
              "#f0f921"
             ]
            ],
            "type": "surface"
           }
          ],
          "table": [
           {
            "cells": {
             "fill": {
              "color": "#EBF0F8"
             },
             "line": {
              "color": "white"
             }
            },
            "header": {
             "fill": {
              "color": "#C8D4E3"
             },
             "line": {
              "color": "white"
             }
            },
            "type": "table"
           }
          ]
         },
         "layout": {
          "annotationdefaults": {
           "arrowcolor": "#2a3f5f",
           "arrowhead": 0,
           "arrowwidth": 1
          },
          "autotypenumbers": "strict",
          "coloraxis": {
           "colorbar": {
            "outlinewidth": 0,
            "ticks": ""
           }
          },
          "colorscale": {
           "diverging": [
            [
             0,
             "#8e0152"
            ],
            [
             0.1,
             "#c51b7d"
            ],
            [
             0.2,
             "#de77ae"
            ],
            [
             0.3,
             "#f1b6da"
            ],
            [
             0.4,
             "#fde0ef"
            ],
            [
             0.5,
             "#f7f7f7"
            ],
            [
             0.6,
             "#e6f5d0"
            ],
            [
             0.7,
             "#b8e186"
            ],
            [
             0.8,
             "#7fbc41"
            ],
            [
             0.9,
             "#4d9221"
            ],
            [
             1,
             "#276419"
            ]
           ],
           "sequential": [
            [
             0,
             "#0d0887"
            ],
            [
             0.1111111111111111,
             "#46039f"
            ],
            [
             0.2222222222222222,
             "#7201a8"
            ],
            [
             0.3333333333333333,
             "#9c179e"
            ],
            [
             0.4444444444444444,
             "#bd3786"
            ],
            [
             0.5555555555555556,
             "#d8576b"
            ],
            [
             0.6666666666666666,
             "#ed7953"
            ],
            [
             0.7777777777777778,
             "#fb9f3a"
            ],
            [
             0.8888888888888888,
             "#fdca26"
            ],
            [
             1,
             "#f0f921"
            ]
           ],
           "sequentialminus": [
            [
             0,
             "#0d0887"
            ],
            [
             0.1111111111111111,
             "#46039f"
            ],
            [
             0.2222222222222222,
             "#7201a8"
            ],
            [
             0.3333333333333333,
             "#9c179e"
            ],
            [
             0.4444444444444444,
             "#bd3786"
            ],
            [
             0.5555555555555556,
             "#d8576b"
            ],
            [
             0.6666666666666666,
             "#ed7953"
            ],
            [
             0.7777777777777778,
             "#fb9f3a"
            ],
            [
             0.8888888888888888,
             "#fdca26"
            ],
            [
             1,
             "#f0f921"
            ]
           ]
          },
          "colorway": [
           "#636efa",
           "#EF553B",
           "#00cc96",
           "#ab63fa",
           "#FFA15A",
           "#19d3f3",
           "#FF6692",
           "#B6E880",
           "#FF97FF",
           "#FECB52"
          ],
          "font": {
           "color": "#2a3f5f"
          },
          "geo": {
           "bgcolor": "white",
           "lakecolor": "white",
           "landcolor": "#E5ECF6",
           "showlakes": true,
           "showland": true,
           "subunitcolor": "white"
          },
          "hoverlabel": {
           "align": "left"
          },
          "hovermode": "closest",
          "mapbox": {
           "style": "light"
          },
          "paper_bgcolor": "white",
          "plot_bgcolor": "#E5ECF6",
          "polar": {
           "angularaxis": {
            "gridcolor": "white",
            "linecolor": "white",
            "ticks": ""
           },
           "bgcolor": "#E5ECF6",
           "radialaxis": {
            "gridcolor": "white",
            "linecolor": "white",
            "ticks": ""
           }
          },
          "scene": {
           "xaxis": {
            "backgroundcolor": "#E5ECF6",
            "gridcolor": "white",
            "gridwidth": 2,
            "linecolor": "white",
            "showbackground": true,
            "ticks": "",
            "zerolinecolor": "white"
           },
           "yaxis": {
            "backgroundcolor": "#E5ECF6",
            "gridcolor": "white",
            "gridwidth": 2,
            "linecolor": "white",
            "showbackground": true,
            "ticks": "",
            "zerolinecolor": "white"
           },
           "zaxis": {
            "backgroundcolor": "#E5ECF6",
            "gridcolor": "white",
            "gridwidth": 2,
            "linecolor": "white",
            "showbackground": true,
            "ticks": "",
            "zerolinecolor": "white"
           }
          },
          "shapedefaults": {
           "line": {
            "color": "#2a3f5f"
           }
          },
          "ternary": {
           "aaxis": {
            "gridcolor": "white",
            "linecolor": "white",
            "ticks": ""
           },
           "baxis": {
            "gridcolor": "white",
            "linecolor": "white",
            "ticks": ""
           },
           "bgcolor": "#E5ECF6",
           "caxis": {
            "gridcolor": "white",
            "linecolor": "white",
            "ticks": ""
           }
          },
          "title": {
           "x": 0.05
          },
          "xaxis": {
           "automargin": true,
           "gridcolor": "white",
           "linecolor": "white",
           "ticks": "",
           "title": {
            "standoff": 15
           },
           "zerolinecolor": "white",
           "zerolinewidth": 2
          },
          "yaxis": {
           "automargin": true,
           "gridcolor": "white",
           "linecolor": "white",
           "ticks": "",
           "title": {
            "standoff": 15
           },
           "zerolinecolor": "white",
           "zerolinewidth": 2
          }
         }
        },
        "title": {
         "text": "Índice de Jaccard Trimestre a Trimestre"
        },
        "xaxis": {
         "tickangle": -45,
         "tickmode": "array",
         "tickvals": [
          "2021-Q4 - 2022-Q1",
          "2022-Q1 - 2022-Q2",
          "2022-Q2 - 2022-Q3",
          "2022-Q3 - 2022-Q4",
          "2022-Q4 - 2023-Q1",
          "2023-Q1 - 2023-Q2",
          "2023-Q2 - 2023-Q3",
          "2023-Q3 - 2023-Q4",
          "2023-Q4 - 2024-Q1"
         ],
         "title": {
          "text": "Fechas"
         }
        },
        "yaxis": {
         "range": [
          0,
          1
         ],
         "title": {
          "text": "Índice de Jaccard"
         }
        }
       }
      }
     },
     "metadata": {},
     "output_type": "display_data"
    }
   ],
   "source": [
    "# Calcular el índice de Jaccard trimestre a trimestre\n",
    "jaccard_indices_3m = []\n",
    "trimestres = []\n",
    "\n",
    "def get_quarter(date):\n",
    "    month = date.month\n",
    "    return (month - 1) // 3 + 1\n",
    "\n",
    "prev_quarter_words = None\n",
    "prev_period = None\n",
    "\n",
    "for period, data_tokenized in grouped_data_3m.items():\n",
    "    word_counts_current = Counter()\n",
    "    for tokens in data_tokenized:\n",
    "        if isinstance(tokens, str): \n",
    "            words = tokens.split() \n",
    "            word_counts_current.update(words)  # Actualizar el contador con las palabras\n",
    "        elif isinstance(tokens, list):  # Si los tokens son una lista\n",
    "            word_counts_current.update(tokens)  # Actualizar el contador directamente\n",
    "    #print(word_counts_current)\n",
    "    sorted_word_counts = dict(sorted(word_counts_current.items(), key=lambda item: item[1], reverse=True))\n",
    "    idx_start = 10\n",
    "    idx_finish = 20\n",
    "    current_quarter_words = set(list(sorted_word_counts.keys())[idx_start:idx_finish])\n",
    "\n",
    "    if prev_quarter_words is not None:\n",
    "        jaccard_index = jaccard_similarity(prev_quarter_words, current_quarter_words)\n",
    "        jaccard_indices_3m.append(jaccard_index)\n",
    "        trimestres.append(f'{prev_period.year}-Q{get_quarter(prev_period)} - {period.year}-Q{get_quarter(period)}')\n",
    "\n",
    "    prev_quarter_words = current_quarter_words\n",
    "    prev_period = period\n",
    "\n",
    "# Graficar el índice de Jaccard trimestre a trimestre con Plotly\n",
    "fig = go.Figure()\n",
    "\n",
    "fig.add_trace(go.Scatter(\n",
    "    x=trimestres,\n",
    "    y=jaccard_indices_3m,\n",
    "    mode='lines+markers',\n",
    "    marker=dict(size=10),\n",
    "    line=dict(width=2),\n",
    "    name='Índice de Jaccard'\n",
    "))\n",
    "\n",
    "fig.update_layout(\n",
    "    title='Índice de Jaccard Trimestre a Trimestre',\n",
    "    xaxis_title='Fechas',\n",
    "    yaxis_title='Índice de Jaccard',\n",
    "    xaxis_tickangle=-45,\n",
    "    xaxis=dict(tickmode='array', tickvals=trimestres),\n",
    "    yaxis=dict(range=[0, 1]),\n",
    "    showlegend=True\n",
    ")\n",
    "\n",
    "fig.show()"
   ]
  },
  {
   "cell_type": "code",
   "execution_count": 35,
   "id": "f36af20f-9d92-4125-bdb3-01fb3721005c",
   "metadata": {},
   "outputs": [
    {
     "name": "stdout",
     "output_type": "stream",
     "text": [
      "                       Diario   Semanal   Mensual  Trimestral\n",
      "Varianza             0.003562  0.009489  0.015605    0.013959\n",
      "Desviación Estándar  0.059681  0.097409  0.124921    0.118150\n"
     ]
    }
   ],
   "source": [
    "jaccard_indices_d = pd.Series(jaccard_indices_day)\n",
    "jaccard_indices_w = pd.Series(jaccard_indices_week)\n",
    "jaccard_indices_m = pd.Series(jaccard_indices_month)\n",
    "jaccard_indices_q = pd.Series(jaccard_indices_3m)\n",
    "\n",
    "variabilidad = {\n",
    "    'Diario': {\n",
    "        'Varianza': jaccard_indices_d.var(),\n",
    "        'Desviación Estándar': jaccard_indices_d.std()\n",
    "    },\n",
    "    'Semanal': {\n",
    "        'Varianza': jaccard_indices_w.var(),\n",
    "        'Desviación Estándar': jaccard_indices_w.std()\n",
    "    },\n",
    "    'Mensual': {\n",
    "        'Varianza': jaccard_indices_m.var(),\n",
    "        'Desviación Estándar': jaccard_indices_m.std()\n",
    "    },\n",
    "    'Trimestral': {\n",
    "        'Varianza': jaccard_indices_q.var(),\n",
    "        'Desviación Estándar': jaccard_indices_q.std()\n",
    "    }\n",
    "}\n",
    "\n",
    "print(pd.DataFrame(variabilidad))"
   ]
  },
  {
   "cell_type": "code",
   "execution_count": 36,
   "id": "3ef30885-30c8-45bc-b175-8170a3558a92",
   "metadata": {},
   "outputs": [
    {
     "data": {
      "image/png": "[encoded data removed]",
      "text/plain": [
       "<Figure size 1000x600 with 1 Axes>"
      ]
     },
     "metadata": {},
     "output_type": "display_data"
    }
   ],
   "source": [
    "data = {\n",
    "    'Diario': jaccard_indices_d,\n",
    "    'Semanal': jaccard_indices_w,\n",
    "    'Mensual': jaccard_indices_m,\n",
    "    'Trimestral': jaccard_indices_q\n",
    "}\n",
    "\n",
    "# Crear DataFrame\n",
    "df = pd.DataFrame(data)\n",
    "\n",
    "# Análisis de Volatilidad\n",
    "plt.figure(figsize=(10, 6))\n",
    "sns.boxplot(data=df)\n",
    "plt.title('Volatilidad de Índices de Jaccard')\n",
    "plt.xlabel('Periodo')\n",
    "plt.ylabel('Índice de Jaccard')\n",
    "plt.show()"
   ]
  },
  {
   "cell_type": "code",
   "execution_count": 17,
   "id": "15d15afc-57f3-4a61-95db-16c7008a412e",
   "metadata": {
    "tags": []
   },
   "outputs": [
    {
     "name": "stdout",
     "output_type": "stream",
     "text": [
      "2021 2024\n"
     ]
    }
   ],
   "source": [
    "min_year = dataset_fw['Fecha_Publicacion'].dt.year.min()\n",
    "max_year = dataset_fw['Fecha_Publicacion'].dt.year.max()\n",
    "print(min_year, max_year)"
   ]
  },
  {
   "cell_type": "code",
   "execution_count": null,
   "id": "73de471a-ee89-4e1c-8b09-38fdadffbdc1",
   "metadata": {},
   "outputs": [],
   "source": [
    "# https://ts.gluon.ai/stable/\n",
    "# https://ts.gluon.ai/stable/tutorials/forecasting/quick_start_tutorial.html"
   ]
  },
  {
   "cell_type": "markdown",
   "id": "c249e67f",
   "metadata": {},
   "source": [
    "## TF-IDF temporal\n",
    "Calcula cuánto se destaca una palabra en un periodo con respecto al resto."
   ]
  },
  {
   "cell_type": "code",
   "execution_count": 37,
   "id": "7979a80d",
   "metadata": {},
   "outputs": [
    {
     "name": "stdout",
     "output_type": "stream",
     "text": [
      "\n",
      "2021-11-30 00:00:00:\n",
      "  2021: 0.2390\n",
      "  presidente: 0.1551\n",
      "  ministerio: 0.1534\n",
      "  lasso: 0.1349\n",
      "  proyecto: 0.1288\n",
      "  empresa: 0.1282\n",
      "  caso: 0.1220\n",
      "  reforma: 0.1192\n",
      "  primero: 0.1052\n",
      "  asamblea: 0.1030\n",
      "\n",
      "2021-12-31 00:00:00:\n",
      "  2021: 0.2885\n",
      "  caso: 0.2137\n",
      "  primero: 0.1300\n",
      "  ministerio: 0.1183\n",
      "  empresa: 0.1177\n",
      "  deber: 0.1161\n",
      "  mes: 0.1122\n",
      "  sector: 0.1083\n",
      "  presidente: 0.1066\n",
      "  solo: 0.0999\n",
      "\n",
      "2022-01-31 00:00:00:\n",
      "  2021: 0.2532\n",
      "  caso: 0.1911\n",
      "  enero: 0.1825\n",
      "  proyecto: 0.1215\n",
      "  deber: 0.1172\n",
      "  empresa: 0.1134\n",
      "  ministerio: 0.1123\n",
      "  proceso: 0.1080\n",
      "  primero: 0.1069\n",
      "  presidente: 0.1004\n",
      "\n",
      "2022-02-28 00:00:00:\n",
      "  presidente: 0.1496\n",
      "  proyecto: 0.1471\n",
      "  caso: 0.1433\n",
      "  2021: 0.1407\n",
      "  ley: 0.1407\n",
      "  corte: 0.1280\n",
      "  consejo: 0.1084\n",
      "  primero: 0.1078\n",
      "  asamblea: 0.1078\n",
      "  lasso: 0.1046\n",
      "\n",
      "2022-03-31 00:00:00:\n",
      "  caso: 0.1943\n",
      "  ley: 0.1599\n",
      "  presidente: 0.1438\n",
      "  asamblea: 0.1438\n",
      "  2021: 0.1383\n",
      "  empresa: 0.1337\n",
      "  proyecto: 0.1282\n",
      "  ministerio: 0.1181\n",
      "  primero: 0.1135\n",
      "  lasso: 0.1115\n",
      "\n",
      "2022-04-30 00:00:00:\n",
      "  caso: 0.1540\n",
      "  primero: 0.1467\n",
      "  2021: 0.1460\n",
      "  empresa: 0.1387\n",
      "  llori: 0.1327\n",
      "  precio: 0.1282\n",
      "  presidente: 0.1160\n",
      "  quito: 0.1117\n",
      "  asamblea: 0.1111\n",
      "  sector: 0.1043\n",
      "\n",
      "2022-05-31 00:00:00:\n",
      "  presidente: 0.1576\n",
      "  primero: 0.1564\n",
      "  caso: 0.1529\n",
      "  2021: 0.1488\n",
      "  proceso: 0.1302\n",
      "  empresa: 0.1180\n",
      "  ecuatoriano: 0.1140\n",
      "  deber: 0.1122\n",
      "  lasso: 0.1081\n",
      "  precio: 0.1070\n",
      "\n",
      "2022-06-30 00:00:00:\n",
      "  presidente: 0.2007\n",
      "  precio: 0.1443\n",
      "  quito: 0.1322\n",
      "  sector: 0.1308\n",
      "  conaie: 0.1303\n",
      "  paro: 0.1221\n",
      "  dialogo: 0.1182\n",
      "  empresa: 0.1172\n",
      "  lasso: 0.1158\n",
      "  primero: 0.1148\n",
      "\n",
      "2022-07-31 00:00:00:\n",
      "  primero: 0.1763\n",
      "  presidente: 0.1368\n",
      "  salud: 0.1362\n",
      "  proceso: 0.1329\n",
      "  sector: 0.1268\n",
      "  2021: 0.1196\n",
      "  caso: 0.1140\n",
      "  mes: 0.1134\n",
      "  ministerio: 0.1123\n",
      "  parte: 0.1090\n",
      "\n",
      "2022-08-31 00:00:00:\n",
      "  proceso: 0.1604\n",
      "  primero: 0.1387\n",
      "  caso: 0.1349\n",
      "  presidente: 0.1339\n",
      "  precio: 0.1137\n",
      "  empresa: 0.1132\n",
      "  ecuatoriano: 0.1105\n",
      "  tres: 0.1079\n",
      "  quito: 0.1047\n",
      "  mes: 0.1031\n",
      "\n",
      "2022-09-30 00:00:00:\n",
      "  policia: 0.2124\n",
      "  presidente: 0.1468\n",
      "  caceres: 0.1270\n",
      "  caso: 0.1248\n",
      "  primero: 0.1224\n",
      "  bernal: 0.1207\n",
      "  proceso: 0.1057\n",
      "  mes: 0.1052\n",
      "  parte: 0.0979\n",
      "  ecuatoriano: 0.0969\n",
      "\n",
      "2022-10-31 00:00:00:\n",
      "  presidente: 0.1564\n",
      "  policia: 0.1451\n",
      "  primero: 0.1181\n",
      "  parte: 0.1103\n",
      "  proceso: 0.1098\n",
      "  caso: 0.1078\n",
      "  seguridad: 0.1041\n",
      "  empresa: 0.1015\n",
      "  ministerio: 0.1005\n",
      "  dar: 0.0984\n",
      "\n",
      "2022-11-30 00:00:00:\n",
      "  policia: 0.1549\n",
      "  presidente: 0.1448\n",
      "  ministerio: 0.1246\n",
      "  caso: 0.1216\n",
      "  proceso: 0.1138\n",
      "  parte: 0.1085\n",
      "  seguridad: 0.1073\n",
      "  primero: 0.1073\n",
      "  tres: 0.1049\n",
      "  asamblea: 0.0959\n",
      "\n",
      "2022-12-31 00:00:00:\n",
      "  presidente: 0.1273\n",
      "  policia: 0.1267\n",
      "  primero: 0.1198\n",
      "  seguridad: 0.1193\n",
      "  quito: 0.1187\n",
      "  caso: 0.1177\n",
      "  ecuatoriano: 0.1108\n",
      "  proceso: 0.1076\n",
      "  parte: 0.1006\n",
      "  tres: 0.0990\n",
      "\n",
      "2023-01-31 00:00:00:\n",
      "  enero: 0.2615\n",
      "  empresa: 0.2158\n",
      "  presidente: 0.1394\n",
      "  policia: 0.1330\n",
      "  caso: 0.1270\n",
      "  proceso: 0.1047\n",
      "  primero: 0.1012\n",
      "  parte: 0.1007\n",
      "  tres: 0.1007\n",
      "  dar: 0.0997\n",
      "\n",
      "2023-02-28 00:00:00:\n",
      "  empresa: 0.1995\n",
      "  caso: 0.1671\n",
      "  presidente: 0.1473\n",
      "  policia: 0.1367\n",
      "  lasso: 0.1342\n",
      "  primero: 0.1137\n",
      "  fiscalia: 0.1069\n",
      "  parte: 0.1050\n",
      "  quito: 0.1031\n",
      "  proceso: 0.1000\n",
      "\n",
      "2023-03-31 00:00:00:\n",
      "  presidente: 0.1708\n",
      "  guayaquil: 0.1415\n",
      "  caso: 0.1365\n",
      "  empresa: 0.1296\n",
      "  lasso: 0.1284\n",
      "  parte: 0.1134\n",
      "  tras: 0.1080\n",
      "  politico: 0.1064\n",
      "  sector: 0.1006\n",
      "  primero: 0.0945\n",
      "\n",
      "2023-04-30 00:00:00:\n",
      "  policia: 0.1459\n",
      "  flopec: 0.1400\n",
      "  guayaquil: 0.1292\n",
      "  presidente: 0.1238\n",
      "  sector: 0.1124\n",
      "  empresa: 0.1102\n",
      "  parte: 0.1067\n",
      "  caso: 0.1064\n",
      "  lasso: 0.1029\n",
      "  seguridad: 0.1018\n",
      "\n",
      "2023-05-31 00:00:00:\n",
      "  presidente: 0.1686\n",
      "  guayaquil: 0.1631\n",
      "  lasso: 0.1589\n",
      "  feriado: 0.1506\n",
      "  policia: 0.1477\n",
      "  tras: 0.1227\n",
      "  asamblea: 0.1206\n",
      "  politico: 0.1159\n",
      "  primero: 0.1146\n",
      "  muerte: 0.1112\n",
      "\n",
      "2023-06-30 00:00:00:\n",
      "  feriado: 0.1971\n",
      "  guayaquil: 0.1695\n",
      "  policia: 0.1585\n",
      "  empresa: 0.1323\n",
      "  manabi: 0.1242\n",
      "  tras: 0.1195\n",
      "  via: 0.1179\n",
      "  tres: 0.1174\n",
      "  dejar: 0.1119\n",
      "  microtraficante: 0.1085\n",
      "\n",
      "2023-07-31 00:00:00:\n",
      "  feriado: 0.2121\n",
      "  guayaquil: 0.1844\n",
      "  policia: 0.1711\n",
      "  manabi: 0.1396\n",
      "  tras: 0.1223\n",
      "  empresa: 0.1198\n",
      "  microtraficante: 0.1156\n",
      "  quitar: 0.1106\n",
      "  tres: 0.1090\n",
      "  dejar: 0.1056\n",
      "\n",
      "2023-08-31 00:00:00:\n",
      "  feriado: 0.2028\n",
      "  guayaquil: 0.1792\n",
      "  policia: 0.1694\n",
      "  internacional: 0.1655\n",
      "  tras: 0.1289\n",
      "  dejar: 0.1239\n",
      "  manabi: 0.1187\n",
      "  microtraficante: 0.1104\n",
      "  empresa: 0.1055\n",
      "  lluvia: 0.1038\n",
      "\n",
      "2023-09-30 00:00:00:\n",
      "  internacional: 0.1829\n",
      "  feriado: 0.1679\n",
      "  policia: 0.1657\n",
      "  guayaquil: 0.1641\n",
      "  seguridad: 0.1543\n",
      "  empresa: 0.1124\n",
      "  dejar: 0.1101\n",
      "  manabi: 0.1083\n",
      "  tras: 0.1050\n",
      "  tres: 0.1027\n",
      "\n",
      "2023-10-31 00:00:00:\n",
      "  internacional: 0.2036\n",
      "  seguridad: 0.1607\n",
      "  guayaquil: 0.1581\n",
      "  feriado: 0.1336\n",
      "  policia: 0.1211\n",
      "  empresa: 0.1211\n",
      "  gaza: 0.1160\n",
      "  dejar: 0.1047\n",
      "  tres: 0.1043\n",
      "  lluvia: 0.1034\n",
      "\n",
      "2023-11-30 00:00:00:\n",
      "  guayaquil: 0.2617\n",
      "  internacional: 0.1847\n",
      "  noboa: 0.1822\n",
      "  quito: 0.1806\n",
      "  feriado: 0.1455\n",
      "  presidente: 0.1387\n",
      "  seguridad: 0.1305\n",
      "  policia: 0.1163\n",
      "  primero: 0.1159\n",
      "  quitar: 0.1097\n",
      "\n",
      "2023-12-31 00:00:00:\n",
      "  guayaquil: 0.2455\n",
      "  seguridad: 0.2053\n",
      "  quito: 0.1730\n",
      "  internacional: 0.1674\n",
      "  norero: 0.1377\n",
      "  metastasis: 0.1361\n",
      "  feriado: 0.1306\n",
      "  policia: 0.1302\n",
      "  presidente: 0.1189\n",
      "  noboa: 0.1107\n",
      "\n",
      "2024-01-31 00:00:00:\n",
      "  seguridad: 0.3271\n",
      "  guayaquil: 0.2213\n",
      "  enero: 0.2023\n",
      "  policia: 0.1649\n",
      "  noboa: 0.1595\n",
      "  metastasis: 0.1563\n",
      "  carcel: 0.1364\n",
      "  quito: 0.1328\n",
      "  internacional: 0.1307\n",
      "  2024: 0.1250\n"
     ]
    }
   ],
   "source": [
    "from sklearn.feature_extraction.text import TfidfVectorizer\n",
    "\n",
    "docs_by_month = [' '.join(tokens) for tokens in grouped_data_month]\n",
    "\n",
    "vectorizer = TfidfVectorizer()\n",
    "tfidf_matrix = vectorizer.fit_transform(docs_by_month)\n",
    "\n",
    "feature_names = np.array(vectorizer.get_feature_names_out())\n",
    "\n",
    "for i, periodo in enumerate(grouped_data_month.index):\n",
    "    row = tfidf_matrix[i].toarray()[0]\n",
    "    top_indices = row.argsort()[-10:][::-1]\n",
    "    print(f\"\\n{periodo}:\")\n",
    "    for idx in top_indices:\n",
    "        print(f\"  {feature_names[idx]}: {row[idx]:.4f}\")"
   ]
  },
  {
   "cell_type": "code",
   "execution_count": null,
   "id": "550c5bb4",
   "metadata": {},
   "outputs": [],
   "source": []
  },
  {
   "cell_type": "code",
   "execution_count": 6,
   "id": "f65e4e38",
   "metadata": {},
   "outputs": [],
   "source": [
    "from collections import defaultdict\n",
    "import pandas as pd\n",
    "\n",
    "def calcular_spike_score(grouped_data, periodo=\"Mensual\", top_n=15):\n",
    "    \"\"\"\n",
    "    Calcula el delta de frecuencia (spike score) para cada palabra entre periodos consecutivos.\n",
    "    grouped_data: Serie con periodo como índice y lista de tokens como valores.\n",
    "    periodo: Solo usado para imprimir título.\n",
    "    top_n: Número de palabras con mayor spike a mostrar.\n",
    "    \"\"\"\n",
    "    spike_scores = defaultdict(list)\n",
    "    periodos = list(grouped_data.index)\n",
    "\n",
    "    for i in range(1, len(grouped_data)):\n",
    "        prev_tokens = grouped_data[periodos[i-1]]\n",
    "        curr_tokens = grouped_data[periodos[i]]\n",
    "        \n",
    "        prev_counts = Counter(prev_tokens)\n",
    "        curr_counts = Counter(curr_tokens)\n",
    " \n",
    "        all_words = set(prev_counts.keys()).union(set(curr_counts.keys()))\n",
    "\n",
    "        for word in all_words:\n",
    "            prev_freq = prev_counts.get(word, 0)\n",
    "            curr_freq = curr_counts.get(word, 0)\n",
    "            delta = curr_freq / (prev_freq + 1) # evita división por cero\n",
    "            if curr_freq >= 5: # filtra ruido por baja frecuencia\n",
    "                spike_scores[word].append(delta)\n",
    "\n",
    "    # Calcular promedio del spike por palabra\n",
    "    avg_spikes = {word: np.mean(scores) for word, scores in spike_scores.items()}\n",
    "    df_spikes = pd.DataFrame(avg_spikes.items(), columns=['Palabra', 'Spike_Score'])\n",
    "    df_spikes = df_spikes.sort_values(by='Spike_Score', ascending=False).head(top_n)\n",
    "\n",
    "    print(f\"🔍 Top {top_n} palabras con mayor spike score ({periodo}):\\n\")\n",
    "    print(df_spikes.to_string(index=False))\n",
    "    return df_spikes\n"
   ]
  },
  {
   "cell_type": "code",
   "execution_count": 14,
   "id": "b028b3ec",
   "metadata": {},
   "outputs": [],
   "source": [
    "import plotly.express as px\n",
    "\n",
    "def graficar_spike_score(df_spikes, periodo=\"Mensual\"):\n",
    "    \"\"\"\n",
    "    Grafica las palabras con mayor spike score usando Plotly.\n",
    "    df_spikes: DataFrame con columnas ['Palabra', 'Spike_Score'].\n",
    "    periodo: Nombre del periodo que se usó (ej. \"Mensual\").\n",
    "    \"\"\"\n",
    "    fig = px.bar(\n",
    "        df_spikes,\n",
    "            x='Palabra',\n",
    "            y='Spike_Score',\n",
    "            text='Spike_Score',\n",
    "            color='Spike_Score',\n",
    "            color_continuous_scale='Inferno',\n",
    "            title=f'Top Palabras con Mayor Spike Score ({periodo})'\n",
    "    )\n",
    "\n",
    "    fig.update_traces(texttemplate='%{text:.2f}', textposition='outside')\n",
    "    fig.update_layout(\n",
    "        xaxis_title='Palabra',\n",
    "        yaxis_title='Spike Score',\n",
    "        xaxis_tickangle=-45,\n",
    "        coloraxis_colorbar=dict(title='Spike'),\n",
    "        height=500\n",
    "    )\n",
    "    fig.show()"
   ]
  },
  {
   "cell_type": "code",
   "execution_count": 15,
   "id": "4ffe39e1",
   "metadata": {},
   "outputs": [
    {
     "name": "stdout",
     "output_type": "stream",
     "text": [
      "🔍 Top 20 palabras con mayor spike score (Mensual):\n",
      "\n",
      "    Palabra  Spike_Score\n",
      "       gaza    52.129215\n",
      "     murcia    45.000000\n",
      "    padilla    38.602564\n",
      "     casino    38.000000\n",
      "      queda    35.546512\n",
      "      hamas    33.360902\n",
      "      araus    33.000000\n",
      "     sancho    33.000000\n",
      "       hama    32.609122\n",
      "   exequial    32.000000\n",
      "        glf    31.000000\n",
      "   14122023    27.000000\n",
      "  gangotena    27.000000\n",
      "        svb    27.000000\n",
      "   23112023    27.000000\n",
      "   16052023    26.000000\n",
      "    natalia    26.000000\n",
      "        bnf    26.000000\n",
      "      toque    25.552020\n",
      "westminster    25.000000\n"
     ]
    },
    {
     "data": {
      "application/vnd.plotly.v1+json": {
       "config": {
        "plotlyServerURL": "https://plot.ly"
       },
       "data": [
        {
         "hovertemplate": "Palabra=%{x}<br>Spike_Score=%{marker.color}<extra></extra>",
         "legendgroup": "",
         "marker": {
          "color": {
           "bdata": "LbhxHooQSkAAAAAAAIBGQNIgDdIgTUNAAAAAAAAAQ0BCX9AX9MVBQOOCjAsyrkBAAAAAAACAQEAAAAAAAIBAQMBUQ7n3TUBAAAAAAAAAQEAAAAAAAAA/QAAAAAAAADtAAAAAAAAAO0AAAAAAAAA7QAAAAAAAADtAAAAAAAAAOkAAAAAAAAA6QAAAAAAAADpAeGgqMlGNOUAAAAAAAAA5QA==",
           "dtype": "f8"
          },
          "coloraxis": "coloraxis",
          "pattern": {
           "shape": ""
          }
         },
         "name": "",
         "orientation": "v",
         "showlegend": false,
         "text": {
          "bdata": "LbhxHooQSkAAAAAAAIBGQNIgDdIgTUNAAAAAAAAAQ0BCX9AX9MVBQOOCjAsyrkBAAAAAAACAQEAAAAAAAIBAQMBUQ7n3TUBAAAAAAAAAQEAAAAAAAAA/QAAAAAAAADtAAAAAAAAAO0AAAAAAAAA7QAAAAAAAADtAAAAAAAAAOkAAAAAAAAA6QAAAAAAAADpAeGgqMlGNOUAAAAAAAAA5QA==",
          "dtype": "f8"
         },
         "textposition": "outside",
         "texttemplate": "%{text:.2f}",
         "type": "bar",
         "x": [
          "gaza",
          "murcia",
          "padilla",
          "casino",
          "queda",
          "hamas",
          "araus",
          "sancho",
          "hama",
          "exequial",
          "glf",
          "14122023",
          "gangotena",
          "svb",
          "23112023",
          "16052023",
          "natalia",
          "bnf",
          "toque",
          "westminster"
         ],
         "xaxis": "x",
         "y": {
          "bdata": "LbhxHooQSkAAAAAAAIBGQNIgDdIgTUNAAAAAAAAAQ0BCX9AX9MVBQOOCjAsyrkBAAAAAAACAQEAAAAAAAIBAQMBUQ7n3TUBAAAAAAAAAQEAAAAAAAAA/QAAAAAAAADtAAAAAAAAAO0AAAAAAAAA7QAAAAAAAADtAAAAAAAAAOkAAAAAAAAA6QAAAAAAAADpAeGgqMlGNOUAAAAAAAAA5QA==",
          "dtype": "f8"
         },
         "yaxis": "y"
        }
       ],
       "layout": {
        "barmode": "relative",
        "coloraxis": {
         "colorbar": {
          "title": {
           "text": "Spike"
          }
         },
         "colorscale": [
          [
           0,
           "#000004"
          ],
          [
           0.1111111111111111,
           "#1b0c41"
          ],
          [
           0.2222222222222222,
           "#4a0c6b"
          ],
          [
           0.3333333333333333,
           "#781c6d"
          ],
          [
           0.4444444444444444,
           "#a52c60"
          ],
          [
           0.5555555555555556,
           "#cf4446"
          ],
          [
           0.6666666666666666,
           "#ed6925"
          ],
          [
           0.7777777777777778,
           "#fb9b06"
          ],
          [
           0.8888888888888888,
           "#f7d13d"
          ],
          [
           1,
           "#fcffa4"
          ]
         ]
        },
        "height": 500,
        "legend": {
         "tracegroupgap": 0
        },
        "template": {
         "data": {
          "bar": [
           {
            "error_x": {
             "color": "#2a3f5f"
            },
            "error_y": {
             "color": "#2a3f5f"
            },
            "marker": {
             "line": {
              "color": "#E5ECF6",
              "width": 0.5
             },
             "pattern": {
              "fillmode": "overlay",
              "size": 10,
              "solidity": 0.2
             }
            },
            "type": "bar"
           }
          ],
          "barpolar": [
           {
            "marker": {
             "line": {
              "color": "#E5ECF6",
              "width": 0.5
             },
             "pattern": {
              "fillmode": "overlay",
              "size": 10,
              "solidity": 0.2
             }
            },
            "type": "barpolar"
           }
          ],
          "carpet": [
           {
            "aaxis": {
             "endlinecolor": "#2a3f5f",
             "gridcolor": "white",
             "linecolor": "white",
             "minorgridcolor": "white",
             "startlinecolor": "#2a3f5f"
            },
            "baxis": {
             "endlinecolor": "#2a3f5f",
             "gridcolor": "white",
             "linecolor": "white",
             "minorgridcolor": "white",
             "startlinecolor": "#2a3f5f"
            },
            "type": "carpet"
           }
          ],
          "choropleth": [
           {
            "colorbar": {
             "outlinewidth": 0,
             "ticks": ""
            },
            "type": "choropleth"
           }
          ],
          "contour": [
           {
            "colorbar": {
             "outlinewidth": 0,
             "ticks": ""
            },
            "colorscale": [
             [
              0,
              "#0d0887"
             ],
             [
              0.1111111111111111,
              "#46039f"
             ],
             [
              0.2222222222222222,
              "#7201a8"
             ],
             [
              0.3333333333333333,
              "#9c179e"
             ],
             [
              0.4444444444444444,
              "#bd3786"
             ],
             [
              0.5555555555555556,
              "#d8576b"
             ],
             [
              0.6666666666666666,
              "#ed7953"
             ],
             [
              0.7777777777777778,
              "#fb9f3a"
             ],
             [
              0.8888888888888888,
              "#fdca26"
             ],
             [
              1,
              "#f0f921"
             ]
            ],
            "type": "contour"
           }
          ],
          "contourcarpet": [
           {
            "colorbar": {
             "outlinewidth": 0,
             "ticks": ""
            },
            "type": "contourcarpet"
           }
          ],
          "heatmap": [
           {
            "colorbar": {
             "outlinewidth": 0,
             "ticks": ""
            },
            "colorscale": [
             [
              0,
              "#0d0887"
             ],
             [
              0.1111111111111111,
              "#46039f"
             ],
             [
              0.2222222222222222,
              "#7201a8"
             ],
             [
              0.3333333333333333,
              "#9c179e"
             ],
             [
              0.4444444444444444,
              "#bd3786"
             ],
             [
              0.5555555555555556,
              "#d8576b"
             ],
             [
              0.6666666666666666,
              "#ed7953"
             ],
             [
              0.7777777777777778,
              "#fb9f3a"
             ],
             [
              0.8888888888888888,
              "#fdca26"
             ],
             [
              1,
              "#f0f921"
             ]
            ],
            "type": "heatmap"
           }
          ],
          "histogram": [
           {
            "marker": {
             "pattern": {
              "fillmode": "overlay",
              "size": 10,
              "solidity": 0.2
             }
            },
            "type": "histogram"
           }
          ],
          "histogram2d": [
           {
            "colorbar": {
             "outlinewidth": 0,
             "ticks": ""
            },
            "colorscale": [
             [
              0,
              "#0d0887"
             ],
             [
              0.1111111111111111,
              "#46039f"
             ],
             [
              0.2222222222222222,
              "#7201a8"
             ],
             [
              0.3333333333333333,
              "#9c179e"
             ],
             [
              0.4444444444444444,
              "#bd3786"
             ],
             [
              0.5555555555555556,
              "#d8576b"
             ],
             [
              0.6666666666666666,
              "#ed7953"
             ],
             [
              0.7777777777777778,
              "#fb9f3a"
             ],
             [
              0.8888888888888888,
              "#fdca26"
             ],
             [
              1,
              "#f0f921"
             ]
            ],
            "type": "histogram2d"
           }
          ],
          "histogram2dcontour": [
           {
            "colorbar": {
             "outlinewidth": 0,
             "ticks": ""
            },
            "colorscale": [
             [
              0,
              "#0d0887"
             ],
             [
              0.1111111111111111,
              "#46039f"
             ],
             [
              0.2222222222222222,
              "#7201a8"
             ],
             [
              0.3333333333333333,
              "#9c179e"
             ],
             [
              0.4444444444444444,
              "#bd3786"
             ],
             [
              0.5555555555555556,
              "#d8576b"
             ],
             [
              0.6666666666666666,
              "#ed7953"
             ],
             [
              0.7777777777777778,
              "#fb9f3a"
             ],
             [
              0.8888888888888888,
              "#fdca26"
             ],
             [
              1,
              "#f0f921"
             ]
            ],
            "type": "histogram2dcontour"
           }
          ],
          "mesh3d": [
           {
            "colorbar": {
             "outlinewidth": 0,
             "ticks": ""
            },
            "type": "mesh3d"
           }
          ],
          "parcoords": [
           {
            "line": {
             "colorbar": {
              "outlinewidth": 0,
              "ticks": ""
             }
            },
            "type": "parcoords"
           }
          ],
          "pie": [
           {
            "automargin": true,
            "type": "pie"
           }
          ],
          "scatter": [
           {
            "fillpattern": {
             "fillmode": "overlay",
             "size": 10,
             "solidity": 0.2
            },
            "type": "scatter"
           }
          ],
          "scatter3d": [
           {
            "line": {
             "colorbar": {
              "outlinewidth": 0,
              "ticks": ""
             }
            },
            "marker": {
             "colorbar": {
              "outlinewidth": 0,
              "ticks": ""
             }
            },
            "type": "scatter3d"
           }
          ],
          "scattercarpet": [
           {
            "marker": {
             "colorbar": {
              "outlinewidth": 0,
              "ticks": ""
             }
            },
            "type": "scattercarpet"
           }
          ],
          "scattergeo": [
           {
            "marker": {
             "colorbar": {
              "outlinewidth": 0,
              "ticks": ""
             }
            },
            "type": "scattergeo"
           }
          ],
          "scattergl": [
           {
            "marker": {
             "colorbar": {
              "outlinewidth": 0,
              "ticks": ""
             }
            },
            "type": "scattergl"
           }
          ],
          "scattermap": [
           {
            "marker": {
             "colorbar": {
              "outlinewidth": 0,
              "ticks": ""
             }
            },
            "type": "scattermap"
           }
          ],
          "scattermapbox": [
           {
            "marker": {
             "colorbar": {
              "outlinewidth": 0,
              "ticks": ""
             }
            },
            "type": "scattermapbox"
           }
          ],
          "scatterpolar": [
           {
            "marker": {
             "colorbar": {
              "outlinewidth": 0,
              "ticks": ""
             }
            },
            "type": "scatterpolar"
           }
          ],
          "scatterpolargl": [
           {
            "marker": {
             "colorbar": {
              "outlinewidth": 0,
              "ticks": ""
             }
            },
            "type": "scatterpolargl"
           }
          ],
          "scatterternary": [
           {
            "marker": {
             "colorbar": {
              "outlinewidth": 0,
              "ticks": ""
             }
            },
            "type": "scatterternary"
           }
          ],
          "surface": [
           {
            "colorbar": {
             "outlinewidth": 0,
             "ticks": ""
            },
            "colorscale": [
             [
              0,
              "#0d0887"
             ],
             [
              0.1111111111111111,
              "#46039f"
             ],
             [
              0.2222222222222222,
              "#7201a8"
             ],
             [
              0.3333333333333333,
              "#9c179e"
             ],
             [
              0.4444444444444444,
              "#bd3786"
             ],
             [
              0.5555555555555556,
              "#d8576b"
             ],
             [
              0.6666666666666666,
              "#ed7953"
             ],
             [
              0.7777777777777778,
              "#fb9f3a"
             ],
             [
              0.8888888888888888,
              "#fdca26"
             ],
             [
              1,
              "#f0f921"
             ]
            ],
            "type": "surface"
           }
          ],
          "table": [
           {
            "cells": {
             "fill": {
              "color": "#EBF0F8"
             },
             "line": {
              "color": "white"
             }
            },
            "header": {
             "fill": {
              "color": "#C8D4E3"
             },
             "line": {
              "color": "white"
             }
            },
            "type": "table"
           }
          ]
         },
         "layout": {
          "annotationdefaults": {
           "arrowcolor": "#2a3f5f",
           "arrowhead": 0,
           "arrowwidth": 1
          },
          "autotypenumbers": "strict",
          "coloraxis": {
           "colorbar": {
            "outlinewidth": 0,
            "ticks": ""
           }
          },
          "colorscale": {
           "diverging": [
            [
             0,
             "#8e0152"
            ],
            [
             0.1,
             "#c51b7d"
            ],
            [
             0.2,
             "#de77ae"
            ],
            [
             0.3,
             "#f1b6da"
            ],
            [
             0.4,
             "#fde0ef"
            ],
            [
             0.5,
             "#f7f7f7"
            ],
            [
             0.6,
             "#e6f5d0"
            ],
            [
             0.7,
             "#b8e186"
            ],
            [
             0.8,
             "#7fbc41"
            ],
            [
             0.9,
             "#4d9221"
            ],
            [
             1,
             "#276419"
            ]
           ],
           "sequential": [
            [
             0,
             "#0d0887"
            ],
            [
             0.1111111111111111,
             "#46039f"
            ],
            [
             0.2222222222222222,
             "#7201a8"
            ],
            [
             0.3333333333333333,
             "#9c179e"
            ],
            [
             0.4444444444444444,
             "#bd3786"
            ],
            [
             0.5555555555555556,
             "#d8576b"
            ],
            [
             0.6666666666666666,
             "#ed7953"
            ],
            [
             0.7777777777777778,
             "#fb9f3a"
            ],
            [
             0.8888888888888888,
             "#fdca26"
            ],
            [
             1,
             "#f0f921"
            ]
           ],
           "sequentialminus": [
            [
             0,
             "#0d0887"
            ],
            [
             0.1111111111111111,
             "#46039f"
            ],
            [
             0.2222222222222222,
             "#7201a8"
            ],
            [
             0.3333333333333333,
             "#9c179e"
            ],
            [
             0.4444444444444444,
             "#bd3786"
            ],
            [
             0.5555555555555556,
             "#d8576b"
            ],
            [
             0.6666666666666666,
             "#ed7953"
            ],
            [
             0.7777777777777778,
             "#fb9f3a"
            ],
            [
             0.8888888888888888,
             "#fdca26"
            ],
            [
             1,
             "#f0f921"
            ]
           ]
          },
          "colorway": [
           "#636efa",
           "#EF553B",
           "#00cc96",
           "#ab63fa",
           "#FFA15A",
           "#19d3f3",
           "#FF6692",
           "#B6E880",
           "#FF97FF",
           "#FECB52"
          ],
          "font": {
           "color": "#2a3f5f"
          },
          "geo": {
           "bgcolor": "white",
           "lakecolor": "white",
           "landcolor": "#E5ECF6",
           "showlakes": true,
           "showland": true,
           "subunitcolor": "white"
          },
          "hoverlabel": {
           "align": "left"
          },
          "hovermode": "closest",
          "mapbox": {
           "style": "light"
          },
          "paper_bgcolor": "white",
          "plot_bgcolor": "#E5ECF6",
          "polar": {
           "angularaxis": {
            "gridcolor": "white",
            "linecolor": "white",
            "ticks": ""
           },
           "bgcolor": "#E5ECF6",
           "radialaxis": {
            "gridcolor": "white",
            "linecolor": "white",
            "ticks": ""
           }
          },
          "scene": {
           "xaxis": {
            "backgroundcolor": "#E5ECF6",
            "gridcolor": "white",
            "gridwidth": 2,
            "linecolor": "white",
            "showbackground": true,
            "ticks": "",
            "zerolinecolor": "white"
           },
           "yaxis": {
            "backgroundcolor": "#E5ECF6",
            "gridcolor": "white",
            "gridwidth": 2,
            "linecolor": "white",
            "showbackground": true,
            "ticks": "",
            "zerolinecolor": "white"
           },
           "zaxis": {
            "backgroundcolor": "#E5ECF6",
            "gridcolor": "white",
            "gridwidth": 2,
            "linecolor": "white",
            "showbackground": true,
            "ticks": "",
            "zerolinecolor": "white"
           }
          },
          "shapedefaults": {
           "line": {
            "color": "#2a3f5f"
           }
          },
          "ternary": {
           "aaxis": {
            "gridcolor": "white",
            "linecolor": "white",
            "ticks": ""
           },
           "baxis": {
            "gridcolor": "white",
            "linecolor": "white",
            "ticks": ""
           },
           "bgcolor": "#E5ECF6",
           "caxis": {
            "gridcolor": "white",
            "linecolor": "white",
            "ticks": ""
           }
          },
          "title": {
           "x": 0.05
          },
          "xaxis": {
           "automargin": true,
           "gridcolor": "white",
           "linecolor": "white",
           "ticks": "",
           "title": {
            "standoff": 15
           },
           "zerolinecolor": "white",
           "zerolinewidth": 2
          },
          "yaxis": {
           "automargin": true,
           "gridcolor": "white",
           "linecolor": "white",
           "ticks": "",
           "title": {
            "standoff": 15
           },
           "zerolinecolor": "white",
           "zerolinewidth": 2
          }
         }
        },
        "title": {
         "text": "Top Palabras con Mayor Spike Score (Mensual)"
        },
        "xaxis": {
         "anchor": "y",
         "domain": [
          0,
          1
         ],
         "tickangle": -45,
         "title": {
          "text": "Palabra"
         }
        },
        "yaxis": {
         "anchor": "x",
         "domain": [
          0,
          1
         ],
         "title": {
          "text": "Spike Score"
         }
        }
       }
      }
     },
     "metadata": {},
     "output_type": "display_data"
    }
   ],
   "source": [
    "df_spike_mensual = calcular_spike_score(grouped_data_month, periodo=\"Mensual\", top_n=20)\n",
    "graficar_spike_score(df_spike_mensual, periodo=\"Mensual\")\n"
   ]
  }
 ],
 "metadata": {
  "kernelspec": {
   "display_name": "venv",
   "language": "python",
   "name": "python3"
  },
  "language_info": {
   "codemirror_mode": {
    "name": "ipython",
    "version": 3
   },
   "file_extension": ".py",
   "mimetype": "text/x-python",
   "name": "python",
   "nbconvert_exporter": "python",
   "pygments_lexer": "ipython3",
   "version": "3.10.0rc2"
  }
 },
 "nbformat": 4,
 "nbformat_minor": 5
}
