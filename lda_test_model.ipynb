{
 "cells": [
  {
   "cell_type": "markdown",
   "id": "b6eae2ec-74da-4bc4-aa5d-6a988c7d880a",
   "metadata": {},
   "source": [
    "## Python modules"
   ]
  },
  {
   "cell_type": "code",
   "execution_count": 1,
   "id": "b3ae1e83",
   "metadata": {},
   "outputs": [],
   "source": [
    "import os\n",
    "import time\n",
    "import pandas as pd\n",
    "from gensim import corpora, models\n",
    "from gensim.models.coherencemodel import CoherenceModel\n",
    "import ast"
   ]
  },
  {
   "cell_type": "code",
   "execution_count": 2,
   "id": "dc9d2e5a-830d-4a1c-bf7a-c18d9f7a1003",
   "metadata": {
    "tags": []
   },
   "outputs": [],
   "source": [
    "\n",
    "# Cargar dataset ya preprocesado (sin necesidad de tokenizar)\n",
    "file_path = os.path.join(os.getcwd(), 'data', 'processed', 'dataset_cl.csv')\n",
    "dataset = pd.read_csv(file_path, converters={'Header_Tags': ast.literal_eval})\n",
    "dataset['data_preprocess'] = dataset['data_preprocess'].astype(str)\n",
    "\n",
    "# Convertir cada fila en lista de palabras tokenizadas\n",
    "processed_texts = dataset['data_preprocess'].apply(lambda x: x.split())\n",
    "\n",
    "# Crear diccionario y corpus\n",
    "dictionary = corpora.Dictionary(processed_texts)\n",
    "corpus = [dictionary.doc2bow(text) for text in processed_texts]\n",
    "\n",
    "# Evaluar distintos valores de tópicos\n",
    "num_topics_list = [50, 76, 100]\n",
    "coherence_values = {}\n",
    "training_times = {}\n",
    "\n",
    "for num_topics in num_topics_list:\n",
    "    start_time = time.time()\n",
    "    lda_model = models.LdaModel(\n",
    "        corpus=corpus,\n",
    "        id2word=dictionary,\n",
    "        num_topics=num_topics,\n",
    "        passes=10,\n",
    "        iterations=25,\n",
    "        chunksize=1000,\n",
    "        alpha='auto',\n",
    "        eta='auto',\n",
    "        eval_every=None\n",
    "    )\n",
    "    end_time = time.time()\n",
    "    coherence_model_lda = CoherenceModel(model=lda_model, texts=processed_texts, dictionary=dictionary, coherence='c_v')\n",
    "    coherence_lda = coherence_model_lda.get_coherence()\n",
    "    coherence_values[num_topics] = coherence_lda\n",
    "    training_times[num_topics] = end_time - start_time\n",
    "\n"
   ]
  },
  {
   "cell_type": "code",
   "execution_count": 3,
   "id": "f0b0197e",
   "metadata": {},
   "outputs": [
    {
     "name": "stdout",
     "output_type": "stream",
     "text": [
      "   num_topics  coherence_c_v  training_time_sec\n",
      "0          20       0.658837         191.579085\n",
      "1          50       0.605647         830.773503\n",
      "2          76       0.610223        1454.036999\n",
      "3         100       0.603864        1496.691604\n",
      "4         150       0.565469        1680.720284\n"
     ]
    }
   ],
   "source": [
    "results_df = pd.DataFrame({\n",
    "    \"num_topics\": list(coherence_values.keys()),\n",
    "    \"coherence_c_v\": list(coherence_values.values()),\n",
    "    \"training_time_sec\": list(training_times.values())\n",
    "})\n",
    "\n",
    "print(results_df)"
   ]
  }
 ],
 "metadata": {
  "kernelspec": {
   "display_name": "venv",
   "language": "python",
   "name": "python3"
  },
  "language_info": {
   "codemirror_mode": {
    "name": "ipython",
    "version": 3
   },
   "file_extension": ".py",
   "mimetype": "text/x-python",
   "name": "python",
   "nbconvert_exporter": "python",
   "pygments_lexer": "ipython3",
   "version": "3.10.0"
  }
 },
 "nbformat": 4,
 "nbformat_minor": 5
}
