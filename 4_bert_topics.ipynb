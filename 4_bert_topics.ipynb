{
 "cells": [
  {
   "cell_type": "markdown",
   "id": "b6eae2ec-74da-4bc4-aa5d-6a988c7d880a",
   "metadata": {},
   "source": [
    "## Python modules"
   ]
  },
  {
   "cell_type": "code",
   "execution_count": 2,
   "id": "dc9d2e5a-830d-4a1c-bf7a-c18d9f7a1003",
   "metadata": {
    "tags": []
   },
   "outputs": [],
   "source": [
    "import os\n",
    "import ast\n",
    "import pandas as pd\n",
    "import numpy as np\n",
    "\n",
    "from typing import List, Union\n",
    "import plotly.graph_objs as go\n",
    "import plotly.io as pio\n",
    "import plotly.express as px\n",
    "from sklearn.preprocessing import normalize\n",
    "import seaborn as sns\n",
    "import matplotlib.pyplot as plt"
   ]
  },
  {
   "cell_type": "markdown",
   "id": "528862d4-6972-44cc-be51-74d880769993",
   "metadata": {},
   "source": [
    "## Data"
   ]
  },
  {
   "cell_type": "code",
   "execution_count": 3,
   "id": "b8ed52a1-9c72-4770-ab79-b5bd8d527970",
   "metadata": {},
   "outputs": [
    {
     "name": "stdout",
     "output_type": "stream",
     "text": [
      "  Titulo_Seccion   Fecha_Publicacion  \\\n",
      "0       Economía 2024-01-20 12:32:00   \n",
      "1      Seguridad 2024-01-05 05:59:00   \n",
      "2       Economía 2023-12-11 15:26:00   \n",
      "3        Sucesos 2023-08-26 16:59:00   \n",
      "4       Política 2023-05-09 16:41:00   \n",
      "\n",
      "                                         Header_Tags  \\\n",
      "0  [#Apagón, #crisis energética, #Ecuador, #Energ...   \n",
      "1  [#Atentado, #Caso Metástasis, #Diana Salazar, ...   \n",
      "2      [#Agrocalidad, #alimentos, #ARCSA, #empresas]   \n",
      "3  [#droga, #Ecuador, #Guillermo Lasso, #narcotrá...   \n",
      "4  [#Caso Odebrecht, #Jorge Glas, #reparación int...   \n",
      "\n",
      "                                     data_preprocess  \\\n",
      "0   anuncio invertirar   516  obra infraestructur...   \n",
      "1  conversacion narcotraficante leandro norero fo...   \n",
      "2  agencia regulacion control fito zoosanitario a...   \n",
      "3    incautar 501 tonelada droga ultimo 27 mes pe...   \n",
      "4  despu cinco  dictar sentencia caso odebrecht n...   \n",
      "\n",
      "                                      data_tokenized  \n",
      "0  ['anuncio', 'invertirar', '516', 'obra', 'infr...  \n",
      "1  ['conversacion', 'narcotraficante', 'leandro',...  \n",
      "2  ['agencia', 'regulacion', 'control', 'fito', '...  \n",
      "3  ['incautar', '501', 'tonelada', 'droga', 'ulti...  \n",
      "4  ['despu', 'cinco', 'dictar', 'sentencia', 'cas...  \n"
     ]
    }
   ],
   "source": [
    "directorio_actual = os.getcwd()\n",
    "file_cl           = os.path.join(directorio_actual, 'data', 'processed', 'dataset_cl.csv')\n",
    "\n",
    "def parse_array_string(array_string):\n",
    "    try:\n",
    "        return ast.literal_eval(array_string)\n",
    "    except ValueError:\n",
    "        return []\n",
    "    \n",
    "dataset = pd.read_csv(file_cl, converters={'Header_Tags': parse_array_string})\n",
    "dataset['Fecha_Publicacion'] = pd.to_datetime(dataset['Fecha_Publicacion'])\n",
    "\n",
    "dataset['data_preprocess'] = dataset['data_preprocess'].astype(str)\n",
    "\n",
    "print(dataset.head())"
   ]
  },
  {
   "cell_type": "code",
   "execution_count": 4,
   "id": "6d47bbaa-107e-4d83-9049-d8123cee8922",
   "metadata": {},
   "outputs": [
    {
     "name": "stdout",
     "output_type": "stream",
     "text": [
      "Empty DataFrame\n",
      "Columns: [Titulo_Seccion, Fecha_Publicacion, Header_Tags, data_preprocess, data_tokenized]\n",
      "Index: []\n"
     ]
    }
   ],
   "source": [
    "empty_rows = dataset[dataset.isnull().all(axis=1)]\n",
    "print(empty_rows)"
   ]
  },
  {
   "cell_type": "markdown",
   "id": "d5739205-b4e2-4c47-b895-fa9e0dd7c67d",
   "metadata": {},
   "source": [
    "## Model BERT"
   ]
  },
  {
   "cell_type": "code",
   "execution_count": 5,
   "id": "a0ce13b4-671d-46d2-8330-ea5c50a728f0",
   "metadata": {},
   "outputs": [],
   "source": [
    "from bertopic import BERTopic\n",
    "from bertopic.representation import KeyBERTInspired\n",
    "from bertopic.vectorizers import ClassTfidfTransformer\n",
    "from sklearn.feature_extraction.text import CountVectorizer\n",
    "from sentence_transformers import SentenceTransformer"
   ]
  },
  {
   "cell_type": "markdown",
   "id": "9f1300a6",
   "metadata": {},
   "source": [
    "## PARAMS"
   ]
  },
  {
   "cell_type": "code",
   "execution_count": null,
   "id": "19eb12b4",
   "metadata": {},
   "outputs": [],
   "source": [
    "vectorizer_model = CountVectorizer(ngram_range=(1, 2))\n",
    "ctfidf_model = ClassTfidfTransformer()\n",
    "representation_model = KeyBERTInspired()\n",
    "min_topic_size = 10"
   ]
  },
  {
   "cell_type": "markdown",
   "id": "4edd818f",
   "metadata": {},
   "source": [
    "## Model distiluse-base-multilingual-cased-v2 512 DIM"
   ]
  },
  {
   "cell_type": "code",
   "execution_count": null,
   "id": "ac2f6af7",
   "metadata": {},
   "outputs": [],
   "source": [
    "embedding_a = SentenceTransformer(\"distiluse-base-multilingual-cased-v2\")\n",
    "model_a = BERTopic(\n",
    "    embedding_model=embedding_a,\n",
    "    vectorizer_model=vectorizer_model,\n",
    "    ctfidf_model=ctfidf_model,\n",
    "    representation_model=representation_model,\n",
    "    min_topic_size=min_topic_size,\n",
    "    verbose=True,\n",
    "    language=\"multilingual\",\n",
    "    calculate_probabilities=True\n",
    ")\n",
    "topics_a, probs_a = model_a.fit_transform(dataset[\"data_preprocess\"])"
   ]
  },
  {
   "cell_type": "markdown",
   "id": "987f8682",
   "metadata": {},
   "source": [
    "## MODEL paraphrase-multilingual-MiniLM-L12-v2 384 DIM"
   ]
  },
  {
   "cell_type": "code",
   "execution_count": null,
   "id": "dcf21fd7-7c23-41a2-8e66-86a16be06def",
   "metadata": {},
   "outputs": [],
   "source": [
    "embedding_b = SentenceTransformer(\"paraphrase-multilingual-MiniLM-L12-v2\")\n",
    "model_b = BERTopic(\n",
    "    embedding_model=embedding_b,\n",
    "    vectorizer_model=vectorizer_model,\n",
    "    ctfidf_model=ctfidf_model,\n",
    "    representation_model=representation_model,\n",
    "    min_topic_size=min_topic_size,\n",
    "    verbose=True,\n",
    "    language=\"multilingual\",\n",
    "    calculate_probabilities=True\n",
    ")\n",
    "topics_b, probs_b = model_b.fit_transform(dataset[\"data_preprocess\"])"
   ]
  },
  {
   "cell_type": "code",
   "execution_count": null,
   "id": "c89d3c06-b80a-4303-b372-ed99db226c85",
   "metadata": {
    "tags": []
   },
   "outputs": [],
   "source": [
    "directorio_actual = os.getcwd()\n",
    "model_pwd_a = os.path.join(directorio_actual, 'models', 'model_a_v3.12')\n",
    "model_pwd_b = os.path.join(directorio_actual, 'models', 'model_b_v3.12')\n",
    "\n",
    "# model_a.save(\"./models/model_a_v3.12\")\n",
    "# model_b.save(\"./models/model_b_v3.12\")\n",
    "\n",
    "model_a = BERTopic.load(model_pwd_a)\n",
    "model_b = BERTopic.load(model_pwd_b)"
   ]
  },
  {
   "cell_type": "markdown",
   "id": "328deba0",
   "metadata": {},
   "source": [
    "## Coherence"
   ]
  },
  {
   "cell_type": "code",
   "execution_count": 7,
   "id": "9d76870f",
   "metadata": {},
   "outputs": [
    {
     "name": "stdout",
     "output_type": "stream",
     "text": [
      "distiluse-base-multilingual-cased-v2): 0.8552\n",
      "\n",
      "paraphrase-multilingual-MiniLM-L12-v2): 0.8552\n"
     ]
    }
   ],
   "source": [
    "import gensim\n",
    "from gensim.models.coherencemodel import CoherenceModel\n",
    "\n",
    "def calcular_coherencia(model, docs):\n",
    "    topic_info = model.get_topic_info()\n",
    "    topic_words = [model.get_topic(topic) for topic in topic_info.Topic if topic != -1]\n",
    "    topic_words = [[word for word, _ in words] for words in topic_words]\n",
    "    texts = [doc.split() for doc in docs]\n",
    "    dictionary = gensim.corpora.Dictionary(texts)\n",
    "    corpus = [dictionary.doc2bow(text) for text in texts]\n",
    "    topic_words_ids = [[dictionary.token2id[word] for word in words if word in dictionary.token2id] for words in topic_words]\n",
    "    topic_words_ids = [topic for topic in topic_words_ids if len(topic) > 0]\n",
    "    coherence_model = CoherenceModel(topics=topic_words_ids, texts=texts, dictionary=dictionary, coherence=\"c_v\")\n",
    "    return coherence_model.get_coherence()\n",
    "\n",
    "coh_a = calcular_coherencia(model_a, dataset[\"data_preprocess\"])\n",
    "coh_b = calcular_coherencia(model_b, dataset[\"data_preprocess\"])\n",
    "\n",
    "print(f\"distiluse-base-multilingual-cased-v2): {coh_a:.4f}\")\n",
    "print(f\"\\nparaphrase-multilingual-MiniLM-L12-v2): {coh_b:.4f}\")"
   ]
  },
  {
   "cell_type": "code",
   "execution_count": 8,
   "id": "07ecda12",
   "metadata": {},
   "outputs": [],
   "source": [
    "model = model_a"
   ]
  },
  {
   "cell_type": "code",
   "execution_count": null,
   "id": "c6eeb43b-1792-4195-8258-d7e6ee37b374",
   "metadata": {
    "tags": []
   },
   "outputs": [],
   "source": [
    "freq = model.get_topic_info()\n",
    "print(\"Number of topics: {}\".format( len(freq)))\n",
    "freq.head()"
   ]
  },
  {
   "cell_type": "code",
   "execution_count": null,
   "id": "ab215f49-5567-410b-b33a-fa4cbf6dee04",
   "metadata": {
    "tags": []
   },
   "outputs": [],
   "source": [
    "a_topic = freq.iloc[0][\"Topic\"]\n",
    "model.get_topic(a_topic) # Show the words and their c-TF-IDF scores"
   ]
  },
  {
   "cell_type": "code",
   "execution_count": null,
   "id": "ee702506-800a-4459-b389-895c1e4cb8aa",
   "metadata": {
    "tags": []
   },
   "outputs": [],
   "source": [
    "model.visualize_barchart(top_n_topics=20)"
   ]
  },
  {
   "cell_type": "code",
   "execution_count": null,
   "id": "75fe880a-174d-4eab-ae56-f325388344de",
   "metadata": {
    "tags": []
   },
   "outputs": [],
   "source": [
    "model.visualize_topics()"
   ]
  },
  {
   "cell_type": "code",
   "execution_count": null,
   "id": "45494fc4-25cc-4e17-9bb5-8d9036cc7b02",
   "metadata": {
    "tags": []
   },
   "outputs": [],
   "source": [
    "model.visualize_hierarchy(top_n_topics=20)"
   ]
  },
  {
   "cell_type": "code",
   "execution_count": null,
   "id": "4be10f80-8af5-434d-9e31-179851e0b8da",
   "metadata": {
    "tags": []
   },
   "outputs": [],
   "source": [
    "similar_topics, similarity = model.find_topics(\"quito\", top_n = 5)\n",
    "\n",
    "most_similar = similar_topics[0]\n",
    "print(\"Most Similar Topic Info: \\n{}\".format(model.get_topic(most_similar)))\n",
    "print(\"Similarity Score: {}\".format(similarity[0]))"
   ]
  },
  {
   "cell_type": "markdown",
   "id": "3ca328c7-f443-47c2-93fe-f2f49b16205c",
   "metadata": {},
   "source": [
    "## Weak topics"
   ]
  },
  {
   "cell_type": "code",
   "execution_count": 25,
   "id": "ed7cf209-9982-4c45-989d-cad5f0069563",
   "metadata": {},
   "outputs": [
    {
     "name": "stdout",
     "output_type": "stream",
     "text": [
      "Weak topics: [41, 52, 54, 61, 64, 126, 143, 160]\n"
     ]
    }
   ],
   "source": [
    "file_weak_signals = os.path.join(directorio_actual, 'data', 'processed', 'weak_signals_kem_kim.csv')\n",
    "weak_signals_df = pd.read_csv(file_weak_signals)\n",
    "\n",
    "weak_signals_sorted = weak_signals_df.sort_values(by=['DoV', 'DoD'], ascending=False)\n",
    "\n",
    "top_n = 2000\n",
    "weak_keywords = weak_signals_sorted.head(top_n)['Keyword'].tolist()\n",
    "#weak_keywords = weak_signals_df['Keyword'].tolist()\n",
    "\n",
    "\n",
    "freq = model.get_topic_info()\n",
    "topics_keywords = {}\n",
    "for topic in freq['Topic']:\n",
    "    if topic != -1:  # Excluir documentos no clasificados\n",
    "        topics_keywords[topic] = [word for word, _ in model.get_topic(topic)]\n",
    "\n",
    "weak_topics = []\n",
    "for topic, keywords in topics_keywords.items():\n",
    "    if any(keyword in weak_keywords for keyword in keywords):\n",
    "        weak_topics.append(topic)\n",
    "\n",
    "print(f\"Weak topics: {weak_topics}\")"
   ]
  },
  {
   "cell_type": "code",
   "execution_count": null,
   "id": "924f951f-6c42-4d9d-bd1c-a8f18aef57eb",
   "metadata": {},
   "outputs": [],
   "source": [
    "specific_topics = [84, 139, 90]\n",
    "\n",
    "def get_keywords_for_topics(model, topics):\n",
    "    topics_keywords = {}\n",
    "    for topic in topics:\n",
    "        if topic != -1:\n",
    "            topics_keywords[topic] = [word for word, _ in model.get_topic(topic)]\n",
    "    return topics_keywords\n",
    "\n",
    "\n",
    "keywords = get_keywords_for_topics(model, specific_topics)\n",
    "for topic, words in keywords.items():\n",
    "    print(f\"Tópico {topic}: {words}\")"
   ]
  },
  {
   "cell_type": "markdown",
   "id": "b5d38d56-3c27-4144-a22a-e46dfe96afd4",
   "metadata": {},
   "source": [
    "\"You are an expert in summarizing topics based on keywords. Given the following keywords, provide a concise and descriptive name for the topic, and a short description of what the topic covers.\"\n",
    "\n",
    "Keywords: ['tecnología', 'innovación', 'startup', 'inversión', 'emprendimiento', 'fintech', 'disrupción', 'digital', 'ecosistema', 'mercado']"
   ]
  },
  {
   "cell_type": "code",
   "execution_count": 27,
   "id": "0f3f013c-d946-4f6c-9426-2394edce0617",
   "metadata": {},
   "outputs": [],
   "source": [
    "# model.visualize_documents(dataset['data_preprocess'])"
   ]
  },
  {
   "cell_type": "code",
   "execution_count": null,
   "id": "7f789f2e-63c2-4c9a-b25a-801433d83828",
   "metadata": {},
   "outputs": [],
   "source": [
    "#https://radimrehurek.com/gensim/models/coherencemodel.html"
   ]
  },
  {
   "cell_type": "code",
   "execution_count": null,
   "id": "39a149bd-3ce3-425e-863e-6de60861a4d7",
   "metadata": {},
   "outputs": [],
   "source": [
    "#https://ar5iv.labs.arxiv.org/html/2208.09299\n",
    "#https://ar5iv.labs.arxiv.org/html/1403.6397#S3.T2"
   ]
  },
  {
   "cell_type": "markdown",
   "id": "b3e8e2fe-bd61-4aa3-88d1-3162ce2350e4",
   "metadata": {},
   "source": [
    "## Topics over Time"
   ]
  },
  {
   "cell_type": "code",
   "execution_count": 35,
   "id": "f1c08312-a18b-4f85-abdd-c3ed47918360",
   "metadata": {
    "tags": []
   },
   "outputs": [
    {
     "name": "stdout",
     "output_type": "stream",
     "text": [
      "<class 'list'>\n",
      "<class 'list'>\n"
     ]
    },
    {
     "name": "stderr",
     "output_type": "stream",
     "text": [
      "24it [35:39, 89.16s/it] \n"
     ]
    }
   ],
   "source": [
    "num_nr_bins = dataset['Fecha_Publicacion'].dt.to_period(\"M\").nunique()\n",
    "news = dataset.data_preprocess.to_list()   \n",
    "print(type(news))\n",
    "\n",
    "timestampsd = dataset.Fecha_Publicacion.to_list()\n",
    "print(type(timestampsd))\n",
    "\n",
    "\n",
    "topics_over_timet = model.topics_over_time(\n",
    "    news, \n",
    "    timestampsd, \n",
    "    nr_bins=24,  \n",
    "    global_tuning=False,\n",
    "    evolution_tuning=True\n",
    ")"
   ]
  },
  {
   "cell_type": "code",
   "execution_count": null,
   "id": "3d477caa-0689-4352-9cb9-9455497a63dc",
   "metadata": {
    "tags": []
   },
   "outputs": [],
   "source": [
    "model.visualize_topics_over_time(topics_over_timet, top_n_topics=10, normalize_frequency=True)"
   ]
  },
  {
   "cell_type": "code",
   "execution_count": 44,
   "id": "870c9f53-b324-4034-9242-682f0aa1d881",
   "metadata": {
    "tags": []
   },
   "outputs": [
    {
     "data": {
      "application/vnd.plotly.v1+json": {
       "config": {
        "plotlyServerURL": "https://plot.ly"
       },
       "data": [
        {
         "hoverinfo": "text",
         "hovertext": [
          "<b>Topic 41</b><br>Words: electoral riesgo, emision presupuesto, mercado internacional, riesgo estancar, calificacion riesgo",
          "<b>Topic 41</b><br>Words: bono deuda, deuda externo, pagar deuda, mercado internacional, papel deuda",
          "<b>Topic 41</b><br>Words: 13 riesgo, presidencial riesgo, inflacion debilitacion, escalada inflacion, internacional inestabilidad",
          "<b>Topic 41</b><br>Words: riesgo 1600, petroleo 1500, 1500 indice, petroleo indice, 1600 punto",
          "<b>Topic 41</b><br>Words: 1726 punto, petroleo subida, 2852 punto, petrolero mostrar, reperfilamiento deuda",
          "<b>Topic 41</b><br>Words: inversionista internacional, unidos inversionista, bajo inversionista, deuda bono, paro riesgo",
          "<b>Topic 41</b><br>Words: dolar caida, inflacion peru, dolar cerro, provoco volatilidad, martes 38370",
          "<b>Topic 41</b><br>Words: riesgo calificacion, calificacion riesgo, riesgo summaratings, avellan riesgo, fiscal endeudamiento",
          "<b>Topic 41</b><br>Words: crisis politico, deuda externo, aumento riesgo, riesgo cerro, riesgo paso",
          "<b>Topic 41</b><br>Words: finanza mejorar, internacional crecio, inversionista exterior, banco inversion, deuda externo",
          "<b>Topic 41</b><br>Words: crisis politico, reestructuracion deuda, especulacion politico, credit suisse, bono deuda",
          "<b>Topic 41</b><br>Words: inversionista acreedor, presidente guillermo, inversionista internacional, investment securities, securities banco",
          "<b>Topic 41</b><br>Words: punto riesgo, indicador riesgo, riesgo precio, destitucion presidente, riesgo",
          "<b>Topic 41</b><br>Words: riesgo incumplimiento, riesgo alto, alto riesgo, percepcion riesgo, riesgo dar",
          "<b>Topic 41</b><br>Words: calificacion riesgo, eleccion presidencial, riesgo indicador, alto riesgo, presidencial anticipado",
          "<b>Topic 41</b><br>Words: incertidumbre politico, inversionista internacional, deuda externo, inversion extranjero, inversionista esperar",
          "<b>Topic 41</b><br>Words: indicador riesgo, aumento riesgo, deuda externo, riesgo caer, 2025 2026",
          "<b>Topic 41</b><br>Words: 2026, 2024, deuda comercial, deuda bastante, pago deuda",
          "<b>Topic 41</b><br>Words: percibir riesgoso, deuda externo, hueco fiscal, riesgo mayor, alto riesgo"
         ],
         "marker": {
          "color": "#E69F00"
         },
         "mode": "lines",
         "name": "41_deuda externo_pagar deuda_pago deuda_...",
         "type": "scatter",
         "x": [
          "2022-01-08T07:49:55.000000000",
          "2022-05-24T23:19:45.000000000",
          "2022-06-28T03:12:12.500000000",
          "2022-08-01T07:04:40.000000000",
          "2022-09-04T10:57:07.500000000",
          "2022-10-08T14:49:35.000000000",
          "2022-11-11T18:42:02.500000000",
          "2022-12-15T22:34:30.000000000",
          "2023-01-19T02:26:57.500000000",
          "2023-02-22T06:19:25.000000000",
          "2023-03-28T10:11:52.500000000",
          "2023-05-01T14:04:20.000000000",
          "2023-06-04T17:56:47.500000000",
          "2023-07-08T21:49:15.000000000",
          "2023-08-12T01:41:42.500000000",
          "2023-09-15T05:34:10.000000000",
          "2023-10-19T09:26:37.500000000",
          "2023-11-22T13:19:05.000000000",
          "2023-12-26T17:11:32.500000000"
         ],
         "y": {
          "bdata": "zVBxNkJAqz/NUHE2QkC7P81QcTZCQKs/zVBxNkJAqz/NUHE2QkC7P5r81KgxcMQ/zVBxNkJAqz/NUHE2QkC7P81QcTZCQNs/zVBxNkJAuz+a/NSoMXDEP5r81KgxcNQ/zVBxNkJAuz+A0gZiKQjRP4DSBmIpCOE/mvzUqDFwxD/NUHE2QkDbP81QcTZCQLs/mvzUqDFwxD8=",
          "dtype": "f8"
         }
        },
        {
         "hoverinfo": "text",
         "hovertext": [
          "<b>Topic 52</b><br>Words: reserva marino, reserva marina, pesca reserva, ministro manrique, reducir deforestacion",
          "<b>Topic 52</b><br>Words: marino protegido, mantarrayas ballenas, reserva marino, marino mantarrayas, prohibicion pesca",
          "<b>Topic 52</b><br>Words: camaronero productor, hectarea legalizar, productor camar, 218351 legalizacion, legalizar establecer",
          "<b>Topic 52</b><br>Words: parque natural, natural parque, reserva ecologico, natural diaambienteec, diaambienteec reserva",
          "<b>Topic 52</b><br>Words: guayaquil iguana, iguana dorado, cinco iguana, iguana, ilegal especie",
          "<b>Topic 52</b><br>Words: pesquero autorizacion, control pesquero, pesca periodo, pesca establecer, 4500 pesca",
          "<b>Topic 52</b><br>Words: hipopotamo colombia, hipopotamo mexico, especie hippopotamus, 72 hipopotamo, peligro fauna",
          "<b>Topic 52</b><br>Words: tarjeta amarillo, sector pesquero, amarillo advertencia, amarillo impedir, enlatado pescado",
          "<b>Topic 52</b><br>Words: biodiversidad galapago, sostenible biodiversidad, biodiversidad pictwittercom8hwpkt3jyx, ecosistema, biodiversidad",
          "<b>Topic 52</b><br>Words: reserva biosfera, especie anfibio, biodiversidad, camara pesquerio, fauna",
          "<b>Topic 52</b><br>Words: conservacion especie, conservacion jaguar, guayaquilsegura aquilesalvarez, conservacion ecosistema, biodiversidad torrencial",
          "<b>Topic 52</b><br>Words: ecosistema terrestre, biocorredor amazonico, bosque nativo, ministerio ambiente, ecosistema",
          "<b>Topic 52</b><br>Words: fauna silvestre, ilegal fauna, tiburon ballena, permitido pesca, fauna",
          "<b>Topic 52</b><br>Words: tortuga marino, fauna, flora fauna, anidacion tortuga, vida silvestre",
          "<b>Topic 52</b><br>Words: tortuga gigante, grupo 94, tortuga, restaurante guayaquil, habitat natural"
         ],
         "marker": {
          "color": "#56B4E9"
         },
         "mode": "lines",
         "name": "52_fauna silvestre_ecosistema_habitat_mi...",
         "type": "scatter",
         "x": [
          "2021-10-31T04:24:22.860000000",
          "2022-02-11T11:42:22.500000000",
          "2022-04-20T19:27:17.500000000",
          "2022-05-24T23:19:45.000000000",
          "2022-09-04T10:57:07.500000000",
          "2023-01-19T02:26:57.500000000",
          "2023-02-22T06:19:25.000000000",
          "2023-03-28T10:11:52.500000000",
          "2023-05-01T14:04:20.000000000",
          "2023-06-04T17:56:47.500000000",
          "2023-07-08T21:49:15.000000000",
          "2023-08-12T01:41:42.500000000",
          "2023-09-15T05:34:10.000000000",
          "2023-10-19T09:26:37.500000000",
          "2023-11-22T13:19:05.000000000"
         ],
         "y": {
          "bdata": "fQMmhLvFyT9TAsQCfS6xP1MCxAJ9LrE/UwLEAn0usT9TAsQCfS6xP1MCxAJ9LsE/6AJ1Qxx61T9TAsQCfS6xP30DJoS7xck/fQMmhLvF2T/oAnVDHHrVP+gCdUMcetU/UwLEAn0u4T9TAsQCfS7RP1MCxAJ9LsE/",
          "dtype": "f8"
         }
        },
        {
         "hoverinfo": "text",
         "hovertext": [
          "<b>Topic 54</b><br>Words: importacion juguete, juguete importado, patin juguete, ranking juguete, juguete juego",
          "<b>Topic 54</b><br>Words: mercado televisor, american eagle, 2019 prepandemia, futbol expectativa, eagle abririr",
          "<b>Topic 54</b><br>Words: 2019 inicio, centro comercial, condado shopping, tienda abrira, tienda planificar",
          "<b>Topic 54</b><br>Words: mexico colombia, importacion juguete, colombia lanzamiento, estadounidense ropa, ecuatoriano marca",
          "<b>Topic 54</b><br>Words: abrir tienda, tienda quito, producto tienda, tienda under, multinacional ropa",
          "<b>Topic 54</b><br>Words: calzado brasilero, brasilero usaflex, firma brasilero, brasilero previsto, marca calzado",
          "<b>Topic 54</b><br>Words: marca womensecret, inauguro tienda, fashion mall, empresa brasilero, mall ubicado",
          "<b>Topic 54</b><br>Words: marca estadounidense, marca internacional, sostener mercado, guayaquil gap, marca manta",
          "<b>Topic 54</b><br>Words: victoria secret, secret abrira, local victoria, neto victoria, secret llegar",
          "<b>Topic 54</b><br>Words: ecuatoriano comercio, marca italiano, tienda marca, marca ropa, comercio electronico",
          "<b>Topic 54</b><br>Words: comercial mall, centro comercial, prati supermercado, espacio mall, mall",
          "<b>Topic 54</b><br>Words: linea amazon, marketing chevignon, tienda virtual, amazon prime, loja chevignon",
          "<b>Topic 54</b><br>Words: black friday, comercio electronico, electronico amazon, oferta black, producto electronico",
          "<b>Topic 54</b><br>Words: quicentro shopping, centro comercial, comercial quicentro, sector retail, mall"
         ],
         "marker": {
          "color": "#009E73"
         },
         "mode": "lines",
         "name": "54_victoria secret_quicentro shopping_ma...",
         "type": "scatter",
         "x": [
          "2021-12-05T03:57:27.500000000",
          "2022-04-20T19:27:17.500000000",
          "2022-09-04T10:57:07.500000000",
          "2022-10-08T14:49:35.000000000",
          "2022-11-11T18:42:02.500000000",
          "2023-01-19T02:26:57.500000000",
          "2023-03-28T10:11:52.500000000",
          "2023-05-01T14:04:20.000000000",
          "2023-06-04T17:56:47.500000000",
          "2023-07-08T21:49:15.000000000",
          "2023-08-12T01:41:42.500000000",
          "2023-09-15T05:34:10.000000000",
          "2023-10-19T09:26:37.500000000",
          "2023-11-22T13:19:05.000000000"
         ],
         "y": {
          "bdata": "iXR7vQeqwD+JdHu9B6rAP4l0e70HqrA/zS45nAv/yD+JdHu9B6rQP4l0e70HqrA/iXR7vQeqwD/NLjmcC//IP4l0e70HqrA/q1HarInU1D+JdHu9B6rQP80uOZwL/8g/iXR7vQeq0D88wImkyunmPw==",
          "dtype": "f8"
         }
        },
        {
         "hoverinfo": "text",
         "hovertext": [
          "<b>Topic 61</b><br>Words: determinarar democrata, partido republicano, republicano, ola republicano, climatico republicano",
          "<b>Topic 61</b><br>Words: republicano, aunque republicano, partido democrata, presidencia 20172021, democrata",
          "<b>Topic 61</b><br>Words: trump tribunal, expresidente imputado, expresidente afrontar, expresidente declaro, expresidente nueva",
          "<b>Topic 61</b><br>Words: escritora juez, jurado neoyorquino, juez advirtio, carroll acusar, pronunciar veredicto",
          "<b>Topic 61</b><br>Words: tribunal federal, juez federal, abogado trump, sede tribunal, obstruir justicia",
          "<b>Topic 61</b><br>Words: judicial trump, trump candidato, presidencial 2024, legal democrata, expresidente donald",
          "<b>Topic 61</b><br>Words: presidencial 2020, eleccion presidencial, presidencial 2024, eleccion 2020, democrata joe",
          "<b>Topic 61</b><br>Words: senado, democrata, senador esposa, acusacion, nueva york",
          "<b>Topic 61</b><br>Words: republicano, democrata, presidencial, crisis diplomatico, nueva york",
          "<b>Topic 61</b><br>Words: presidente trump, expresidente presentar, presidente biden, lider democrata, presidente",
          "<b>Topic 61</b><br>Words: tribunal supremo, primario republicana, tribunal, 20172021, republicano"
         ],
         "marker": {
          "color": "#F0E442"
         },
         "mode": "lines",
         "name": "61_tribunal_senado_republicano_juez",
         "type": "scatter",
         "x": [
          "2022-10-08T14:49:35.000000000",
          "2022-11-11T18:42:02.500000000",
          "2023-03-28T10:11:52.500000000",
          "2023-05-01T14:04:20.000000000",
          "2023-06-04T17:56:47.500000000",
          "2023-07-08T21:49:15.000000000",
          "2023-08-12T01:41:42.500000000",
          "2023-09-15T05:34:10.000000000",
          "2023-10-19T09:26:37.500000000",
          "2023-11-22T13:19:05.000000000",
          "2023-12-26T17:11:32.500000000"
         ],
         "y": {
          "bdata": "CmP/URgawj+PFP96JCfLP48U/3okJ8s/CmP/URgawj8KY/9RGBrCP48U/3okJ8s/jxT/eiQn2z8KY/9RGBriPwpj/1EYGtI/jxT/eiQnyz+PFP96JCfbPw==",
          "dtype": "f8"
         }
        },
        {
         "hoverinfo": "text",
         "hovertext": [
          "<b>Topic 64</b><br>Words: turistico isla, movilizar isla, isla rico, galapago crucero, crucero",
          "<b>Topic 64</b><br>Words: neopanamax barco, barco, ingreso nave, nave mayor, ampliacion canal",
          "<b>Topic 64</b><br>Words: operar isla, barco santa, isla bartolome, dirigir isla, isla encantado",
          "<b>Topic 64</b><br>Words: pilotsnnthe american, objeto volador, naval, lago, volador",
          "<b>Topic 64</b><br>Words: isla comunicado, isla galapago, producto islasgalapago, alimento archipielago, viver isla",
          "<b>Topic 64</b><br>Words: isla galapago, transporte maritimo, hacia isla, emergencia transporte, guayaquilsanto cruz",
          "<b>Topic 64</b><br>Words: oceangate expeditions, resto titanic, titanic, oceangate, oceano",
          "<b>Topic 64</b><br>Words: abasteciar isla, isla galapago, helicoptero naval, buque cygnus, reserva marina",
          "<b>Topic 64</b><br>Words: barco, 29 pasajero, lago organizador, lago 56, marino plesiosaurio",
          "<b>Topic 64</b><br>Words: hundimiento barco, nave implosionar, barco madrugada, naufragio ecu911, zarpo buque",
          "<b>Topic 64</b><br>Words: barco rescatar, barco naufrago, millenium rescatar, guayaquil naufrago, embarcacion millenium",
          "<b>Topic 64</b><br>Words: guayaquil guayaquil, exportacion banano, guayaquil contecon, llegar guayaquil, portuario posorja",
          "<b>Topic 64</b><br>Words: puerto guayaquil, maersk puerto, naviera mediterranean, naviera multinacional, naviera grande"
         ],
         "marker": {
          "color": "#D55E00"
         },
         "mode": "lines",
         "name": "64_isla galapago_resto titanic_isla plat...",
         "type": "scatter",
         "x": [
          "2021-10-31T04:24:22.860000000",
          "2022-04-20T19:27:17.500000000",
          "2022-10-08T14:49:35.000000000",
          "2023-01-19T02:26:57.500000000",
          "2023-02-22T06:19:25.000000000",
          "2023-03-28T10:11:52.500000000",
          "2023-06-04T17:56:47.500000000",
          "2023-07-08T21:49:15.000000000",
          "2023-08-12T01:41:42.500000000",
          "2023-09-15T05:34:10.000000000",
          "2023-10-19T09:26:37.500000000",
          "2023-11-22T13:19:05.000000000",
          "2023-12-26T17:11:32.500000000"
         ],
         "y": {
          "bdata": "bDKuYV4krD9sMq5hXiSsP2wyrmFeJKw/bDKuYV4kvD9sMq5hXiSsP2wyrmFeJLw/bDKuYV4k7D/RpULJRhvVP2wyrmFeJLw/0aVCyUYbxT9sMq5hXiSsP9GlQslGG8U/bDKuYV4kvD8=",
          "dtype": "f8"
         }
        },
        {
         "hoverinfo": "text",
         "hovertext": [
          "<b>Topic 126</b><br>Words: cofepris mexico, mexico conocio, farmaco supervision, consumo clonazepam, irresponsable farmaco",
          "<b>Topic 126</b><br>Words: estupefaciente medicamento, posparto farmaco, medicamento incluirar, medicamento contener, establecimiento farmaceutico",
          "<b>Topic 126</b><br>Words: droga fentanilo, fentanilo droga, adiccion fentanilo, consumo fentanilo, fentanilo consumidor",
          "<b>Topic 126</b><br>Words: fentanilo droga, trafico fentanilo, ampolla fentanilo, fentanilo, narcotico",
          "<b>Topic 126</b><br>Words: heroina fentanilo, heroin fentanilo, introduccion fentanilo, pastilla fentanilo, consumo fentanilo",
          "<b>Topic 126</b><br>Words: consumo fentanilo, fentanilo unidos, fentanilo, mexico, crisis droga"
         ],
         "marker": {
          "color": "#0072B2"
         },
         "mode": "lines",
         "name": "126_fentanilo droga_consumo fentanilo_am...",
         "type": "scatter",
         "x": [
          "2023-01-19T02:26:57.500000000",
          "2023-07-08T21:49:15.000000000",
          "2023-08-12T01:41:42.500000000",
          "2023-09-15T05:34:10.000000000",
          "2023-10-19T09:26:37.500000000",
          "2023-11-22T13:19:05.000000000"
         ],
         "y": {
          "bdata": "zvMb2XAItj/O8xvZcAjGP8LwYg+Nits/wvBiD42K6z/O8xvZcAi2P87zG9lwCMY/",
          "dtype": "f8"
         }
        },
        {
         "hoverinfo": "text",
         "hovertext": [
          "<b>Topic 143</b><br>Words: desastre cancha, jugar ecuavoley, familiar victima, jugar resto, impacto aluvion",
          "<b>Topic 143</b><br>Words: muerte 29, tragedia, desaparecido 310, ayuda humanitario, municipio quito",
          "<b>Topic 143</b><br>Words: afectar viviendannu200dpersonal, atender evacuar, alausi provincia, 52 murio, ayuda 27",
          "<b>Topic 143</b><br>Words: zona desastre, desastre natural, desastre, deslizamiento tierra, busqueda rescate",
          "<b>Topic 143</b><br>Words: 38 fallecido, familia afectado, emergencia, deslizamiento tierra, desastre",
          "<b>Topic 143</b><br>Words: montana 26, montana obra, estabilizacion montana, montana detallo, braveza montana",
          "<b>Topic 143</b><br>Words: sector cementerio, cementerio tulcan, 29 sector, cementerio, alertaemiliannbriana",
          "<b>Topic 143</b><br>Words: emergencia canton, damnificado tragedia, declarar emergencia, emergencia, emergencia coe"
         ],
         "marker": {
          "color": "#CC79A7"
         },
         "mode": "lines",
         "name": "143_zona desastre_mes tragedia_tragedia_...",
         "type": "scatter",
         "x": [
          "2022-01-08T07:49:55.000000000",
          "2023-01-19T02:26:57.500000000",
          "2023-02-22T06:19:25.000000000",
          "2023-03-28T10:11:52.500000000",
          "2023-05-01T14:04:20.000000000",
          "2023-06-04T17:56:47.500000000",
          "2023-10-19T09:26:37.500000000",
          "2023-12-26T17:11:32.500000000"
         ],
         "y": {
          "bdata": "kZ4q2cMUwz+RnirZwxTTP9ntv8Uln9w/kZ4q2cMU4z/Z7b/FJZ/cP5GeKtnDFNM/kZ4q2cMUwz+RnirZwxTDPw==",
          "dtype": "f8"
         }
        },
        {
         "hoverinfo": "text",
         "hovertext": [
          "<b>Topic 160</b><br>Words: domingo descanso, norma feriado, feriado feriado, feriado descanso, cambio feriado",
          "<b>Topic 160</b><br>Words: desfile festival, festival musical, feriado restriccion, carnaval ambato, cuyo festividad",
          "<b>Topic 160</b><br>Words: calendario feriado, feriado descanso, carnaval viernes, 10 festividad, turismo feriado",
          "<b>Topic 160</b><br>Words: latinoamericano festivo, calendario latinoamericano, feriado feriado, 25 feriado, feriado semana",
          "<b>Topic 160</b><br>Words: espanolo feriado, independencia celebrar, ley feriado, feriado serar, feriado formar",
          "<b>Topic 160</b><br>Words: tendrir feriado, guaranda feriado, habrar feriado, tres feriado, feriado vivar",
          "<b>Topic 160</b><br>Words: alistar feriado, independencia guayaquil, festejo guayaquil, feriado atenderar, despu feriado",
          "<b>Topic 160</b><br>Words: feriado 2024, guaranda feriado, calendario feriado, 11 feriado, 10 festividad",
          "<b>Topic 160</b><br>Words: feriado carnaval, laborar feriado, 10 feriado, habrar feriado, calendario feriado"
         ],
         "marker": {
          "color": "#E69F00"
         },
         "mode": "lines",
         "name": "160_guaranda feriado_calendario feriado_...",
         "type": "scatter",
         "x": [
          "2021-10-31T04:24:22.860000000",
          "2022-02-11T11:42:22.500000000",
          "2022-11-11T18:42:02.500000000",
          "2023-03-28T10:11:52.500000000",
          "2023-07-08T21:49:15.000000000",
          "2023-08-12T01:41:42.500000000",
          "2023-09-15T05:34:10.000000000",
          "2023-11-22T13:19:05.000000000",
          "2023-12-26T17:11:32.500000000"
         ],
         "y": {
          "bdata": "dM876avDxD90zzvpq8PEP3TPO+mrw8Q/dM876avDxD90zzvpq8PUP3TPO+mrw8Q/dM876avD1D90zzvpq8PkPy632d2BJd8/",
          "dtype": "f8"
         }
        }
       ],
       "layout": {
        "height": 450,
        "hoverlabel": {
         "bgcolor": "white",
         "font": {
          "family": "Rockwell",
          "size": 16
         }
        },
        "legend": {
         "title": {
          "text": "<b>Global Topic Representation"
         }
        },
        "template": {
         "data": {
          "bar": [
           {
            "error_x": {
             "color": "rgb(36,36,36)"
            },
            "error_y": {
             "color": "rgb(36,36,36)"
            },
            "marker": {
             "line": {
              "color": "white",
              "width": 0.5
             },
             "pattern": {
              "fillmode": "overlay",
              "size": 10,
              "solidity": 0.2
             }
            },
            "type": "bar"
           }
          ],
          "barpolar": [
           {
            "marker": {
             "line": {
              "color": "white",
              "width": 0.5
             },
             "pattern": {
              "fillmode": "overlay",
              "size": 10,
              "solidity": 0.2
             }
            },
            "type": "barpolar"
           }
          ],
          "carpet": [
           {
            "aaxis": {
             "endlinecolor": "rgb(36,36,36)",
             "gridcolor": "white",
             "linecolor": "white",
             "minorgridcolor": "white",
             "startlinecolor": "rgb(36,36,36)"
            },
            "baxis": {
             "endlinecolor": "rgb(36,36,36)",
             "gridcolor": "white",
             "linecolor": "white",
             "minorgridcolor": "white",
             "startlinecolor": "rgb(36,36,36)"
            },
            "type": "carpet"
           }
          ],
          "choropleth": [
           {
            "colorbar": {
             "outlinewidth": 1,
             "tickcolor": "rgb(36,36,36)",
             "ticks": "outside"
            },
            "type": "choropleth"
           }
          ],
          "contour": [
           {
            "colorbar": {
             "outlinewidth": 1,
             "tickcolor": "rgb(36,36,36)",
             "ticks": "outside"
            },
            "colorscale": [
             [
              0,
              "#440154"
             ],
             [
              0.1111111111111111,
              "#482878"
             ],
             [
              0.2222222222222222,
              "#3e4989"
             ],
             [
              0.3333333333333333,
              "#31688e"
             ],
             [
              0.4444444444444444,
              "#26828e"
             ],
             [
              0.5555555555555556,
              "#1f9e89"
             ],
             [
              0.6666666666666666,
              "#35b779"
             ],
             [
              0.7777777777777778,
              "#6ece58"
             ],
             [
              0.8888888888888888,
              "#b5de2b"
             ],
             [
              1,
              "#fde725"
             ]
            ],
            "type": "contour"
           }
          ],
          "contourcarpet": [
           {
            "colorbar": {
             "outlinewidth": 1,
             "tickcolor": "rgb(36,36,36)",
             "ticks": "outside"
            },
            "type": "contourcarpet"
           }
          ],
          "heatmap": [
           {
            "colorbar": {
             "outlinewidth": 1,
             "tickcolor": "rgb(36,36,36)",
             "ticks": "outside"
            },
            "colorscale": [
             [
              0,
              "#440154"
             ],
             [
              0.1111111111111111,
              "#482878"
             ],
             [
              0.2222222222222222,
              "#3e4989"
             ],
             [
              0.3333333333333333,
              "#31688e"
             ],
             [
              0.4444444444444444,
              "#26828e"
             ],
             [
              0.5555555555555556,
              "#1f9e89"
             ],
             [
              0.6666666666666666,
              "#35b779"
             ],
             [
              0.7777777777777778,
              "#6ece58"
             ],
             [
              0.8888888888888888,
              "#b5de2b"
             ],
             [
              1,
              "#fde725"
             ]
            ],
            "type": "heatmap"
           }
          ],
          "histogram": [
           {
            "marker": {
             "line": {
              "color": "white",
              "width": 0.6
             }
            },
            "type": "histogram"
           }
          ],
          "histogram2d": [
           {
            "colorbar": {
             "outlinewidth": 1,
             "tickcolor": "rgb(36,36,36)",
             "ticks": "outside"
            },
            "colorscale": [
             [
              0,
              "#440154"
             ],
             [
              0.1111111111111111,
              "#482878"
             ],
             [
              0.2222222222222222,
              "#3e4989"
             ],
             [
              0.3333333333333333,
              "#31688e"
             ],
             [
              0.4444444444444444,
              "#26828e"
             ],
             [
              0.5555555555555556,
              "#1f9e89"
             ],
             [
              0.6666666666666666,
              "#35b779"
             ],
             [
              0.7777777777777778,
              "#6ece58"
             ],
             [
              0.8888888888888888,
              "#b5de2b"
             ],
             [
              1,
              "#fde725"
             ]
            ],
            "type": "histogram2d"
           }
          ],
          "histogram2dcontour": [
           {
            "colorbar": {
             "outlinewidth": 1,
             "tickcolor": "rgb(36,36,36)",
             "ticks": "outside"
            },
            "colorscale": [
             [
              0,
              "#440154"
             ],
             [
              0.1111111111111111,
              "#482878"
             ],
             [
              0.2222222222222222,
              "#3e4989"
             ],
             [
              0.3333333333333333,
              "#31688e"
             ],
             [
              0.4444444444444444,
              "#26828e"
             ],
             [
              0.5555555555555556,
              "#1f9e89"
             ],
             [
              0.6666666666666666,
              "#35b779"
             ],
             [
              0.7777777777777778,
              "#6ece58"
             ],
             [
              0.8888888888888888,
              "#b5de2b"
             ],
             [
              1,
              "#fde725"
             ]
            ],
            "type": "histogram2dcontour"
           }
          ],
          "mesh3d": [
           {
            "colorbar": {
             "outlinewidth": 1,
             "tickcolor": "rgb(36,36,36)",
             "ticks": "outside"
            },
            "type": "mesh3d"
           }
          ],
          "parcoords": [
           {
            "line": {
             "colorbar": {
              "outlinewidth": 1,
              "tickcolor": "rgb(36,36,36)",
              "ticks": "outside"
             }
            },
            "type": "parcoords"
           }
          ],
          "pie": [
           {
            "automargin": true,
            "type": "pie"
           }
          ],
          "scatter": [
           {
            "fillpattern": {
             "fillmode": "overlay",
             "size": 10,
             "solidity": 0.2
            },
            "type": "scatter"
           }
          ],
          "scatter3d": [
           {
            "line": {
             "colorbar": {
              "outlinewidth": 1,
              "tickcolor": "rgb(36,36,36)",
              "ticks": "outside"
             }
            },
            "marker": {
             "colorbar": {
              "outlinewidth": 1,
              "tickcolor": "rgb(36,36,36)",
              "ticks": "outside"
             }
            },
            "type": "scatter3d"
           }
          ],
          "scattercarpet": [
           {
            "marker": {
             "colorbar": {
              "outlinewidth": 1,
              "tickcolor": "rgb(36,36,36)",
              "ticks": "outside"
             }
            },
            "type": "scattercarpet"
           }
          ],
          "scattergeo": [
           {
            "marker": {
             "colorbar": {
              "outlinewidth": 1,
              "tickcolor": "rgb(36,36,36)",
              "ticks": "outside"
             }
            },
            "type": "scattergeo"
           }
          ],
          "scattergl": [
           {
            "marker": {
             "colorbar": {
              "outlinewidth": 1,
              "tickcolor": "rgb(36,36,36)",
              "ticks": "outside"
             }
            },
            "type": "scattergl"
           }
          ],
          "scattermap": [
           {
            "marker": {
             "colorbar": {
              "outlinewidth": 1,
              "tickcolor": "rgb(36,36,36)",
              "ticks": "outside"
             }
            },
            "type": "scattermap"
           }
          ],
          "scattermapbox": [
           {
            "marker": {
             "colorbar": {
              "outlinewidth": 1,
              "tickcolor": "rgb(36,36,36)",
              "ticks": "outside"
             }
            },
            "type": "scattermapbox"
           }
          ],
          "scatterpolar": [
           {
            "marker": {
             "colorbar": {
              "outlinewidth": 1,
              "tickcolor": "rgb(36,36,36)",
              "ticks": "outside"
             }
            },
            "type": "scatterpolar"
           }
          ],
          "scatterpolargl": [
           {
            "marker": {
             "colorbar": {
              "outlinewidth": 1,
              "tickcolor": "rgb(36,36,36)",
              "ticks": "outside"
             }
            },
            "type": "scatterpolargl"
           }
          ],
          "scatterternary": [
           {
            "marker": {
             "colorbar": {
              "outlinewidth": 1,
              "tickcolor": "rgb(36,36,36)",
              "ticks": "outside"
             }
            },
            "type": "scatterternary"
           }
          ],
          "surface": [
           {
            "colorbar": {
             "outlinewidth": 1,
             "tickcolor": "rgb(36,36,36)",
             "ticks": "outside"
            },
            "colorscale": [
             [
              0,
              "#440154"
             ],
             [
              0.1111111111111111,
              "#482878"
             ],
             [
              0.2222222222222222,
              "#3e4989"
             ],
             [
              0.3333333333333333,
              "#31688e"
             ],
             [
              0.4444444444444444,
              "#26828e"
             ],
             [
              0.5555555555555556,
              "#1f9e89"
             ],
             [
              0.6666666666666666,
              "#35b779"
             ],
             [
              0.7777777777777778,
              "#6ece58"
             ],
             [
              0.8888888888888888,
              "#b5de2b"
             ],
             [
              1,
              "#fde725"
             ]
            ],
            "type": "surface"
           }
          ],
          "table": [
           {
            "cells": {
             "fill": {
              "color": "rgb(237,237,237)"
             },
             "line": {
              "color": "white"
             }
            },
            "header": {
             "fill": {
              "color": "rgb(217,217,217)"
             },
             "line": {
              "color": "white"
             }
            },
            "type": "table"
           }
          ]
         },
         "layout": {
          "annotationdefaults": {
           "arrowhead": 0,
           "arrowwidth": 1
          },
          "autotypenumbers": "strict",
          "coloraxis": {
           "colorbar": {
            "outlinewidth": 1,
            "tickcolor": "rgb(36,36,36)",
            "ticks": "outside"
           }
          },
          "colorscale": {
           "diverging": [
            [
             0,
             "rgb(103,0,31)"
            ],
            [
             0.1,
             "rgb(178,24,43)"
            ],
            [
             0.2,
             "rgb(214,96,77)"
            ],
            [
             0.3,
             "rgb(244,165,130)"
            ],
            [
             0.4,
             "rgb(253,219,199)"
            ],
            [
             0.5,
             "rgb(247,247,247)"
            ],
            [
             0.6,
             "rgb(209,229,240)"
            ],
            [
             0.7,
             "rgb(146,197,222)"
            ],
            [
             0.8,
             "rgb(67,147,195)"
            ],
            [
             0.9,
             "rgb(33,102,172)"
            ],
            [
             1,
             "rgb(5,48,97)"
            ]
           ],
           "sequential": [
            [
             0,
             "#440154"
            ],
            [
             0.1111111111111111,
             "#482878"
            ],
            [
             0.2222222222222222,
             "#3e4989"
            ],
            [
             0.3333333333333333,
             "#31688e"
            ],
            [
             0.4444444444444444,
             "#26828e"
            ],
            [
             0.5555555555555556,
             "#1f9e89"
            ],
            [
             0.6666666666666666,
             "#35b779"
            ],
            [
             0.7777777777777778,
             "#6ece58"
            ],
            [
             0.8888888888888888,
             "#b5de2b"
            ],
            [
             1,
             "#fde725"
            ]
           ],
           "sequentialminus": [
            [
             0,
             "#440154"
            ],
            [
             0.1111111111111111,
             "#482878"
            ],
            [
             0.2222222222222222,
             "#3e4989"
            ],
            [
             0.3333333333333333,
             "#31688e"
            ],
            [
             0.4444444444444444,
             "#26828e"
            ],
            [
             0.5555555555555556,
             "#1f9e89"
            ],
            [
             0.6666666666666666,
             "#35b779"
            ],
            [
             0.7777777777777778,
             "#6ece58"
            ],
            [
             0.8888888888888888,
             "#b5de2b"
            ],
            [
             1,
             "#fde725"
            ]
           ]
          },
          "colorway": [
           "#1F77B4",
           "#FF7F0E",
           "#2CA02C",
           "#D62728",
           "#9467BD",
           "#8C564B",
           "#E377C2",
           "#7F7F7F",
           "#BCBD22",
           "#17BECF"
          ],
          "font": {
           "color": "rgb(36,36,36)"
          },
          "geo": {
           "bgcolor": "white",
           "lakecolor": "white",
           "landcolor": "white",
           "showlakes": true,
           "showland": true,
           "subunitcolor": "white"
          },
          "hoverlabel": {
           "align": "left"
          },
          "hovermode": "closest",
          "mapbox": {
           "style": "light"
          },
          "paper_bgcolor": "white",
          "plot_bgcolor": "white",
          "polar": {
           "angularaxis": {
            "gridcolor": "rgb(232,232,232)",
            "linecolor": "rgb(36,36,36)",
            "showgrid": false,
            "showline": true,
            "ticks": "outside"
           },
           "bgcolor": "white",
           "radialaxis": {
            "gridcolor": "rgb(232,232,232)",
            "linecolor": "rgb(36,36,36)",
            "showgrid": false,
            "showline": true,
            "ticks": "outside"
           }
          },
          "scene": {
           "xaxis": {
            "backgroundcolor": "white",
            "gridcolor": "rgb(232,232,232)",
            "gridwidth": 2,
            "linecolor": "rgb(36,36,36)",
            "showbackground": true,
            "showgrid": false,
            "showline": true,
            "ticks": "outside",
            "zeroline": false,
            "zerolinecolor": "rgb(36,36,36)"
           },
           "yaxis": {
            "backgroundcolor": "white",
            "gridcolor": "rgb(232,232,232)",
            "gridwidth": 2,
            "linecolor": "rgb(36,36,36)",
            "showbackground": true,
            "showgrid": false,
            "showline": true,
            "ticks": "outside",
            "zeroline": false,
            "zerolinecolor": "rgb(36,36,36)"
           },
           "zaxis": {
            "backgroundcolor": "white",
            "gridcolor": "rgb(232,232,232)",
            "gridwidth": 2,
            "linecolor": "rgb(36,36,36)",
            "showbackground": true,
            "showgrid": false,
            "showline": true,
            "ticks": "outside",
            "zeroline": false,
            "zerolinecolor": "rgb(36,36,36)"
           }
          },
          "shapedefaults": {
           "fillcolor": "black",
           "line": {
            "width": 0
           },
           "opacity": 0.3
          },
          "ternary": {
           "aaxis": {
            "gridcolor": "rgb(232,232,232)",
            "linecolor": "rgb(36,36,36)",
            "showgrid": false,
            "showline": true,
            "ticks": "outside"
           },
           "baxis": {
            "gridcolor": "rgb(232,232,232)",
            "linecolor": "rgb(36,36,36)",
            "showgrid": false,
            "showline": true,
            "ticks": "outside"
           },
           "bgcolor": "white",
           "caxis": {
            "gridcolor": "rgb(232,232,232)",
            "linecolor": "rgb(36,36,36)",
            "showgrid": false,
            "showline": true,
            "ticks": "outside"
           }
          },
          "title": {
           "x": 0.05
          },
          "xaxis": {
           "automargin": true,
           "gridcolor": "rgb(232,232,232)",
           "linecolor": "rgb(36,36,36)",
           "showgrid": false,
           "showline": true,
           "ticks": "outside",
           "title": {
            "standoff": 15
           },
           "zeroline": false,
           "zerolinecolor": "rgb(36,36,36)"
          },
          "yaxis": {
           "automargin": true,
           "gridcolor": "rgb(232,232,232)",
           "linecolor": "rgb(36,36,36)",
           "showgrid": false,
           "showline": true,
           "ticks": "outside",
           "title": {
            "standoff": 15
           },
           "zeroline": false,
           "zerolinecolor": "rgb(36,36,36)"
          }
         }
        },
        "title": {
         "font": {
          "color": "Black",
          "size": 22
         },
         "text": "<b>Topics over Time</b>",
         "x": 0.4,
         "xanchor": "center",
         "y": 0.95,
         "yanchor": "top"
        },
        "width": 1250,
        "xaxis": {
         "showgrid": true
        },
        "yaxis": {
         "showgrid": true,
         "title": {
          "text": "Normalized Frequency"
         }
        }
       }
      }
     },
     "metadata": {},
     "output_type": "display_data"
    }
   ],
   "source": [
    "model.visualize_topics_over_time(topics_over_timet, topics=[41, 52, 54, 61, 64, 126, 143, 160], normalize_frequency=True)"
   ]
  },
  {
   "cell_type": "code",
   "execution_count": null,
   "id": "f14959c4-3d49-431b-9e84-628c2adf0bd4",
   "metadata": {
    "tags": []
   },
   "outputs": [],
   "source": [
    "model.visualize_term_rank()"
   ]
  },
  {
   "cell_type": "code",
   "execution_count": null,
   "id": "e3d083df-93b2-4de8-baa2-c418270ad599",
   "metadata": {
    "tags": []
   },
   "outputs": [],
   "source": [
    "def visualize_term_rank_data(topic_model, topics: List[int] = None, log_scale: bool = False) -> List[dict]:\n",
    "    topics      = [] if topics is None else topics\n",
    "    topic_ids   = topic_model.get_topic_info().Topic.unique().tolist()\n",
    "    topic_words = [topic_model.get_topic(topic) for topic in topic_ids]\n",
    "\n",
    "    values  = np.array([[value[1] for value in values] for values in topic_words])\n",
    "    indices = np.array([[value + 1 for value in range(len(values))] for values in topic_words])\n",
    "\n",
    "    data  = []\n",
    "    for topic, x, y in zip(topic_ids, indices, values):\n",
    "        if not any(y > 1.5):\n",
    "            label = f\"<b>Topic {topic}</b>:\" + \"_\".join([word[0] for word in topic_model.get_topic(topic)])\n",
    "            label = label[:50]\n",
    "\n",
    "            color = \"red\" if topic in topics else \"black\"\n",
    "            opacity = 1 if topic in topics else .1\n",
    "            if any(y == 0):\n",
    "                y[y == 0] = min(values[values > 0])\n",
    "            y = np.log10(y, out=y, where=y > 0) if log_scale else y\n",
    "            data.append({'x':x, 'y':y,'text':label})\n",
    "    return data"
   ]
  },
  {
   "cell_type": "code",
   "execution_count": null,
   "id": "83b909d6-219a-4538-b4d7-d91e2225296a",
   "metadata": {
    "tags": []
   },
   "outputs": [],
   "source": [
    "datos_ndcg = visualize_term_rank_data(model)"
   ]
  },
  {
   "cell_type": "code",
   "execution_count": 41,
   "id": "e4f3ca8b-4f10-4be8-babe-90689d3f5a49",
   "metadata": {
    "tags": []
   },
   "outputs": [],
   "source": [
    "def visualize_topics_over_time_data(topic_model,\n",
    "                               topics_over_time: pd.DataFrame,\n",
    "                               top_n_topics: int = None,\n",
    "                               topics: List[int] = None,\n",
    "                               normalize_frequency: bool = True,\n",
    "                               custom_labels: Union[bool, str] = False):\n",
    "\n",
    "    freq_df = topic_model.get_topic_freq()\n",
    "    freq_df = freq_df.loc[freq_df.Topic != -1, :]\n",
    "    if topics is not None:\n",
    "        selected_topics = list(topics)\n",
    "    elif top_n_topics is not None:\n",
    "        selected_topics = sorted(freq_df.Topic.to_list()[:top_n_topics])\n",
    "    else:\n",
    "        selected_topics = sorted(freq_df.Topic.to_list())\n",
    "\n",
    "    \n",
    "    topic_names = {key: value[:40] + \"...\" if len(value) > 40 else value\n",
    "                       for key, value in topic_model.topic_labels_.items()}\n",
    "    topics_over_time[\"Name\"] = topics_over_time.Topic.map(topic_names)\n",
    "    data = topics_over_time.loc[topics_over_time.Topic.isin(selected_topics), :].sort_values([\"Topic\", \"Timestamp\"])\n",
    "\n",
    "    dfs_per_topic  = []\n",
    "    data_over_time = []\n",
    "    for index, topic in enumerate(data.Topic.unique()):\n",
    "        trace_data = data.loc[data.Topic == topic, :]\n",
    "        topic_name = trace_data.Name.values[0]\n",
    "        words = trace_data.Words.values\n",
    "        if normalize_frequency:\n",
    "            y = normalize(trace_data.Frequency.values.reshape(1, -1))[0]\n",
    "        else:\n",
    "            y = trace_data.Frequency\n",
    "        #data_over_time.append({'x':trace_data.Timestamp, 'y':y,'text':[f'<b>Topic {topic}</b><br>Words: {word}' for word in words]})\n",
    "        data_over_time.append({'x':trace_data.Timestamp, 'y': y})\n",
    "        df_topic = pd.DataFrame({'date': trace_data.Timestamp.values, 'frequency': y})\n",
    "        dfs_per_topic.append(df_topic)\n",
    "    \n",
    "    layout = go.Layout(title='Topics Over Time',\n",
    "                       xaxis=dict(title='Time'),\n",
    "                       yaxis=dict(title='Frequency'))\n",
    "\n",
    "    fig = go.Figure(data=data_over_time, layout=layout)\n",
    "    return fig, dfs_per_topic"
   ]
  },
  {
   "cell_type": "code",
   "execution_count": 43,
   "id": "20e492f5-11d2-42de-97ee-60f036146721",
   "metadata": {
    "tags": []
   },
   "outputs": [
    {
     "data": {
      "application/vnd.plotly.v1+json": {
       "config": {
        "plotlyServerURL": "https://plot.ly"
       },
       "data": [
        {
         "type": "scatter",
         "x": [
          "2021-10-31T04:24:22.860000000",
          "2021-12-05T03:57:27.500000000",
          "2022-01-08T07:49:55.000000000",
          "2022-02-11T11:42:22.500000000",
          "2022-03-17T15:34:50.000000000",
          "2022-04-20T19:27:17.500000000",
          "2022-05-24T23:19:45.000000000",
          "2022-06-28T03:12:12.500000000",
          "2022-08-01T07:04:40.000000000",
          "2022-09-04T10:57:07.500000000",
          "2022-10-08T14:49:35.000000000",
          "2022-11-11T18:42:02.500000000",
          "2022-12-15T22:34:30.000000000",
          "2023-01-19T02:26:57.500000000",
          "2023-02-22T06:19:25.000000000",
          "2023-03-28T10:11:52.500000000",
          "2023-05-01T14:04:20.000000000",
          "2023-06-04T17:56:47.500000000",
          "2023-07-08T21:49:15.000000000",
          "2023-08-12T01:41:42.500000000",
          "2023-09-15T05:34:10.000000000",
          "2023-10-19T09:26:37.500000000",
          "2023-11-22T13:19:05.000000000",
          "2023-12-26T17:11:32.500000000"
         ],
         "y": {
          "bdata": "fiGKqmELdT8+Ms9/EpGPP34hiqphC3U/PjLPfxKRjz9+IYqqYQt1P34hiqphC4U/fiGKqmELdT9+IYqqYQt1Pz4yz38SkZ8/NzuQWj8ZsT/eqSwVOk6qP96pLBU6Tro/Z3/hj6u6sz8mkCZlXEC+P0/dOHX1acI/Gj/SVwGYzT8+Ms9/EpHPPzc7kFo/GdE/cCMrqcJK2z9wIyupwkrbP0/dOHX1adI/Z3/hj6u60z/JtI7uxxXSPyg9MVmgWNc/",
          "dtype": "f8"
         }
        },
        {
         "type": "scatter",
         "x": [
          "2021-10-31T04:24:22.860000000",
          "2021-12-05T03:57:27.500000000",
          "2022-01-08T07:49:55.000000000",
          "2022-02-11T11:42:22.500000000",
          "2022-03-17T15:34:50.000000000",
          "2022-04-20T19:27:17.500000000",
          "2022-05-24T23:19:45.000000000",
          "2022-06-28T03:12:12.500000000",
          "2022-08-01T07:04:40.000000000",
          "2022-09-04T10:57:07.500000000",
          "2022-10-08T14:49:35.000000000",
          "2022-11-11T18:42:02.500000000",
          "2022-12-15T22:34:30.000000000",
          "2023-01-19T02:26:57.500000000",
          "2023-02-22T06:19:25.000000000",
          "2023-03-28T10:11:52.500000000",
          "2023-05-01T14:04:20.000000000",
          "2023-06-04T17:56:47.500000000",
          "2023-07-08T21:49:15.000000000",
          "2023-08-12T01:41:42.500000000",
          "2023-09-15T05:34:10.000000000",
          "2023-10-19T09:26:37.500000000",
          "2023-11-22T13:19:05.000000000",
          "2023-12-26T17:11:32.500000000"
         ],
         "y": {
          "bdata": "WHzFV3zF1z8AAAAAAADgP3zFV3zFV9w/HdRBHdRBzT9QB3VQB3XAPxZf8RVf8cU/Fl/xFV/xxT/btm3btm3LP/EVX/EVX9E/27Zt27Ztyz8d1EEd1EGtP5IkSZIkScI/HdRBHdRBrT8d1EEd1EGtPx3UQR3UQa0/HdRBHdRBvT+amZmZmZm5P5qZmZmZmbk/UAd1UAd1wD9QB3VQB3XAPxZf8RVf8bU/kiRJkiRJsj+amZmZmZm5Px3UQR3UQZ0/",
          "dtype": "f8"
         }
        },
        {
         "type": "scatter",
         "x": [
          "2021-10-31T04:24:22.860000000",
          "2021-12-05T03:57:27.500000000",
          "2022-01-08T07:49:55.000000000",
          "2022-02-11T11:42:22.500000000",
          "2022-03-17T15:34:50.000000000",
          "2022-04-20T19:27:17.500000000",
          "2022-05-24T23:19:45.000000000",
          "2022-06-28T03:12:12.500000000",
          "2022-08-01T07:04:40.000000000",
          "2022-09-04T10:57:07.500000000",
          "2022-10-08T14:49:35.000000000",
          "2022-11-11T18:42:02.500000000",
          "2022-12-15T22:34:30.000000000",
          "2023-01-19T02:26:57.500000000",
          "2023-02-22T06:19:25.000000000",
          "2023-03-28T10:11:52.500000000",
          "2023-05-01T14:04:20.000000000",
          "2023-06-04T17:56:47.500000000",
          "2023-07-08T21:49:15.000000000",
          "2023-08-12T01:41:42.500000000",
          "2023-09-15T05:34:10.000000000",
          "2023-10-19T09:26:37.500000000",
          "2023-11-22T13:19:05.000000000",
          "2023-12-26T17:11:32.500000000"
         ],
         "y": {
          "bdata": "jH3LnxkuwD+MfcufGS7APxBSD9XMkrU/jH3LnxkusD+tchxtRofRP61yHG1Gh9E/EFIP1cySpT8QUg/VzJK1P9YQ9aTZqc0/EFIP1cyStT8QUg/VzJLFP4x9y58ZLsA/EFIP1cySxT+MfcufGS7QPxBSD9XMksU/lCZTCoD3yj/WEPWk2anNP4x9y58ZLtA/zmdtOnPgwj/OZ206c+DSPzFHYKL569Y/rXIcbUaH0T+UJlMKgPfKP9YQ9aTZqc0/",
          "dtype": "f8"
         }
        },
        {
         "type": "scatter",
         "x": [
          "2022-01-08T07:49:55.000000000",
          "2022-05-24T23:19:45.000000000",
          "2022-06-28T03:12:12.500000000",
          "2022-08-01T07:04:40.000000000",
          "2022-09-04T10:57:07.500000000",
          "2022-10-08T14:49:35.000000000",
          "2022-11-11T18:42:02.500000000",
          "2022-12-15T22:34:30.000000000",
          "2023-01-19T02:26:57.500000000",
          "2023-02-22T06:19:25.000000000",
          "2023-03-28T10:11:52.500000000",
          "2023-05-01T14:04:20.000000000",
          "2023-06-04T17:56:47.500000000",
          "2023-07-08T21:49:15.000000000",
          "2023-08-12T01:41:42.500000000",
          "2023-09-15T05:34:10.000000000",
          "2023-10-19T09:26:37.500000000",
          "2023-11-22T13:19:05.000000000",
          "2023-12-26T17:11:32.500000000"
         ],
         "y": {
          "bdata": "zVBxNkJAqz/NUHE2QkC7P81QcTZCQKs/zVBxNkJAqz/NUHE2QkC7P5r81KgxcMQ/zVBxNkJAqz/NUHE2QkC7P81QcTZCQNs/zVBxNkJAuz+a/NSoMXDEP5r81KgxcNQ/zVBxNkJAuz+A0gZiKQjRP4DSBmIpCOE/mvzUqDFwxD/NUHE2QkDbP81QcTZCQLs/mvzUqDFwxD8=",
          "dtype": "f8"
         }
        },
        {
         "type": "scatter",
         "x": [
          "2021-10-31T04:24:22.860000000",
          "2022-02-11T11:42:22.500000000",
          "2022-04-20T19:27:17.500000000",
          "2022-05-24T23:19:45.000000000",
          "2022-09-04T10:57:07.500000000",
          "2023-01-19T02:26:57.500000000",
          "2023-02-22T06:19:25.000000000",
          "2023-03-28T10:11:52.500000000",
          "2023-05-01T14:04:20.000000000",
          "2023-06-04T17:56:47.500000000",
          "2023-07-08T21:49:15.000000000",
          "2023-08-12T01:41:42.500000000",
          "2023-09-15T05:34:10.000000000",
          "2023-10-19T09:26:37.500000000",
          "2023-11-22T13:19:05.000000000"
         ],
         "y": {
          "bdata": "fQMmhLvFyT9TAsQCfS6xP1MCxAJ9LrE/UwLEAn0usT9TAsQCfS6xP1MCxAJ9LsE/6AJ1Qxx61T9TAsQCfS6xP30DJoS7xck/fQMmhLvF2T/oAnVDHHrVP+gCdUMcetU/UwLEAn0u4T9TAsQCfS7RP1MCxAJ9LsE/",
          "dtype": "f8"
         }
        },
        {
         "type": "scatter",
         "x": [
          "2021-12-05T03:57:27.500000000",
          "2022-04-20T19:27:17.500000000",
          "2022-09-04T10:57:07.500000000",
          "2022-10-08T14:49:35.000000000",
          "2022-11-11T18:42:02.500000000",
          "2023-01-19T02:26:57.500000000",
          "2023-03-28T10:11:52.500000000",
          "2023-05-01T14:04:20.000000000",
          "2023-06-04T17:56:47.500000000",
          "2023-07-08T21:49:15.000000000",
          "2023-08-12T01:41:42.500000000",
          "2023-09-15T05:34:10.000000000",
          "2023-10-19T09:26:37.500000000",
          "2023-11-22T13:19:05.000000000"
         ],
         "y": {
          "bdata": "iXR7vQeqwD+JdHu9B6rAP4l0e70HqrA/zS45nAv/yD+JdHu9B6rQP4l0e70HqrA/iXR7vQeqwD/NLjmcC//IP4l0e70HqrA/q1HarInU1D+JdHu9B6rQP80uOZwL/8g/iXR7vQeq0D88wImkyunmPw==",
          "dtype": "f8"
         }
        },
        {
         "type": "scatter",
         "x": [
          "2022-10-08T14:49:35.000000000",
          "2022-11-11T18:42:02.500000000",
          "2023-03-28T10:11:52.500000000",
          "2023-05-01T14:04:20.000000000",
          "2023-06-04T17:56:47.500000000",
          "2023-07-08T21:49:15.000000000",
          "2023-08-12T01:41:42.500000000",
          "2023-09-15T05:34:10.000000000",
          "2023-10-19T09:26:37.500000000",
          "2023-11-22T13:19:05.000000000",
          "2023-12-26T17:11:32.500000000"
         ],
         "y": {
          "bdata": "CmP/URgawj+PFP96JCfLP48U/3okJ8s/CmP/URgawj8KY/9RGBrCP48U/3okJ8s/jxT/eiQn2z8KY/9RGBriPwpj/1EYGtI/jxT/eiQnyz+PFP96JCfbPw==",
          "dtype": "f8"
         }
        },
        {
         "type": "scatter",
         "x": [
          "2021-10-31T04:24:22.860000000",
          "2022-04-20T19:27:17.500000000",
          "2022-10-08T14:49:35.000000000",
          "2023-01-19T02:26:57.500000000",
          "2023-02-22T06:19:25.000000000",
          "2023-03-28T10:11:52.500000000",
          "2023-06-04T17:56:47.500000000",
          "2023-07-08T21:49:15.000000000",
          "2023-08-12T01:41:42.500000000",
          "2023-09-15T05:34:10.000000000",
          "2023-10-19T09:26:37.500000000",
          "2023-11-22T13:19:05.000000000",
          "2023-12-26T17:11:32.500000000"
         ],
         "y": {
          "bdata": "bDKuYV4krD9sMq5hXiSsP2wyrmFeJKw/bDKuYV4kvD9sMq5hXiSsP2wyrmFeJLw/bDKuYV4k7D/RpULJRhvVP2wyrmFeJLw/0aVCyUYbxT9sMq5hXiSsP9GlQslGG8U/bDKuYV4kvD8=",
          "dtype": "f8"
         }
        },
        {
         "type": "scatter",
         "x": [
          "2023-01-19T02:26:57.500000000",
          "2023-07-08T21:49:15.000000000",
          "2023-08-12T01:41:42.500000000",
          "2023-09-15T05:34:10.000000000",
          "2023-10-19T09:26:37.500000000",
          "2023-11-22T13:19:05.000000000"
         ],
         "y": {
          "bdata": "zvMb2XAItj/O8xvZcAjGP8LwYg+Nits/wvBiD42K6z/O8xvZcAi2P87zG9lwCMY/",
          "dtype": "f8"
         }
        },
        {
         "type": "scatter",
         "x": [
          "2022-01-08T07:49:55.000000000",
          "2023-01-19T02:26:57.500000000",
          "2023-02-22T06:19:25.000000000",
          "2023-03-28T10:11:52.500000000",
          "2023-05-01T14:04:20.000000000",
          "2023-06-04T17:56:47.500000000",
          "2023-10-19T09:26:37.500000000",
          "2023-12-26T17:11:32.500000000"
         ],
         "y": {
          "bdata": "kZ4q2cMUwz+RnirZwxTTP9ntv8Uln9w/kZ4q2cMU4z/Z7b/FJZ/cP5GeKtnDFNM/kZ4q2cMUwz+RnirZwxTDPw==",
          "dtype": "f8"
         }
        },
        {
         "type": "scatter",
         "x": [
          "2021-10-31T04:24:22.860000000",
          "2022-02-11T11:42:22.500000000",
          "2022-11-11T18:42:02.500000000",
          "2023-03-28T10:11:52.500000000",
          "2023-07-08T21:49:15.000000000",
          "2023-08-12T01:41:42.500000000",
          "2023-09-15T05:34:10.000000000",
          "2023-11-22T13:19:05.000000000",
          "2023-12-26T17:11:32.500000000"
         ],
         "y": {
          "bdata": "dM876avDxD90zzvpq8PEP3TPO+mrw8Q/dM876avDxD90zzvpq8PUP3TPO+mrw8Q/dM876avD1D90zzvpq8PkPy632d2BJd8/",
          "dtype": "f8"
         }
        }
       ],
       "layout": {
        "template": {
         "data": {
          "bar": [
           {
            "error_x": {
             "color": "#2a3f5f"
            },
            "error_y": {
             "color": "#2a3f5f"
            },
            "marker": {
             "line": {
              "color": "#E5ECF6",
              "width": 0.5
             },
             "pattern": {
              "fillmode": "overlay",
              "size": 10,
              "solidity": 0.2
             }
            },
            "type": "bar"
           }
          ],
          "barpolar": [
           {
            "marker": {
             "line": {
              "color": "#E5ECF6",
              "width": 0.5
             },
             "pattern": {
              "fillmode": "overlay",
              "size": 10,
              "solidity": 0.2
             }
            },
            "type": "barpolar"
           }
          ],
          "carpet": [
           {
            "aaxis": {
             "endlinecolor": "#2a3f5f",
             "gridcolor": "white",
             "linecolor": "white",
             "minorgridcolor": "white",
             "startlinecolor": "#2a3f5f"
            },
            "baxis": {
             "endlinecolor": "#2a3f5f",
             "gridcolor": "white",
             "linecolor": "white",
             "minorgridcolor": "white",
             "startlinecolor": "#2a3f5f"
            },
            "type": "carpet"
           }
          ],
          "choropleth": [
           {
            "colorbar": {
             "outlinewidth": 0,
             "ticks": ""
            },
            "type": "choropleth"
           }
          ],
          "contour": [
           {
            "colorbar": {
             "outlinewidth": 0,
             "ticks": ""
            },
            "colorscale": [
             [
              0,
              "#0d0887"
             ],
             [
              0.1111111111111111,
              "#46039f"
             ],
             [
              0.2222222222222222,
              "#7201a8"
             ],
             [
              0.3333333333333333,
              "#9c179e"
             ],
             [
              0.4444444444444444,
              "#bd3786"
             ],
             [
              0.5555555555555556,
              "#d8576b"
             ],
             [
              0.6666666666666666,
              "#ed7953"
             ],
             [
              0.7777777777777778,
              "#fb9f3a"
             ],
             [
              0.8888888888888888,
              "#fdca26"
             ],
             [
              1,
              "#f0f921"
             ]
            ],
            "type": "contour"
           }
          ],
          "contourcarpet": [
           {
            "colorbar": {
             "outlinewidth": 0,
             "ticks": ""
            },
            "type": "contourcarpet"
           }
          ],
          "heatmap": [
           {
            "colorbar": {
             "outlinewidth": 0,
             "ticks": ""
            },
            "colorscale": [
             [
              0,
              "#0d0887"
             ],
             [
              0.1111111111111111,
              "#46039f"
             ],
             [
              0.2222222222222222,
              "#7201a8"
             ],
             [
              0.3333333333333333,
              "#9c179e"
             ],
             [
              0.4444444444444444,
              "#bd3786"
             ],
             [
              0.5555555555555556,
              "#d8576b"
             ],
             [
              0.6666666666666666,
              "#ed7953"
             ],
             [
              0.7777777777777778,
              "#fb9f3a"
             ],
             [
              0.8888888888888888,
              "#fdca26"
             ],
             [
              1,
              "#f0f921"
             ]
            ],
            "type": "heatmap"
           }
          ],
          "histogram": [
           {
            "marker": {
             "pattern": {
              "fillmode": "overlay",
              "size": 10,
              "solidity": 0.2
             }
            },
            "type": "histogram"
           }
          ],
          "histogram2d": [
           {
            "colorbar": {
             "outlinewidth": 0,
             "ticks": ""
            },
            "colorscale": [
             [
              0,
              "#0d0887"
             ],
             [
              0.1111111111111111,
              "#46039f"
             ],
             [
              0.2222222222222222,
              "#7201a8"
             ],
             [
              0.3333333333333333,
              "#9c179e"
             ],
             [
              0.4444444444444444,
              "#bd3786"
             ],
             [
              0.5555555555555556,
              "#d8576b"
             ],
             [
              0.6666666666666666,
              "#ed7953"
             ],
             [
              0.7777777777777778,
              "#fb9f3a"
             ],
             [
              0.8888888888888888,
              "#fdca26"
             ],
             [
              1,
              "#f0f921"
             ]
            ],
            "type": "histogram2d"
           }
          ],
          "histogram2dcontour": [
           {
            "colorbar": {
             "outlinewidth": 0,
             "ticks": ""
            },
            "colorscale": [
             [
              0,
              "#0d0887"
             ],
             [
              0.1111111111111111,
              "#46039f"
             ],
             [
              0.2222222222222222,
              "#7201a8"
             ],
             [
              0.3333333333333333,
              "#9c179e"
             ],
             [
              0.4444444444444444,
              "#bd3786"
             ],
             [
              0.5555555555555556,
              "#d8576b"
             ],
             [
              0.6666666666666666,
              "#ed7953"
             ],
             [
              0.7777777777777778,
              "#fb9f3a"
             ],
             [
              0.8888888888888888,
              "#fdca26"
             ],
             [
              1,
              "#f0f921"
             ]
            ],
            "type": "histogram2dcontour"
           }
          ],
          "mesh3d": [
           {
            "colorbar": {
             "outlinewidth": 0,
             "ticks": ""
            },
            "type": "mesh3d"
           }
          ],
          "parcoords": [
           {
            "line": {
             "colorbar": {
              "outlinewidth": 0,
              "ticks": ""
             }
            },
            "type": "parcoords"
           }
          ],
          "pie": [
           {
            "automargin": true,
            "type": "pie"
           }
          ],
          "scatter": [
           {
            "fillpattern": {
             "fillmode": "overlay",
             "size": 10,
             "solidity": 0.2
            },
            "type": "scatter"
           }
          ],
          "scatter3d": [
           {
            "line": {
             "colorbar": {
              "outlinewidth": 0,
              "ticks": ""
             }
            },
            "marker": {
             "colorbar": {
              "outlinewidth": 0,
              "ticks": ""
             }
            },
            "type": "scatter3d"
           }
          ],
          "scattercarpet": [
           {
            "marker": {
             "colorbar": {
              "outlinewidth": 0,
              "ticks": ""
             }
            },
            "type": "scattercarpet"
           }
          ],
          "scattergeo": [
           {
            "marker": {
             "colorbar": {
              "outlinewidth": 0,
              "ticks": ""
             }
            },
            "type": "scattergeo"
           }
          ],
          "scattergl": [
           {
            "marker": {
             "colorbar": {
              "outlinewidth": 0,
              "ticks": ""
             }
            },
            "type": "scattergl"
           }
          ],
          "scattermap": [
           {
            "marker": {
             "colorbar": {
              "outlinewidth": 0,
              "ticks": ""
             }
            },
            "type": "scattermap"
           }
          ],
          "scattermapbox": [
           {
            "marker": {
             "colorbar": {
              "outlinewidth": 0,
              "ticks": ""
             }
            },
            "type": "scattermapbox"
           }
          ],
          "scatterpolar": [
           {
            "marker": {
             "colorbar": {
              "outlinewidth": 0,
              "ticks": ""
             }
            },
            "type": "scatterpolar"
           }
          ],
          "scatterpolargl": [
           {
            "marker": {
             "colorbar": {
              "outlinewidth": 0,
              "ticks": ""
             }
            },
            "type": "scatterpolargl"
           }
          ],
          "scatterternary": [
           {
            "marker": {
             "colorbar": {
              "outlinewidth": 0,
              "ticks": ""
             }
            },
            "type": "scatterternary"
           }
          ],
          "surface": [
           {
            "colorbar": {
             "outlinewidth": 0,
             "ticks": ""
            },
            "colorscale": [
             [
              0,
              "#0d0887"
             ],
             [
              0.1111111111111111,
              "#46039f"
             ],
             [
              0.2222222222222222,
              "#7201a8"
             ],
             [
              0.3333333333333333,
              "#9c179e"
             ],
             [
              0.4444444444444444,
              "#bd3786"
             ],
             [
              0.5555555555555556,
              "#d8576b"
             ],
             [
              0.6666666666666666,
              "#ed7953"
             ],
             [
              0.7777777777777778,
              "#fb9f3a"
             ],
             [
              0.8888888888888888,
              "#fdca26"
             ],
             [
              1,
              "#f0f921"
             ]
            ],
            "type": "surface"
           }
          ],
          "table": [
           {
            "cells": {
             "fill": {
              "color": "#EBF0F8"
             },
             "line": {
              "color": "white"
             }
            },
            "header": {
             "fill": {
              "color": "#C8D4E3"
             },
             "line": {
              "color": "white"
             }
            },
            "type": "table"
           }
          ]
         },
         "layout": {
          "annotationdefaults": {
           "arrowcolor": "#2a3f5f",
           "arrowhead": 0,
           "arrowwidth": 1
          },
          "autotypenumbers": "strict",
          "coloraxis": {
           "colorbar": {
            "outlinewidth": 0,
            "ticks": ""
           }
          },
          "colorscale": {
           "diverging": [
            [
             0,
             "#8e0152"
            ],
            [
             0.1,
             "#c51b7d"
            ],
            [
             0.2,
             "#de77ae"
            ],
            [
             0.3,
             "#f1b6da"
            ],
            [
             0.4,
             "#fde0ef"
            ],
            [
             0.5,
             "#f7f7f7"
            ],
            [
             0.6,
             "#e6f5d0"
            ],
            [
             0.7,
             "#b8e186"
            ],
            [
             0.8,
             "#7fbc41"
            ],
            [
             0.9,
             "#4d9221"
            ],
            [
             1,
             "#276419"
            ]
           ],
           "sequential": [
            [
             0,
             "#0d0887"
            ],
            [
             0.1111111111111111,
             "#46039f"
            ],
            [
             0.2222222222222222,
             "#7201a8"
            ],
            [
             0.3333333333333333,
             "#9c179e"
            ],
            [
             0.4444444444444444,
             "#bd3786"
            ],
            [
             0.5555555555555556,
             "#d8576b"
            ],
            [
             0.6666666666666666,
             "#ed7953"
            ],
            [
             0.7777777777777778,
             "#fb9f3a"
            ],
            [
             0.8888888888888888,
             "#fdca26"
            ],
            [
             1,
             "#f0f921"
            ]
           ],
           "sequentialminus": [
            [
             0,
             "#0d0887"
            ],
            [
             0.1111111111111111,
             "#46039f"
            ],
            [
             0.2222222222222222,
             "#7201a8"
            ],
            [
             0.3333333333333333,
             "#9c179e"
            ],
            [
             0.4444444444444444,
             "#bd3786"
            ],
            [
             0.5555555555555556,
             "#d8576b"
            ],
            [
             0.6666666666666666,
             "#ed7953"
            ],
            [
             0.7777777777777778,
             "#fb9f3a"
            ],
            [
             0.8888888888888888,
             "#fdca26"
            ],
            [
             1,
             "#f0f921"
            ]
           ]
          },
          "colorway": [
           "#636efa",
           "#EF553B",
           "#00cc96",
           "#ab63fa",
           "#FFA15A",
           "#19d3f3",
           "#FF6692",
           "#B6E880",
           "#FF97FF",
           "#FECB52"
          ],
          "font": {
           "color": "#2a3f5f"
          },
          "geo": {
           "bgcolor": "white",
           "lakecolor": "white",
           "landcolor": "#E5ECF6",
           "showlakes": true,
           "showland": true,
           "subunitcolor": "white"
          },
          "hoverlabel": {
           "align": "left"
          },
          "hovermode": "closest",
          "mapbox": {
           "style": "light"
          },
          "paper_bgcolor": "white",
          "plot_bgcolor": "#E5ECF6",
          "polar": {
           "angularaxis": {
            "gridcolor": "white",
            "linecolor": "white",
            "ticks": ""
           },
           "bgcolor": "#E5ECF6",
           "radialaxis": {
            "gridcolor": "white",
            "linecolor": "white",
            "ticks": ""
           }
          },
          "scene": {
           "xaxis": {
            "backgroundcolor": "#E5ECF6",
            "gridcolor": "white",
            "gridwidth": 2,
            "linecolor": "white",
            "showbackground": true,
            "ticks": "",
            "zerolinecolor": "white"
           },
           "yaxis": {
            "backgroundcolor": "#E5ECF6",
            "gridcolor": "white",
            "gridwidth": 2,
            "linecolor": "white",
            "showbackground": true,
            "ticks": "",
            "zerolinecolor": "white"
           },
           "zaxis": {
            "backgroundcolor": "#E5ECF6",
            "gridcolor": "white",
            "gridwidth": 2,
            "linecolor": "white",
            "showbackground": true,
            "ticks": "",
            "zerolinecolor": "white"
           }
          },
          "shapedefaults": {
           "line": {
            "color": "#2a3f5f"
           }
          },
          "ternary": {
           "aaxis": {
            "gridcolor": "white",
            "linecolor": "white",
            "ticks": ""
           },
           "baxis": {
            "gridcolor": "white",
            "linecolor": "white",
            "ticks": ""
           },
           "bgcolor": "#E5ECF6",
           "caxis": {
            "gridcolor": "white",
            "linecolor": "white",
            "ticks": ""
           }
          },
          "title": {
           "x": 0.05
          },
          "xaxis": {
           "automargin": true,
           "gridcolor": "white",
           "linecolor": "white",
           "ticks": "",
           "title": {
            "standoff": 15
           },
           "zerolinecolor": "white",
           "zerolinewidth": 2
          },
          "yaxis": {
           "automargin": true,
           "gridcolor": "white",
           "linecolor": "white",
           "ticks": "",
           "title": {
            "standoff": 15
           },
           "zerolinecolor": "white",
           "zerolinewidth": 2
          }
         }
        },
        "title": {
         "text": "Topics Over Time"
        },
        "xaxis": {
         "title": {
          "text": "Time"
         }
        },
        "yaxis": {
         "title": {
          "text": "Frequency"
         }
        }
       }
      }
     },
     "metadata": {},
     "output_type": "display_data"
    }
   ],
   "source": [
    "fig, data_over_time_ds = visualize_topics_over_time_data(model, topics_over_timet, topics=[0, 1, 2, 41, 52, 54, 61, 64, 126, 143, 160])\n",
    "pio.show(fig)"
   ]
  },
  {
   "cell_type": "code",
   "execution_count": 45,
   "id": "25ac840e-e60d-4438-afc0-3c4947164303",
   "metadata": {
    "tags": []
   },
   "outputs": [
    {
     "name": "stdout",
     "output_type": "stream",
     "text": [
      "<class 'pandas.core.frame.DataFrame'>\n",
      "RangeIndex: 24 entries, 0 to 23\n",
      "Data columns (total 2 columns):\n",
      " #   Column     Non-Null Count  Dtype         \n",
      "---  ------     --------------  -----         \n",
      " 0   date       24 non-null     datetime64[ns]\n",
      " 1   frequency  24 non-null     float64       \n",
      "dtypes: datetime64[ns](1), float64(1)\n",
      "memory usage: 512.0 bytes\n"
     ]
    }
   ],
   "source": [
    "data_over_time_ds[1].info()"
   ]
  },
  {
   "cell_type": "code",
   "execution_count": 46,
   "id": "d775bb8b-217f-42c5-aaf6-06cf01bc74f7",
   "metadata": {
    "tags": []
   },
   "outputs": [],
   "source": [
    "import pickle\n",
    "\n",
    "directorio_actual = os.getcwd()\n",
    "data_ts           = os.path.join(directorio_actual, 'data', 'processed', 'data_over_time_ds.pickle')\n",
    "\n",
    "with open(data_ts, 'wb') as f:\n",
    "    pickle.dump(data_over_time_ds, f)"
   ]
  }
 ],
 "metadata": {
  "kernelspec": {
   "display_name": "venv",
   "language": "python",
   "name": "python3"
  },
  "language_info": {
   "codemirror_mode": {
    "name": "ipython",
    "version": 3
   },
   "file_extension": ".py",
   "mimetype": "text/x-python",
   "name": "python",
   "nbconvert_exporter": "python",
   "pygments_lexer": "ipython3",
   "version": "3.10.0"
  }
 },
 "nbformat": 4,
 "nbformat_minor": 5
}
